{
  "nbformat": 4,
  "nbformat_minor": 0,
  "metadata": {
    "colab": {
      "provenance": []
    },
    "kernelspec": {
      "name": "python3",
      "display_name": "Python 3"
    },
    "language_info": {
      "name": "python"
    }
  },
  "cells": [
    {
      "cell_type": "code",
      "execution_count": 16,
      "metadata": {
        "id": "nbnQdCvbU96p"
      },
      "outputs": [],
      "source": [
        "from collections import deque\n",
        "import heapq"
      ]
    },
    {
      "cell_type": "code",
      "source": [
        "def read_graph():\n",
        "    graph = {\n",
        "        'A': [('B', 1), ('C', 4)],\n",
        "        'B': [('D', 2)],\n",
        "        'C': [('D', 1)],\n",
        "        'D': [('E', 3)],\n",
        "        'E': []\n",
        "    }\n",
        "    return graph\n",
        "\n",
        "def read_heuristics():\n",
        "    heuristics = {\n",
        "        'A': 7,\n",
        "        'B': 6,\n",
        "        'C': 2,\n",
        "        'D': 1,\n",
        "        'E': 0\n",
        "    }\n",
        "    return heuristics"
      ],
      "metadata": {
        "id": "VR8SODCZYbkf"
      },
      "execution_count": 17,
      "outputs": []
    },
    {
      "cell_type": "code",
      "source": [
        "# Depth-First Search (DFS)\n",
        "def dfs(graph, start, goal):\n",
        "    stack = [(start, [start])]\n",
        "    while stack:\n",
        "        node, path = stack.pop()\n",
        "        if node == goal:\n",
        "            return path, len(path) - 1\n",
        "        for neighbor, _ in reversed(graph[node]):  # Reverse to maintain correct order\n",
        "            if neighbor not in path:\n",
        "                stack.append((neighbor, path + [neighbor]))\n",
        "    return None, float('inf')"
      ],
      "metadata": {
        "id": "c5dFXJAgYpOu"
      },
      "execution_count": 18,
      "outputs": []
    },
    {
      "cell_type": "code",
      "source": [
        "# Uniform Cost Search (UCS)\n",
        "def ucs(graph, start, goal):\n",
        "    pq = [(0, start, [start])]\n",
        "    visited = {}\n",
        "    while pq:\n",
        "        cost, node, path = heapq.heappop(pq)\n",
        "        if node in visited and visited[node] <= cost:\n",
        "            continue\n",
        "        visited[node] = cost\n",
        "        if node == goal:\n",
        "            return path, cost\n",
        "        for neighbor, edge_cost in graph[node]:\n",
        "            new_cost = cost + edge_cost\n",
        "            if neighbor not in visited or new_cost < visited[neighbor]:\n",
        "                heapq.heappush(pq, (new_cost, neighbor, path + [neighbor]))\n",
        "    return None, float('inf')"
      ],
      "metadata": {
        "id": "6Wp2KbPZYsxa"
      },
      "execution_count": 19,
      "outputs": []
    },
    {
      "cell_type": "code",
      "source": [
        "# A* Search Algorithm\n",
        "def astar(graph, heuristics, start, goal):\n",
        "    pq = [(heuristics[start], 0, start, [start])]\n",
        "    visited = {}\n",
        "    while pq:\n",
        "        _, cost, node, path = heapq.heappop(pq)\n",
        "        if node in visited and visited[node] <= cost:\n",
        "            continue\n",
        "        visited[node] = cost\n",
        "        if node == goal:\n",
        "            return path, cost\n",
        "        for neighbor, edge_cost in graph[node]:\n",
        "            new_cost = cost + edge_cost\n",
        "            f_cost = new_cost + heuristics[neighbor]\n",
        "            if neighbor not in visited or new_cost < visited[neighbor]:\n",
        "                heapq.heappush(pq, (f_cost, new_cost, neighbor, path + [neighbor]))\n",
        "    return None, float('inf')\n"
      ],
      "metadata": {
        "id": "qDGqacxqYweC"
      },
      "execution_count": 20,
      "outputs": []
    },
    {
      "cell_type": "code",
      "source": [
        "if __name__ == \"__main__\":\n",
        "    graph = read_graph()\n",
        "    heuristics = read_heuristics()\n",
        "    start, goal = 'A', 'E'\n",
        "\n",
        "    bfs_path, bfs_cost = bfs(graph, start, goal)\n",
        "    print(f\"BFS Path: {bfs_path}, Cost: {bfs_cost}\")\n",
        "\n",
        "    dfs_path, dfs_cost = dfs(graph, start, goal)\n",
        "    print(f\"DFS Path: {dfs_path}, Cost: {dfs_cost}\")\n",
        "\n",
        "    ucs_path, ucs_cost = ucs(graph, start, goal)\n",
        "    print(f\"UCS Path: {ucs_path}, Cost: {ucs_cost}\")\n",
        "\n",
        "    astar_path, astar_cost = astar(graph, heuristics, start, goal)\n",
        "    print(f\"A* Path: {astar_path}, Cost: {astar_cost}\")"
      ],
      "metadata": {
        "colab": {
          "base_uri": "https://localhost:8080/"
        },
        "id": "FH2Mq7mWY0l_",
        "outputId": "7659fb26-136b-4eeb-e813-a0cac716f46e"
      },
      "execution_count": 21,
      "outputs": [
        {
          "output_type": "stream",
          "name": "stdout",
          "text": [
            "BFS Path: ['A', 'B', 'D', 'E'], Cost: 3\n",
            "DFS Path: ['A', 'B', 'D', 'E'], Cost: 3\n",
            "UCS Path: ['A', 'B', 'D', 'E'], Cost: 6\n",
            "A* Path: ['A', 'B', 'D', 'E'], Cost: 6\n"
          ]
        }
      ]
    }
  ]
}