{
  "nbformat": 4,
  "nbformat_minor": 0,
  "metadata": {
    "colab": {
      "provenance": []
    },
    "kernelspec": {
      "name": "python3",
      "display_name": "Python 3"
    },
    "language_info": {
      "name": "python"
    }
  },
  "cells": [
    {
      "cell_type": "code",
      "source": [
        "!pip install -U scikit-fuzzy"
      ],
      "metadata": {
        "colab": {
          "base_uri": "https://localhost:8080/"
        },
        "id": "jB4MJOckfFtJ",
        "outputId": "314b9f15-ff4b-4485-85c2-e515f12184d3"
      },
      "execution_count": 2,
      "outputs": [
        {
          "output_type": "stream",
          "name": "stdout",
          "text": [
            "Collecting scikit-fuzzy\n",
            "  Downloading scikit_fuzzy-0.5.0-py2.py3-none-any.whl.metadata (2.6 kB)\n",
            "Downloading scikit_fuzzy-0.5.0-py2.py3-none-any.whl (920 kB)\n",
            "\u001b[?25l   \u001b[90m━━━━━━━━━━━━━━━━━━━━━━━━━━━━━━━━━━━━━━━━\u001b[0m \u001b[32m0.0/920.8 kB\u001b[0m \u001b[31m?\u001b[0m eta \u001b[36m-:--:--\u001b[0m\r\u001b[2K   \u001b[91m━━━━━━━\u001b[0m\u001b[90m╺\u001b[0m\u001b[90m━━━━━━━━━━━━━━━━━━━━━━━━━━━━━━━━\u001b[0m \u001b[32m163.8/920.8 kB\u001b[0m \u001b[31m5.2 MB/s\u001b[0m eta \u001b[36m0:00:01\u001b[0m\r\u001b[2K   \u001b[91m━━━━━━━━━━━━━━━━━━━━━━━━━━━━━━━━━━━━━━━\u001b[0m\u001b[91m╸\u001b[0m \u001b[32m911.4/920.8 kB\u001b[0m \u001b[31m15.0 MB/s\u001b[0m eta \u001b[36m0:00:01\u001b[0m\r\u001b[2K   \u001b[90m━━━━━━━━━━━━━━━━━━━━━━━━━━━━━━━━━━━━━━━━\u001b[0m \u001b[32m920.8/920.8 kB\u001b[0m \u001b[31m11.3 MB/s\u001b[0m eta \u001b[36m0:00:00\u001b[0m\n",
            "\u001b[?25hInstalling collected packages: scikit-fuzzy\n",
            "Successfully installed scikit-fuzzy-0.5.0\n"
          ]
        }
      ]
    },
    {
      "cell_type": "code",
      "source": [
        "import numpy as np\n",
        "import skfuzzy as fuzz\n",
        "from skfuzzy import control as ctrl\n",
        "\n",
        "# Definir las variables difusas de entrada (hora del día y ocupación) y la salida (intensidad de la luz)\n",
        "time_of_day = ctrl.Antecedent(np.arange(0, 24, 1), 'time_of_day')  # Rango de 0 a 24 horas\n",
        "occupancy = ctrl.Antecedent(np.arange(0, 2, 1), 'occupancy')  # 0: Desocupado, 1: Ocupado\n",
        "lighting = ctrl.Consequent(np.arange(0, 101, 1), 'lighting')  # Intensidad de luz de 0 a 100%\n",
        "\n",
        "# conjuntos difusos para 'time_of_day'\n",
        "time_of_day['morning'] = fuzz.trimf(time_of_day.universe, [6, 8, 12])# Mañana: 6 AM - 12 PM\n",
        "time_of_day['afternoon'] = fuzz.trimf(time_of_day.universe, [12, 15, 18])# Tarde: 12 PM - 6 PM\n",
        "time_of_day['evening'] = fuzz.trimf(time_of_day.universe, [18, 20, 21])# Tarde-noche: 6 PM - 9 PM\n",
        "time_of_day['night'] = fuzz.trimf(time_of_day.universe, [21, 24, 30])\n",
        "# Noche: 9 PM - 6 AM (se extiende a 30 para manejar medianoche)\n",
        "\n",
        "# Definir los conjuntos difusos para 'occupancy'\n",
        "occupancy['unoccupied'] = fuzz.trimf(occupancy.universe, [0, 0, 1])\n",
        "occupancy['occupied'] = fuzz.trimf(occupancy.universe, [0, 1, 1])\n",
        "\n",
        "# Definir los conjuntos difusos para 'lighting'\n",
        "lighting['off'] = fuzz.trimf(lighting.universe, [0, 0, 25])\n",
        "lighting['low'] = fuzz.trimf(lighting.universe, [0, 25, 50])\n",
        "lighting['medium'] = fuzz.trimf(lighting.universe, [25, 50, 75])\n",
        "lighting['high'] = fuzz.trimf(lighting.universe, [50, 100, 100])\n",
        "\n",
        "# Pedir al usuario sus preferencias de iluminación para diferentes momentos del día\n",
        "print(\"Por favor, configure sus preferencias de iluminación:\")\n",
        "user_preferences = {\n",
        "    'morning': int(input(\"Nivel de iluminación para la mañana (0-100%): \")),\n",
        "    'afternoon': int(input(\"Nivel de iluminación para la tarde (0-100%): \")),\n",
        "    'evening': int(input(\"Nivel de iluminación para la tarde-noche (0-100%): \")),\n",
        "    'night': int(input(\"Nivel de iluminación para la noche (0-100%): \"))\n",
        "}\n",
        "\n",
        "# Ajustar reglas en base a las preferencias del usuario\n",
        "if user_preferences['morning'] == 0:\n",
        "    rule1 = ctrl.Rule(time_of_day['morning'] & occupancy['occupied'], lighting['off'])\n",
        "elif user_preferences['morning'] <= 25:\n",
        "    rule1 = ctrl.Rule(time_of_day['morning'] & occupancy['occupied'], lighting['off'])\n",
        "elif user_preferences['morning'] <= 50:\n",
        "    rule1 = ctrl.Rule(time_of_day['morning'] & occupancy['occupied'], lighting['low'])\n",
        "elif user_preferences['morning'] <= 75:\n",
        "    rule1 = ctrl.Rule(time_of_day['morning'] & occupancy['occupied'], lighting['medium'])\n",
        "else:\n",
        "    rule1 = ctrl.Rule(time_of_day['morning'] & occupancy['occupied'], lighting['high'])\n",
        "\n",
        "if user_preferences['afternoon'] == 0:\n",
        "    rule2 = ctrl.Rule(time_of_day['afternoon'] & occupancy['occupied'], lighting['off'])\n",
        "elif user_preferences['afternoon'] <= 25:\n",
        "    rule2 = ctrl.Rule(time_of_day['afternoon'] & occupancy['occupied'], lighting['off'])\n",
        "elif user_preferences['afternoon'] <= 50:\n",
        "    rule2 = ctrl.Rule(time_of_day['afternoon'] & occupancy['occupied'], lighting['low'])\n",
        "elif user_preferences['afternoon'] <= 75:\n",
        "    rule2 = ctrl.Rule(time_of_day['afternoon'] & occupancy['occupied'], lighting['medium'])\n",
        "else:\n",
        "    rule2 = ctrl.Rule(time_of_day['afternoon'] & occupancy['occupied'], lighting['high'])\n",
        "\n",
        "if user_preferences['evening'] == 0:\n",
        "    rule3 = ctrl.Rule(time_of_day['evening'] & occupancy['occupied'], lighting['off'])\n",
        "elif user_preferences['evening'] <= 25:\n",
        "    rule3 = ctrl.Rule(time_of_day['evening'] & occupancy['occupied'], lighting['off'])\n",
        "elif user_preferences['evening'] <= 50:\n",
        "    rule3 = ctrl.Rule(time_of_day['evening'] & occupancy['occupied'], lighting['low'])\n",
        "elif user_preferences['evening'] <= 75:\n",
        "    rule3 = ctrl.Rule(time_of_day['evening'] & occupancy['occupied'], lighting['medium'])\n",
        "else:\n",
        "    rule3 = ctrl.Rule(time_of_day['evening'] & occupancy['occupied'], lighting['high'])\n",
        "\n",
        "if user_preferences['night'] == 0:\n",
        "    rule4 = ctrl.Rule(time_of_day['night'] & occupancy['unoccupied'], lighting['off'])\n",
        "elif user_preferences['night'] <= 25:\n",
        "    rule4 = ctrl.Rule(time_of_day['night'] & occupancy['unoccupied'], lighting['off'])\n",
        "elif user_preferences['night'] <= 50:\n",
        "    rule4 = ctrl.Rule(time_of_day['night'] & occupancy['unoccupied'], lighting['low'])\n",
        "elif user_preferences['night'] <= 75:\n",
        "    rule4 = ctrl.Rule(time_of_day['night'] & occupancy['unoccupied'], lighting['medium'])\n",
        "else:\n",
        "    rule4 = ctrl.Rule(time_of_day['night'] & occupancy['unoccupied'], lighting['high'])\n",
        "\n",
        "\n",
        "\n",
        "\n",
        "# Definir reglas adicionales para cuando la ocupación es 'unoccupied' (desocupada)\n",
        "rule5 = ctrl.Rule(time_of_day['morning'] & occupancy['unoccupied'], lighting['off'])\n",
        "rule6 = ctrl.Rule(time_of_day['afternoon'] & occupancy['unoccupied'], lighting['off'])\n",
        "rule7 = ctrl.Rule(time_of_day['evening'] & occupancy['unoccupied'], lighting['off'])\n",
        "rule8 = ctrl.Rule(time_of_day['night'] & occupancy['unoccupied'], lighting['off'])\n",
        "\n",
        "# Crear el sistema de control difuso con todas las reglas\n",
        "lighting_ctrl = ctrl.ControlSystem([rule1, rule2, rule3, rule4, rule5, rule6, rule7, rule8])\n",
        "lighting_simulation = ctrl.ControlSystemSimulation(lighting_ctrl)\n",
        "\n",
        "# se definen ejemplos de entrada (hora del dia y si la habitacion esta ocupada, 1 esta ocupada, 0 desocupada)\n",
        "example_data = [\n",
        "    {'time': 7, 'occupancy': 1},  # Mañana ocupada\n",
        "    {'time': 13, 'occupancy': 0},  # Tarde desocupada\n",
        "    {'time': 19, 'occupancy': 1},  # Tarde-noche ocupada\n",
        "    {'time': 23, 'occupancy': 0},  # Noche desocupada\n",
        "]\n",
        "\n",
        "# Simular las condiciones para los ejemplos\n",
        "for example in example_data:\n",
        "    lighting_simulation.input['time_of_day'] = example['time']\n",
        "    lighting_simulation.input['occupancy'] = example['occupancy']\n",
        "\n",
        "    # Calcular la intensidad de la luz\n",
        "    lighting_simulation.compute()\n",
        "    output_lighting = lighting_simulation.output.get('lighting', None)\n",
        "\n",
        "    # Verificar si se genera una salida y mostrar el resultado\n",
        "    if output_lighting is not None:\n",
        "        print(f\"Para la hora {example['time']} y ocupación {example['occupancy']}: La intensidad de la luz es {output_lighting:.2f}%\")\n",
        "    else:\n",
        "        print(f\"Para la hora {example['time']} y ocupación {example['occupancy']}: No se pudo generar una salida de iluminación\")\n"
      ],
      "metadata": {
        "colab": {
          "base_uri": "https://localhost:8080/"
        },
        "id": "hJ2Pa7p7jlrC",
        "outputId": "c6e97e57-d39e-4b35-d4be-8f101126cace"
      },
      "execution_count": 20,
      "outputs": [
        {
          "output_type": "stream",
          "name": "stdout",
          "text": [
            "Por favor, configure sus preferencias de iluminación:\n",
            "Nivel de iluminación para la mañana (0-100%): 5\n",
            "Nivel de iluminación para la tarde (0-100%): 20\n",
            "Nivel de iluminación para la tarde-noche (0-100%): 50\n",
            "Nivel de iluminación para la noche (0-100%): 2\n",
            "Para la hora 7 y ocupación 1: La intensidad de la luz es 9.72%\n",
            "Para la hora 13 y ocupación 0: La intensidad de la luz es 10.56%\n",
            "Para la hora 19 y ocupación 1: La intensidad de la luz es 25.00%\n",
            "Para la hora 23 y ocupación 0: La intensidad de la luz es 9.03%\n"
          ]
        }
      ]
    }
  ]
}