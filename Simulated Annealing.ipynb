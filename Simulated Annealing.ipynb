{
 "cells": [
  {
   "cell_type": "code",
   "execution_count": 1,
   "metadata": {},
   "outputs": [],
   "source": [
    "import math\n",
    "import random\n",
    "\n",
    "def simulated_annealing(initial_temperature=1000, cooling_rate=0.95):\n",
    "    x = random.uniform(-10, 10)\n",
    "    temperature = initial_temperature\n",
    "    \n",
    "    def cost(x):\n",
    "        return 3*x**2 + 2*x + 1\n",
    "    \n",
    "    current_cost = cost(x)\n",
    "    \n",
    "    while temperature > 0.01:\n",
    "        new_x = x + random.uniform(-1, 1)\n",
    "        new_cost = cost(new_x)\n",
    "        \n",
    "        if new_cost < current_cost or random.random() < math.exp((current_cost - new_cost) / temperature):\n",
    "            x = new_x\n",
    "            current_cost = new_cost\n",
    "        \n",
    "        temperature *= cooling_rate\n",
    "    \n",
    "    return x\n"
   ]
  },
  {
   "cell_type": "code",
   "execution_count": 2,
   "metadata": {},
   "outputs": [
    {
     "name": "stdout",
     "output_type": "stream",
     "text": [
      "Simulated Annealing: x = -0.3277403022190031\n"
     ]
    }
   ],
   "source": [
    "x_sa = simulated_annealing()\n",
    "print(f\"Simulated Annealing: x = {x_sa}\")"
   ]
  }
 ],
 "metadata": {
  "kernelspec": {
   "display_name": "Python 3",
   "language": "python",
   "name": "python3"
  },
  "language_info": {
   "codemirror_mode": {
    "name": "ipython",
    "version": 3
   },
   "file_extension": ".py",
   "mimetype": "text/x-python",
   "name": "python",
   "nbconvert_exporter": "python",
   "pygments_lexer": "ipython3",
   "version": "3.11.9"
  }
 },
 "nbformat": 4,
 "nbformat_minor": 2
}
