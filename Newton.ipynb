{
 "cells": [
  {
   "cell_type": "code",
   "execution_count": 1,
   "id": "132733e0-eedf-416d-a118-2133efe9f391",
   "metadata": {},
   "outputs": [],
   "source": [
    "import numpy as np\n",
    "import sympy as sp"
   ]
  },
  {
   "cell_type": "code",
   "execution_count": 2,
   "id": "b3bfa99d-3eb2-4615-8748-81a0928df027",
   "metadata": {},
   "outputs": [],
   "source": [
    "def newton_method(f_prime, f_double_prime, x0, tol, max_iter):\n",
    "    xn = x0\n",
    "    for n in range(max_iter):\n",
    "        fxn_prime = f_prime(xn)\n",
    "        if abs(fxn_prime) < tol:\n",
    "            print(f\"Converged in {n} iterations.\")\n",
    "            return xn\n",
    "        Dfxn = f_double_prime(xn)\n",
    "        if Dfxn == 0:\n",
    "            print(\"Zero second derivative. No solution found.\")\n",
    "            return None\n",
    "        xn = xn - fxn_prime / Dfxn\n",
    "    print(\"Max iterations exceeded.\")\n",
    "    return xn"
   ]
  },
  {
   "cell_type": "code",
   "execution_count": 3,
   "id": "0d7c7bc7-4f22-4639-be2f-96397437e6e4",
   "metadata": {},
   "outputs": [
    {
     "name": "stdout",
     "output_type": "stream",
     "text": [
      "Converged in 1 iterations.\n",
      "Método de Newton: La solución es x = (-0.33333333333333337-1.3877787807814457e-17j)\n"
     ]
    }
   ],
   "source": [
    "x = sp.symbols('x')\n",
    "f_sym = 3*x**2 + 2*x + 1\n",
    "f_prime_sym = sp.diff(f_sym, x)\n",
    "f_double_prime_sym = sp.diff(f_prime_sym, x)\n",
    "\n",
    "# Convertir a funciones numéricas\n",
    "f_prime = sp.lambdify(x, f_prime_sym, 'numpy')\n",
    "f_double_prime = sp.lambdify(x, f_double_prime_sym, 'numpy')\n",
    "\n",
    "x0 = complex(0.1, 0.1)  # Punto inicial complejo\n",
    "tol = 1e-6\n",
    "max_iter = 100\n",
    "\n",
    "\n",
    "min_x_newton = newton_method(f_prime, f_double_prime, x0,tol,max_iter)\n",
    "print(\"Método de Newton: La solución es x =\", min_x_newton)"
   ]
  }
 ],
 "metadata": {
  "kernelspec": {
   "display_name": "Python 3 (ipykernel)",
   "language": "python",
   "name": "python3"
  },
  "language_info": {
   "codemirror_mode": {
    "name": "ipython",
    "version": 3
   },
   "file_extension": ".py",
   "mimetype": "text/x-python",
   "name": "python",
   "nbconvert_exporter": "python",
   "pygments_lexer": "ipython3",
   "version": "3.12.2"
  }
 },
 "nbformat": 4,
 "nbformat_minor": 5
}
