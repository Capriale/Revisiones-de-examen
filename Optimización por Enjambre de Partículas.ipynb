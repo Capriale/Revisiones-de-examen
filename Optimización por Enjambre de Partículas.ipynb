{
 "cells": [
  {
   "cell_type": "code",
   "execution_count": 1,
   "id": "ecb07051-4d67-4ce6-9293-7ed0aff2c198",
   "metadata": {},
   "outputs": [],
   "source": [
    "from pyswarm import pso\n",
    "import sympy as sp"
   ]
  },
  {
   "cell_type": "code",
   "execution_count": 2,
   "id": "955a303a-8fd6-482c-9bd9-2db7d4b026f1",
   "metadata": {},
   "outputs": [],
   "source": [
    "def pso_algorithm():\n",
    "    lb = [-10]  # Límite inferior\n",
    "    ub = [10]   # Límite superior\n",
    "    xopt, fopt = pso(f, lb, ub)\n",
    "    return xopt"
   ]
  },
  {
   "cell_type": "code",
   "execution_count": 3,
   "id": "32bb9ca1-1f97-4137-935e-0f59f9007a38",
   "metadata": {},
   "outputs": [
    {
     "name": "stdout",
     "output_type": "stream",
     "text": [
      "Stopping search: Swarm best objective change less than 1e-08\n",
      "Optimización por enjambre de partículas (PSO): La solución es x = -0.33333434390380096\n"
     ]
    }
   ],
   "source": [
    "x = sp.symbols('x')\n",
    "f_sym = 3*x**2 + 2*x + 1\n",
    "\n",
    "f = sp.lambdify(x, f_sym, 'numpy')\n",
    "\n",
    "min_x_pso = pso_algorithm()\n",
    "print(\"Optimización por enjambre de partículas (PSO): La solución es x =\", min_x_pso[0])"
   ]
  }
 ],
 "metadata": {
  "kernelspec": {
   "display_name": "Python 3 (ipykernel)",
   "language": "python",
   "name": "python3"
  },
  "language_info": {
   "codemirror_mode": {
    "name": "ipython",
    "version": 3
   },
   "file_extension": ".py",
   "mimetype": "text/x-python",
   "name": "python",
   "nbconvert_exporter": "python",
   "pygments_lexer": "ipython3",
   "version": "3.12.2"
  }
 },
 "nbformat": 4,
 "nbformat_minor": 5
}
