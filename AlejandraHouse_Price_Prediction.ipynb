{
  "nbformat": 4,
  "nbformat_minor": 0,
  "metadata": {
    "colab": {
      "provenance": []
    },
    "kernelspec": {
      "name": "python3",
      "display_name": "Python 3"
    },
    "language_info": {
      "name": "python"
    }
  },
  "cells": [
    {
      "cell_type": "markdown",
      "source": [
        "# Case 3 House Price Prediction"
      ],
      "metadata": {
        "id": "GF7wDTRZLGBs"
      }
    },
    {
      "cell_type": "markdown",
      "source": [
        "Este código implementa un sistema de detección de información sobre casas, con características como la ubicación, el tamaño en pies cuadrados, el número de habitaciones, la antigüedad y el precio de venta.\n",
        "\n",
        "Permite al usuario ingresar un mensaje y clasificar las especificaciones para encontrar una estimación de precio."
      ],
      "metadata": {
        "id": "tulbLg0ePyFM"
      }
    },
    {
      "cell_type": "code",
      "source": [
        "#Librerias\n",
        "\n",
        "import pandas as pd\n",
        "from sklearn.model_selection import train_test_split\n",
        "from sklearn.linear_model import LinearRegression\n",
        "from sklearn.metrics import mean_absolute_error, mean_squared_error\n",
        "import numpy as np"
      ],
      "metadata": {
        "id": "5LdBcEvNPAPb"
      },
      "execution_count": 11,
      "outputs": []
    },
    {
      "cell_type": "code",
      "source": [
        "import pandas as pd\n",
        "from sklearn.model_selection import train_test_split\n",
        "from sklearn.linear_model import LinearRegression\n",
        "from sklearn.metrics import mean_absolute_error, mean_squared_error\n",
        "import numpy as np\n",
        "\n",
        "# Definimos las probabilidades previas y condicionales\n",
        "data = {\n",
        "    'Location': ['Downtown', 'Suburb', 'Rural', 'Urban', 'Coastal'],\n",
        "    'Size (sqft)': [1200, 1800, 2400, 1500, 2000],\n",
        "    'Bedrooms': [3, 4, 5, 3, 4],\n",
        "    'Age (years)': [10, 5, 15, 7, 8],\n",
        "    'Price ($)': [350000, 420000, 300000, 375000, 450000]\n",
        "}\n",
        "\n",
        "df = pd.DataFrame(data)\n",
        "\n",
        "# Generar variables dummy para 'Location' sin eliminar ninguna categoría\n",
        "df = pd.get_dummies(df, columns=['Location'], drop_first=False)\n",
        "\n",
        "# Separar las características (X) y el objetivo (y)\n",
        "X = df.drop('Price ($)', axis=1)  # Características\n",
        "y = df['Price ($)']               # Objetivo\n",
        "\n",
        "# Dividir los datos en conjunto de entrenamiento y de prueba\n",
        "X_train, X_test, y_train, y_test = train_test_split(X, y, test_size=0.2, random_state=42)\n",
        "\n",
        "# Entrenamiento del Modelo de Regresión Lineal\n",
        "model = LinearRegression()\n",
        "model.fit(X_train, y_train)\n",
        "\n",
        "# Evaluación del Modelo\n",
        "y_pred = model.predict(X_test)\n",
        "mae = mean_absolute_error(y_test, y_pred)\n",
        "rmse = np.sqrt(mean_squared_error(y_test, y_pred))\n",
        "\n",
        "print(f\"\\nError Medio Absoluto (MAE): {mae}\")\n",
        "print(f\"\\nRaíz del Error Cuadrático Medio (RMSE): {rmse}\")\n",
        "\n",
        "# Función para predecir el precio de la casa\n",
        "def predict_price(location, size, bedrooms, age):\n",
        "    # Preprocesar las características del usuario\n",
        "    input_data = {\n",
        "        'Size (sqft)': size,\n",
        "        'Bedrooms': bedrooms,\n",
        "        'Age (years)': age,\n",
        "        'Location_Coastal': 1 if location == 'Coastal' else 0,\n",
        "        'Location_Rural': 1 if location == 'Rural' else 0,\n",
        "        'Location_Suburb': 1 if location == 'Suburb' else 0,\n",
        "        'Location_Urban': 1 if location == 'Urban' else 0,\n",
        "        'Location_Downtown': 1 if location == 'Downtown' else 0  # Incluir la columna para Downtown\n",
        "    }\n",
        "\n",
        "    # Convertir los datos en un DataFrame\n",
        "    input_df = pd.DataFrame([input_data])\n",
        "\n",
        "    # Reordenar las columnas de acuerdo a las del conjunto de entrenamiento\n",
        "    input_df = input_df[X_train.columns]\n",
        "\n",
        "    # Realizar la predicción\n",
        "    predicted_price = model.predict(input_df)[0]\n",
        "\n",
        "    return predicted_price\n",
        "\n",
        "# Interfaz de usuario para ingresar características de la casa\n",
        "user_location = input(\"\\nIngresa la ubicación (Downtown, Suburb, Rural, Urban, Coastal): \")\n",
        "user_size = float(input(\"Ingresa el tamaño en pies cuadrados: \"))\n",
        "user_bedrooms = int(input(\"Ingresa el número de habitaciones: \"))\n",
        "user_age = int(input(\"Ingresa la antigüedad de la casa (en años): \"))\n",
        "\n",
        "# Predicción\n",
        "predicted_price = predict_price(user_location, user_size, user_bedrooms, user_age)\n",
        "print(f\"\\nEl precio estimado de la casa es: ${predicted_price:,.2f}\")\n",
        "\n",
        "\n"
      ],
      "metadata": {
        "colab": {
          "base_uri": "https://localhost:8080/"
        },
        "id": "qR10S5alLIaf",
        "outputId": "fb4ee08e-bad5-4827-998a-10a15e951a4a"
      },
      "execution_count": 13,
      "outputs": [
        {
          "output_type": "stream",
          "name": "stdout",
          "text": [
            "\n",
            "Error Medio Absoluto (MAE): 47960.03416762024\n",
            "\n",
            "Raíz del Error Cuadrático Medio (RMSE): 47960.03416762024\n",
            "\n",
            "Ingresa la ubicación (Downtown, Suburb, Rural, Urban, Coastal): Urban\n",
            "Ingresa el tamaño en pies cuadrados: 2000\n",
            "Ingresa el número de habitaciones: 3\n",
            "Ingresa la antigüedad de la casa (en años): 7\n",
            "\n",
            "El precio estimado de la casa es: $399,889.54\n"
          ]
        }
      ]
    }
  ]
}