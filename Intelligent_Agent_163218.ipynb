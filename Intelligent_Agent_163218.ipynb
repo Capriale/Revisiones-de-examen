{
 "cells": [
  {
   "cell_type": "markdown",
   "id": "297c5300-ce4d-41b1-8d92-e51dbae2ffaa",
   "metadata": {},
   "source": [
    "##### 0. Objective: Build a system where agents use Bayesian inference and fuzzy decision-making while communicating over MQTT. We can architect the system as follows:\n",
    "\n",
    "1. Agent Structure: Each agent has:\n",
    "\n",
    "* A Bayesian Network for reasoning under uncertainty.\n",
    "* A Fuzzy Logic-based Decision System for actions based on the Bayesian inference.\n",
    "* MQTT Communication for sending and receiving information to/from other agents.\n",
    "\n",
    "2. Distributed Agent Network:\n",
    "\n",
    "* Each agent subscribes to an MQTT topic relevant to its environment (e.g., temperature, humidity, etc.).\n",
    "* Each agent processes its data with Bayesian inference, then uses fuzzy logic for decision-making.\n",
    "* The agents exchange information over MQTT, allowing distributed, collaborative decision-making."
   ]
  },
  {
   "cell_type": "code",
   "execution_count": 1,
   "id": "5912a59e-b98a-4ac4-b6dd-0edc9184790e",
   "metadata": {},
   "outputs": [],
   "source": [
    "import logging\n",
    "logging.getLogger('numexpr').setLevel(logging.WARNING)"
   ]
  },
  {
   "cell_type": "code",
   "execution_count": 2,
   "id": "814c1b5d-6b20-43d8-86a9-e8082153a979",
   "metadata": {},
   "outputs": [],
   "source": [
    "import os\n",
    "os.environ[\"NUMEXPR_MAX_THREADS\"] = \"8\""
   ]
  },
  {
   "cell_type": "markdown",
   "id": "97930960-e04b-4843-832a-e9283fbd0740",
   "metadata": {},
   "source": [
    "##### 1. Common Bayesian Network Structure\n",
    "Each agent will have a Bayesian Network model to reason about its environment. Here we define a model for diagnosing a system based on sensor inputs."
   ]
  },
  {
   "cell_type": "code",
   "execution_count": 3,
   "id": "60876de5-2e2b-47c5-9bad-7729a122fccc",
   "metadata": {},
   "outputs": [],
   "source": [
    "from pgmpy.models import BayesianNetwork\n",
    "from pgmpy.factors.discrete import TabularCPD\n",
    "from pgmpy.inference import VariableElimination\n",
    "\n",
    "def build_bayesian_network():\n",
    "    # Create a Bayesian Network structure\n",
    "    model = BayesianNetwork([('SensorFailure', 'Temperature'), ('SensorFailure', 'Humidity')])\n",
    "\n",
    "    # Define CPDs\n",
    "    cpd_sensor_failure = TabularCPD(variable='SensorFailure', variable_card=2, values=[[0.9], [0.1]])\n",
    "    cpd_temperature = TabularCPD(variable='Temperature', variable_card=2, \n",
    "                                 values=[[0.8, 0.3], [0.2, 0.7]],\n",
    "                                 evidence=['SensorFailure'], evidence_card=[2])\n",
    "    cpd_humidity = TabularCPD(variable='Humidity', variable_card=2, \n",
    "                              values=[[0.7, 0.2], [0.3, 0.8]],\n",
    "                              evidence=['SensorFailure'], evidence_card=[2])\n",
    "\n",
    "    # Add CPDs to the model\n",
    "    model.add_cpds(cpd_sensor_failure, cpd_temperature, cpd_humidity)\n",
    "\n",
    "    # Check model validity\n",
    "    assert model.check_model()\n",
    "\n",
    "    return model\n",
    "\n",
    "# Bayesian inference function\n",
    "def bayesian_inference(model, temperature, humidity):\n",
    "    inference = VariableElimination(model)\n",
    "    evidence = {'Temperature': temperature, 'Humidity': humidity}\n",
    "    result = inference.query(variables=['SensorFailure'], evidence=evidence)\n",
    "    return result.values[1]  # Return probability of sensor failure"
   ]
  },
  {
   "cell_type": "markdown",
   "id": "751ef7de-8adf-4f2b-ba2f-9c6d2db19e80",
   "metadata": {},
   "source": [
    "##### 2. Fuzzy Logic System for Decision Making\n",
    "Agents use fuzzy logic to make decisions based on the Bayesian inference results."
   ]
  },
  {
   "cell_type": "code",
   "execution_count": 4,
   "id": "3eedab0e-3d8a-4a0c-8071-45bc1d358217",
   "metadata": {},
   "outputs": [],
   "source": [
    "import numpy as np\n",
    "import skfuzzy as fuzz\n",
    "from skfuzzy import control as ctrl\n",
    "\n",
    "def build_fuzzy_system():\n",
    "    # Create fuzzy variables\n",
    "    prob_sensor_failure = ctrl.Antecedent(np.arange(0, 1.1, 0.1), 'prob_sensor_failure')\n",
    "    action_level = ctrl.Consequent(np.arange(0, 101, 1), 'action_level')\n",
    "\n",
    "    # Define fuzzy membership functions\n",
    "    prob_sensor_failure['low'] = fuzz.trimf(prob_sensor_failure.universe, [0, 0, 0.5])\n",
    "    prob_sensor_failure['medium'] = fuzz.trimf(prob_sensor_failure.universe, [0.3, 0.5, 0.7])\n",
    "    prob_sensor_failure['high'] = fuzz.trimf(prob_sensor_failure.universe, [0.5, 1, 1])\n",
    "\n",
    "    action_level['low'] = fuzz.trimf(action_level.universe, [0, 0, 50])\n",
    "    action_level['moderate'] = fuzz.trimf(action_level.universe, [25, 50, 75])\n",
    "    action_level['high'] = fuzz.trimf(action_level.universe, [50, 100, 100])\n",
    "\n",
    "    # Define rules\n",
    "    rule1 = ctrl.Rule(prob_sensor_failure['low'], action_level['low'])\n",
    "    rule2 = ctrl.Rule(prob_sensor_failure['medium'], action_level['moderate'])\n",
    "    rule3 = ctrl.Rule(prob_sensor_failure['high'], action_level['high'])\n",
    "\n",
    "    # Create control system and simulation\n",
    "    action_ctrl = ctrl.ControlSystem([rule1, rule2, rule3])\n",
    "    action_sim = ctrl.ControlSystemSimulation(action_ctrl)\n",
    "\n",
    "    return action_sim\n",
    "\n",
    "# Fuzzy decision-making function\n",
    "def fuzzy_decision(action_sim, prob_failure):\n",
    "    action_sim.input['prob_sensor_failure'] = prob_failure\n",
    "    action_sim.compute()\n",
    "    return action_sim.output['action_level']"
   ]
  },
  {
   "cell_type": "markdown",
   "id": "b4ea9044-4475-4c65-a5c7-f9d2a290c080",
   "metadata": {},
   "source": [
    "##### 3. MQTT Communication Setup\n",
    "Each agent will use MQTT to publish and subscribe to messages from other agents"
   ]
  },
  {
   "cell_type": "code",
   "execution_count": 5,
   "id": "111f388f-c36b-418f-8668-6d196068c4ae",
   "metadata": {},
   "outputs": [],
   "source": [
    "import paho.mqtt.client as mqtt\n",
    "\n",
    "# MQTT communication setup\n",
    "def on_connect(client, userdata, flags, rc):\n",
    "    print(f\"Connected with result code {rc}\")\n",
    "    client.subscribe(\"sensor/temperature\")\n",
    "    client.subscribe(\"sensor/humidity\")\n",
    "\n",
    "def on_message(client, userdata, msg):\n",
    "    print(f\"Received message: {msg.topic} {str(msg.payload)}\")\n",
    "\n",
    "def publish_data(client, topic, data):\n",
    "    client.publish(topic, data)\n",
    "\n",
    "def mqtt_setup(agent_id):\n",
    "    client = mqtt.Client(client_id=agent_id)  # Explicitly set client_id as keyword\n",
    "    client.on_connect = on_connect\n",
    "    client.on_message = on_message\n",
    "    client.connect(\"mqtt.eclipseprojects.io\", 1883, 60)  # Use a public broker like Eclipse\n",
    "    return client"
   ]
  },
  {
   "cell_type": "markdown",
   "id": "fcb31a5d-fc70-41ff-96b8-a8ec49f19126",
   "metadata": {},
   "source": [
    "##### 4. Agent Implementation\n",
    "Now we can combine the Bayesian Network, fuzzy logic, and MQTT communication into a complete agent."
   ]
  },
  {
   "cell_type": "code",
   "execution_count": 7,
   "id": "879c00aa-196e-4eda-80b5-e7d14953da1b",
   "metadata": {},
   "outputs": [
    {
     "name": "stderr",
     "output_type": "stream",
     "text": [
      "C:\\Users\\luism\\AppData\\Local\\Temp\\ipykernel_17688\\2803183985.py:16: DeprecationWarning: Callback API version 1 is deprecated, update to latest version\n",
      "  client = mqtt.Client(client_id=agent_id)  # Explicitly set client_id as keyword\n"
     ]
    },
    {
     "name": "stdout",
     "output_type": "stream",
     "text": [
      "Agent agent_1: Prob Failure: 0.10, Action Level: 17.22\n",
      "Agent agent_1: Prob Failure: 0.10, Action Level: 17.22\n",
      "Agent agent_1: Prob Failure: 0.10, Action Level: 17.22\n",
      "Agent agent_1: Prob Failure: 0.10, Action Level: 17.22\n",
      "Agent agent_1: Prob Failure: 0.10, Action Level: 17.22\n",
      "Agent agent_1: Prob Failure: 0.51, Action Level: 50.68\n",
      "Agent agent_1: Prob Failure: 0.10, Action Level: 17.22\n",
      "Agent agent_1: Prob Failure: 0.51, Action Level: 50.68\n",
      "Agent agent_1: Prob Failure: 0.10, Action Level: 17.22\n",
      "Agent agent_1: Prob Failure: 0.10, Action Level: 17.22\n",
      "Agent agent_1 completed its iterations.\n",
      "Connected with result code 0\n"
     ]
    },
    {
     "ename": "KeyboardInterrupt",
     "evalue": "",
     "output_type": "error",
     "traceback": [
      "\u001b[1;31m---------------------------------------------------------------------------\u001b[0m",
      "\u001b[1;31mKeyboardInterrupt\u001b[0m                         Traceback (most recent call last)",
      "Input \u001b[1;32mIn [7]\u001b[0m, in \u001b[0;36m<cell line: 37>\u001b[1;34m()\u001b[0m\n\u001b[0;32m     36\u001b[0m \u001b[38;5;66;03m# Start the agent with dynamic input and controlled iterations\u001b[39;00m\n\u001b[0;32m     37\u001b[0m \u001b[38;5;28;01mif\u001b[39;00m \u001b[38;5;18m__name__\u001b[39m \u001b[38;5;241m==\u001b[39m \u001b[38;5;124m\"\u001b[39m\u001b[38;5;124m__main__\u001b[39m\u001b[38;5;124m\"\u001b[39m:\n\u001b[1;32m---> 38\u001b[0m     \u001b[43mrun_agent\u001b[49m\u001b[43m(\u001b[49m\u001b[38;5;124;43m\"\u001b[39;49m\u001b[38;5;124;43magent_1\u001b[39;49m\u001b[38;5;124;43m\"\u001b[39;49m\u001b[43m,\u001b[49m\u001b[43m \u001b[49m\u001b[43minitial_temperature\u001b[49m\u001b[38;5;241;43m=\u001b[39;49m\u001b[38;5;241;43m1\u001b[39;49m\u001b[43m,\u001b[49m\u001b[43m \u001b[49m\u001b[43minitial_humidity\u001b[49m\u001b[38;5;241;43m=\u001b[39;49m\u001b[38;5;241;43m1\u001b[39;49m\u001b[43m)\u001b[49m\n",
      "Input \u001b[1;32mIn [7]\u001b[0m, in \u001b[0;36mrun_agent\u001b[1;34m(agent_id, initial_temperature, initial_humidity)\u001b[0m\n\u001b[0;32m     31\u001b[0m     time\u001b[38;5;241m.\u001b[39msleep(\u001b[38;5;241m5\u001b[39m)\n\u001b[0;32m     33\u001b[0m \u001b[38;5;28mprint\u001b[39m(\u001b[38;5;124mf\u001b[39m\u001b[38;5;124m\"\u001b[39m\u001b[38;5;124mAgent \u001b[39m\u001b[38;5;132;01m{\u001b[39;00magent_id\u001b[38;5;132;01m}\u001b[39;00m\u001b[38;5;124m completed its iterations.\u001b[39m\u001b[38;5;124m\"\u001b[39m)\n\u001b[1;32m---> 34\u001b[0m \u001b[43mclient\u001b[49m\u001b[38;5;241;43m.\u001b[39;49m\u001b[43mloop_forever\u001b[49m\u001b[43m(\u001b[49m\u001b[43m)\u001b[49m\n",
      "File \u001b[1;32m~\\anaconda3\\lib\\site-packages\\paho\\mqtt\\client.py:2297\u001b[0m, in \u001b[0;36mClient.loop_forever\u001b[1;34m(self, timeout, retry_first_connection)\u001b[0m\n\u001b[0;32m   2295\u001b[0m rc \u001b[38;5;241m=\u001b[39m MQTTErrorCode\u001b[38;5;241m.\u001b[39mMQTT_ERR_SUCCESS\n\u001b[0;32m   2296\u001b[0m \u001b[38;5;28;01mwhile\u001b[39;00m rc \u001b[38;5;241m==\u001b[39m MQTTErrorCode\u001b[38;5;241m.\u001b[39mMQTT_ERR_SUCCESS:\n\u001b[1;32m-> 2297\u001b[0m     rc \u001b[38;5;241m=\u001b[39m \u001b[38;5;28;43mself\u001b[39;49m\u001b[38;5;241;43m.\u001b[39;49m\u001b[43m_loop\u001b[49m\u001b[43m(\u001b[49m\u001b[43mtimeout\u001b[49m\u001b[43m)\u001b[49m\n\u001b[0;32m   2298\u001b[0m     \u001b[38;5;66;03m# We don't need to worry about locking here, because we've\u001b[39;00m\n\u001b[0;32m   2299\u001b[0m     \u001b[38;5;66;03m# either called loop_forever() when in single threaded mode, or\u001b[39;00m\n\u001b[0;32m   2300\u001b[0m     \u001b[38;5;66;03m# in multi threaded mode when loop_stop() has been called and\u001b[39;00m\n\u001b[0;32m   2301\u001b[0m     \u001b[38;5;66;03m# so no other threads can access _out_packet or _messages.\u001b[39;00m\n\u001b[0;32m   2302\u001b[0m     \u001b[38;5;28;01mif\u001b[39;00m (\u001b[38;5;28mself\u001b[39m\u001b[38;5;241m.\u001b[39m_thread_terminate \u001b[38;5;129;01mis\u001b[39;00m \u001b[38;5;28;01mTrue\u001b[39;00m\n\u001b[0;32m   2303\u001b[0m         \u001b[38;5;129;01mand\u001b[39;00m \u001b[38;5;28mlen\u001b[39m(\u001b[38;5;28mself\u001b[39m\u001b[38;5;241m.\u001b[39m_out_packet) \u001b[38;5;241m==\u001b[39m \u001b[38;5;241m0\u001b[39m\n\u001b[0;32m   2304\u001b[0m             \u001b[38;5;129;01mand\u001b[39;00m \u001b[38;5;28mlen\u001b[39m(\u001b[38;5;28mself\u001b[39m\u001b[38;5;241m.\u001b[39m_out_messages) \u001b[38;5;241m==\u001b[39m \u001b[38;5;241m0\u001b[39m):\n",
      "File \u001b[1;32m~\\anaconda3\\lib\\site-packages\\paho\\mqtt\\client.py:1663\u001b[0m, in \u001b[0;36mClient._loop\u001b[1;34m(self, timeout)\u001b[0m\n\u001b[0;32m   1660\u001b[0m     rlist \u001b[38;5;241m=\u001b[39m [\u001b[38;5;28mself\u001b[39m\u001b[38;5;241m.\u001b[39m_sock, \u001b[38;5;28mself\u001b[39m\u001b[38;5;241m.\u001b[39m_sockpairR]\n\u001b[0;32m   1662\u001b[0m \u001b[38;5;28;01mtry\u001b[39;00m:\n\u001b[1;32m-> 1663\u001b[0m     socklist \u001b[38;5;241m=\u001b[39m \u001b[43mselect\u001b[49m\u001b[38;5;241;43m.\u001b[39;49m\u001b[43mselect\u001b[49m\u001b[43m(\u001b[49m\u001b[43mrlist\u001b[49m\u001b[43m,\u001b[49m\u001b[43m \u001b[49m\u001b[43mwlist\u001b[49m\u001b[43m,\u001b[49m\u001b[43m \u001b[49m\u001b[43m[\u001b[49m\u001b[43m]\u001b[49m\u001b[43m,\u001b[49m\u001b[43m \u001b[49m\u001b[43mtimeout\u001b[49m\u001b[43m)\u001b[49m\n\u001b[0;32m   1664\u001b[0m \u001b[38;5;28;01mexcept\u001b[39;00m \u001b[38;5;167;01mTypeError\u001b[39;00m:\n\u001b[0;32m   1665\u001b[0m     \u001b[38;5;66;03m# Socket isn't correct type, in likelihood connection is lost\u001b[39;00m\n\u001b[0;32m   1666\u001b[0m     \u001b[38;5;66;03m# ... or we called disconnect(). In that case the socket will\u001b[39;00m\n\u001b[1;32m   (...)\u001b[0m\n\u001b[0;32m   1669\u001b[0m     \u001b[38;5;66;03m# rc != MQTT_ERR_SUCCESS and we don't want state to change from\u001b[39;00m\n\u001b[0;32m   1670\u001b[0m     \u001b[38;5;66;03m# mqtt_cs_disconnecting.\u001b[39;00m\n\u001b[0;32m   1671\u001b[0m     \u001b[38;5;28;01mif\u001b[39;00m \u001b[38;5;28mself\u001b[39m\u001b[38;5;241m.\u001b[39m_state \u001b[38;5;129;01mnot\u001b[39;00m \u001b[38;5;129;01min\u001b[39;00m (_ConnectionState\u001b[38;5;241m.\u001b[39mMQTT_CS_DISCONNECTING, _ConnectionState\u001b[38;5;241m.\u001b[39mMQTT_CS_DISCONNECTED):\n",
      "\u001b[1;31mKeyboardInterrupt\u001b[0m: "
     ]
    }
   ],
   "source": [
    "import time\n",
    "\n",
    "def run_agent(agent_id, initial_temperature, initial_humidity):\n",
    "    # Build Bayesian Network and Fuzzy System\n",
    "    bayesian_model = build_bayesian_network()\n",
    "    fuzzy_system = build_fuzzy_system()\n",
    "\n",
    "    # Set up MQTT communication\n",
    "    client = mqtt_setup(agent_id)\n",
    "\n",
    "    # Simulate periodic sensor data updates\n",
    "    while True:\n",
    "        # Bayesian inference for sensor failure\n",
    "        prob_failure = bayesian_inference(bayesian_model, initial_temperature, initial_humidity)\n",
    "\n",
    "        # Fuzzy logic for decision making\n",
    "        action_level = fuzzy_decision(fuzzy_system, prob_failure)\n",
    "\n",
    "        # Publish data and decisions to MQTT topics\n",
    "        publish_data(client, f\"agent/{agent_id}/sensor_failure_probability\", prob_failure)\n",
    "        publish_data(client, f\"agent/{agent_id}/action_level\", action_level)\n",
    "\n",
    "        print(f\"Agent {agent_id}: Prob Failure: {prob_failure:.2f}, Action Level: {action_level:.2f}\")\n",
    "\n",
    "        # Simulate a time delay between messages\n",
    "        time.sleep(5)\n",
    "\n",
    "    client.loop_forever()"
   ]
  },
  {
   "cell_type": "markdown",
   "id": "bee76669-f31b-4321-b23e-ea2c3c88982f",
   "metadata": {},
   "source": [
    "##### 5. Execution\n",
    "\n",
    "A. Each agent runs the run_agent() function, which:\n",
    "\n",
    "* Continuously gathers data (temperature, humidity).\n",
    "* Computes the probability of sensor failure using the Bayesian Network.\n",
    "* Makes decisions using fuzzy logic based on the probability.\n",
    "* Publishes the results via MQTT for other agents to read and use for collaboration.\n",
    "\n",
    "B. You can run multiple agents in separate processes or on different machines, as long as they connect to the same MQTT broker."
   ]
  },
  {
   "cell_type": "markdown",
   "id": "317adad2-cefc-4fbb-8c12-9f4ed63907d3",
   "metadata": {},
   "source": [
    "##### 6. Final Thoughts\n",
    "\n",
    "* This system architecture allows agents to make decisions based on probabilistic reasoning and fuzzy logic while exchanging data with other agents in a distributed, collaborative environment.\n",
    "* MQTT ensures lightweight communication, suitable for IoT-like distributed systems."
   ]
  },
  {
   "cell_type": "code",
   "execution_count": null,
   "id": "4f74b04f-2327-4f29-bd7b-d817ad9a21c8",
   "metadata": {},
   "outputs": [],
   "source": []
  }
 ],
 "metadata": {
  "kernelspec": {
   "display_name": "Python 3 (ipykernel)",
   "language": "python",
   "name": "python3"
  },
  "language_info": {
   "codemirror_mode": {
    "name": "ipython",
    "version": 3
   },
   "file_extension": ".py",
   "mimetype": "text/x-python",
   "name": "python",
   "nbconvert_exporter": "python",
   "pygments_lexer": "ipython3",
   "version": "3.9.12"
  }
 },
 "nbformat": 4,
 "nbformat_minor": 5
}
