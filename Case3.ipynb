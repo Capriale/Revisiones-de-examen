{
  "nbformat": 4,
  "nbformat_minor": 0,
  "metadata": {
    "colab": {
      "provenance": []
    },
    "kernelspec": {
      "name": "python3",
      "display_name": "Python 3"
    },
    "language_info": {
      "name": "python"
    }
  },
  "cells": [
    {
      "cell_type": "code",
      "source": [
        "import numpy as np\n",
        "import pandas as pd\n",
        "from sklearn.model_selection import train_test_split\n",
        "from sklearn.linear_model import LinearRegression\n",
        "from sklearn.metrics import mean_absolute_error, mean_squared_error"
      ],
      "metadata": {
        "id": "z-2WASNmlwvl"
      },
      "execution_count": 13,
      "outputs": []
    },
    {
      "cell_type": "code",
      "execution_count": 22,
      "metadata": {
        "colab": {
          "base_uri": "https://localhost:8080/"
        },
        "id": "XPlFUjo4hSrc",
        "outputId": "71ffe851-c2a7-484c-8910-47cfa22961bd"
      },
      "outputs": [
        {
          "output_type": "stream",
          "name": "stdout",
          "text": [
            "Error Absoluto Medio (MAE): 51096.94305222634\n",
            "Error Cuadrático Medio (RMSE): 60160.86422972776\n",
            "Ingrese la ubicación (1: Downtown, 2: Suburb, 3: Rural, etc.): 5\n",
            "Ingrese el tamaño en sqft: 2500\n",
            "Ingrese el número de habitaciones: 5\n",
            "Ingrese la antigüedad en años: 3\n",
            "El precio estimado para la casa es: $403315.20\n"
          ]
        },
        {
          "output_type": "stream",
          "name": "stderr",
          "text": [
            "/usr/local/lib/python3.10/dist-packages/sklearn/base.py:493: UserWarning: X does not have valid feature names, but LinearRegression was fitted with feature names\n",
            "  warnings.warn(\n"
          ]
        }
      ],
      "source": [
        "#datos de ejemplo (ubicacion codificada como valores numéricos)\n",
        "data = pd.DataFrame({\n",
        "    'Location': [1, 2, 3, 4, 5],  # 1: Downtown, 2: Suburb, etc.\n",
        "    'Size': [1200, 1800, 2400, 1500, 2000],\n",
        "    'Bedrooms': [3, 4, 5, 3, 4],\n",
        "    'Age': [10, 5, 15, 7, 8],\n",
        "    'Price': [350000, 420000, 300000, 375000, 450000]\n",
        "})\n",
        "\n",
        "# generar datos sinteticos añadiendo variaciones aleatorias\n",
        "synthetic_data = [] # se usa una lista para guardar nuevas caracteriristicas\n",
        "\n",
        "for i in range(100):  # se crean 100 nuevas caracteristicas\n",
        "    new_sample = {\n",
        "        'Location': np.random.choice([1, 2, 3, 4, 5]),  # ubicacion aleatoria\n",
        "        'Size': np.random.uniform(1000, 2500),  # tamaño aleatorio en un rango\n",
        "        'Bedrooms': np.random.randint(2, 6),  # Numero aleatorio de habitaciones\n",
        "        'Age': np.random.randint(1, 20),  # antiguedad aleatoria en un rango\n",
        "        'Price': np.random.uniform(300000, 500000)  # precio aleatorio\n",
        "    }\n",
        "    synthetic_data.append(new_sample) # añadir a la lista\n",
        "\n",
        "# se convierte la lista de diccionarios en un DataFrame\n",
        "synthetic_data = pd.DataFrame(synthetic_data)\n",
        "# combinar los datos originales con los sinteticos\n",
        "data = pd.concat([data, synthetic_data], ignore_index=True)\n",
        "\n",
        "# se separan características (X) y precio (y)\n",
        "X = data[['Location', 'Size', 'Bedrooms', 'Age']]\n",
        "y = data['Price']\n",
        "\n",
        "# se dividen los datos en conjuntos de entrenamiento y prueba\n",
        "X_train, X_test, y_train, y_test = train_test_split(X, y, test_size=0.2, random_state=42)\n",
        "\n",
        "# crear modelo de regresión lineal\n",
        "model = LinearRegression()\n",
        "\n",
        "# se entrena el modelo\n",
        "model.fit(X_train, y_train)\n",
        "\n",
        "# se hacen predicciones en el conjunto de prueba\n",
        "y_pred = model.predict(X_test)\n",
        "\n",
        "# se evalua el modelo\n",
        "mae = mean_absolute_error(y_test, y_pred)\n",
        "# MAE: mide el error absoluto promedio entre las predicciones y los valores reales\n",
        "rmse = np.sqrt(mean_squared_error(y_test, y_pred))\n",
        "# RMSE: penaliza mas los errores grandes, midiendo que tan lejos estan las predicciones en promedio\n",
        "\n",
        "# resultados\n",
        "print(f\"Error Absoluto Medio (MAE): {mae}\")\n",
        "print(f\"Error Cuadrático Medio (RMSE): {rmse}\")\n",
        "\n",
        "# solicitar caracteristicas de la casa al usuario\n",
        "location = int(input(\"Ingrese la ubicación (1: Downtown, 2: Suburb, 3: Rural, etc.): \"))\n",
        "size = float(input(\"Ingrese el tamaño en sqft: \"))\n",
        "bedrooms = int(input(\"Ingrese el número de habitaciones: \"))\n",
        "age = int(input(\"Ingrese la antigüedad en años: \"))\n",
        "\n",
        "\n",
        "user_input = np.array([[location, size, bedrooms, age]])# se convierten las caracteristicas del usuario a un formato adecuado para el modelo\n",
        "prediction = model.predict(user_input)# se hace una predicción con el modelo entrenado\n",
        "# el modelo predice el precio de la casa en función de las caracteristicas ingresadas\n",
        "print(f\"El precio estimado para la casa es: ${prediction[0]:.2f}\")\n"
      ]
    }
  ]
}