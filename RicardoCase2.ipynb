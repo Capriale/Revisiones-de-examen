{
 "cells": [
  {
   "cell_type": "markdown",
   "metadata": {},
   "source": [
    "## Case 2: Fuzzy Logic Smart Home Lighting Control System\n",
    "\n",
    "This notebook implements a fuzzy logic system to control smart home lighting based on two inputs: \n",
    "- Time of Day\n",
    "- Occupancy Status\n",
    "\n",
    "The system adjusts the lighting intensity to optimize comfort and energy efficiency."
   ]
  },
  {
   "cell_type": "code",
   "execution_count": 8,
   "metadata": {},
   "outputs": [],
   "source": [
    "# Import necessary libraries for fuzzy logic\n",
    "\n",
    "import numpy as np\n",
    "import skfuzzy as fuzz\n",
    "from skfuzzy import control as ctrl"
   ]
  },
  {
   "cell_type": "code",
   "execution_count": 9,
   "metadata": {},
   "outputs": [],
   "source": [
    "# Define Fuzzy Variables\n",
    "time_of_day = ctrl.Antecedent(np.arange(0, 24, 1), 'time_of_day')\n",
    "occupancy = ctrl.Antecedent(np.arange(0, 2, 1), 'occupancy')\n",
    "lighting_intensity = ctrl.Consequent(np.arange(0, 101, 1), 'lighting_intensity')\n",
    "\n",
    "# Membership Functions\n",
    "\n",
    "# for time of day - split night into late night and early morning\n",
    "time_of_day['morning'] = fuzz.trapmf(time_of_day.universe, [6, 7, 9, 12])\n",
    "time_of_day['afternoon'] = fuzz.trapmf(time_of_day.universe, [12, 13, 15, 18])\n",
    "time_of_day['evening'] = fuzz.trapmf(time_of_day.universe, [18, 19, 20, 21])\n",
    "time_of_day['late_night'] = fuzz.trapmf(time_of_day.universe, [21, 22, 23, 24])\n",
    "time_of_day['early_morning'] = fuzz.trapmf(time_of_day.universe, [0, 1, 5, 6])\n",
    "\n",
    "# for occupancy\n",
    "occupancy['unoccupied'] = fuzz.trimf(occupancy.universe, [0, 0, 1])\n",
    "occupancy['occupied'] = fuzz.trimf(occupancy.universe, [0, 1, 1])\n",
    "\n",
    "# for lighting intensity\n",
    "lighting_intensity['off'] = fuzz.trimf(lighting_intensity.universe, [0, 0, 25])\n",
    "lighting_intensity['low'] = fuzz.trimf(lighting_intensity.universe, [0, 25, 50])\n",
    "lighting_intensity['medium'] = fuzz.trimf(lighting_intensity.universe, [25, 50, 75])\n",
    "lighting_intensity['high'] = fuzz.trimf(lighting_intensity.universe, [50, 75, 100])\n",
    "\n"
   ]
  },
  {
   "cell_type": "markdown",
   "metadata": {},
   "source": [
    "### Fuzzy Rules\n",
    "The system applies fuzzy rules to determine the lighting intensity based on the time of day and whether the room is occupied."
   ]
  },
  {
   "cell_type": "code",
   "execution_count": 13,
   "metadata": {},
   "outputs": [],
   "source": [
    "# Define Fuzzy Rules\n",
    "\n",
    "# Rule 1: If it's morning and the room is occupied, lighting should be medium\n",
    "rule1 = ctrl.Rule(time_of_day['morning'] & occupancy['occupied'], lighting_intensity['medium'])\n",
    "\n",
    "# Rule 2: If it's afternoon and the room is occupied, lighting should be low\n",
    "rule2 = ctrl.Rule(time_of_day['afternoon'] & occupancy['occupied'], lighting_intensity['low'])\n",
    "\n",
    "# Rule 3: If it's evening and the room is occupied, lighting should be high\n",
    "rule3 = ctrl.Rule(time_of_day['evening'] & occupancy['occupied'], lighting_intensity['high'])\n",
    "\n",
    "# Rule 4: If it's late night and the room is unoccupied, lighting should be off\n",
    "rule4 = ctrl.Rule(time_of_day['late_night'] & occupancy['unoccupied'], lighting_intensity['off'])\n",
    "\n",
    "# Rule 5: If it's early morning and the room is unoccupied, lighting should be off\n",
    "rule5 = ctrl.Rule(time_of_day['early_morning'] & occupancy['unoccupied'], lighting_intensity['off'])\n",
    "\n",
    "# Default rule for unoccupied states at all times of the day\n",
    "default = ctrl.Rule(occupancy['unoccupied'], lighting_intensity['off'])\n",
    "\n",
    "# Fuzzy control system\n",
    "lighting_control = ctrl.ControlSystem([rule1, rule2, rule3, rule4, rule5, default])\n",
    "lighting_simulation = ctrl.ControlSystemSimulation(lighting_control)\n",
    "\n"
   ]
  },
  {
   "cell_type": "markdown",
   "metadata": {},
   "source": [
    "### Test the System with Example Data\n",
    "We will now simulate different scenarios to observe how the system behaves."
   ]
  },
  {
   "cell_type": "code",
   "execution_count": 14,
   "metadata": {},
   "outputs": [
    {
     "name": "stdout",
     "output_type": "stream",
     "text": [
      "Lighting intensity at 7 AM (Occupied): 50.00%\n",
      "Lighting intensity at 1 PM (Unoccupied): 8.33%\n",
      "Lighting intensity at 7 PM (Occupied): 75.00%\n",
      "Lighting intensity at 11 PM (Unoccupied): 8.33%\n"
     ]
    }
   ],
   "source": [
    "# System test\n",
    "\n",
    "# Example 1: 7 AM, Room Occupied\n",
    "lighting_simulation.input['time_of_day'] = 7\n",
    "lighting_simulation.input['occupancy'] = 1\n",
    "lighting_simulation.compute()\n",
    "print(f\"Lighting intensity at 7 AM (Occupied): {lighting_simulation.output['lighting_intensity']:.2f}%\")\n",
    "\n",
    "# Example 2: 1 PM, Room Unoccupied\n",
    "lighting_simulation.input['time_of_day'] = 13\n",
    "lighting_simulation.input['occupancy'] = 0\n",
    "lighting_simulation.compute()\n",
    "print(f\"Lighting intensity at 1 PM (Unoccupied): {lighting_simulation.output['lighting_intensity']:.2f}%\")\n",
    "\n",
    "# Example 3: 7 PM, Room Occupied\n",
    "lighting_simulation.input['time_of_day'] = 19\n",
    "lighting_simulation.input['occupancy'] = 1\n",
    "lighting_simulation.compute()\n",
    "print(f\"Lighting intensity at 7 PM (Occupied): {lighting_simulation.output['lighting_intensity']:.2f}%\")\n",
    "\n",
    "# Example 4: 11 PM, Room Unoccupied\n",
    "lighting_simulation.input['time_of_day'] = 23\n",
    "lighting_simulation.input['occupancy'] = 0\n",
    "lighting_simulation.compute()\n",
    "print(f\"Lighting intensity at 11 PM (Unoccupied): {lighting_simulation.output['lighting_intensity']:.2f}%\")\n",
    "\n"
   ]
  },
  {
   "cell_type": "markdown",
   "metadata": {},
   "source": [
    "### Potential Errors\n",
    "- In case of sensor failure or missing data, the system might fail to compute the lighting intensity correctly. \n",
    "- Implementing default values or handling errors would ensure robust performance in the event of sensor issues."
   ]
  }
 ],
 "metadata": {
  "kernelspec": {
   "display_name": "Python 3",
   "language": "python",
   "name": "python3"
  },
  "language_info": {
   "codemirror_mode": {
    "name": "ipython",
    "version": 3
   },
   "file_extension": ".py",
   "mimetype": "text/x-python",
   "name": "python",
   "nbconvert_exporter": "python",
   "pygments_lexer": "ipython3",
   "version": "3.11.9"
  }
 },
 "nbformat": 4,
 "nbformat_minor": 4
}
