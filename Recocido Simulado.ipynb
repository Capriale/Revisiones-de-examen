{
 "cells": [
  {
   "cell_type": "code",
   "execution_count": 1,
   "id": "9df301da-c223-4b0c-8b45-c2bfe5340d31",
   "metadata": {},
   "outputs": [],
   "source": [
    "from scipy.optimize import dual_annealing\n",
    "import sympy as sp"
   ]
  },
  {
   "cell_type": "code",
   "execution_count": 2,
   "id": "02896c92-dc35-4fee-958e-4cff45c66b90",
   "metadata": {},
   "outputs": [],
   "source": [
    "def sa_algorithm():\n",
    "    bounds = [(-10, 10)]  # Límite de búsqueda\n",
    "    result = dual_annealing(f, bounds)\n",
    "    return result.x"
   ]
  },
  {
   "cell_type": "code",
   "execution_count": 3,
   "id": "fccf928f-886b-473e-b138-5a3e7bd87caa",
   "metadata": {},
   "outputs": [
    {
     "name": "stdout",
     "output_type": "stream",
     "text": [
      "Recocido simulado: La solución es x = -0.33333341085949986\n"
     ]
    }
   ],
   "source": [
    "x = sp.symbols('x')\n",
    "f_sym = 3*x**2 + 2*x + 1\n",
    "\n",
    "f = sp.lambdify(x, f_sym, 'numpy')\n",
    "\n",
    "min_x_sa = sa_algorithm()\n",
    "print(\"Recocido simulado: La solución es x =\", min_x_sa[0])"
   ]
  }
 ],
 "metadata": {
  "kernelspec": {
   "display_name": "Python 3 (ipykernel)",
   "language": "python",
   "name": "python3"
  },
  "language_info": {
   "codemirror_mode": {
    "name": "ipython",
    "version": 3
   },
   "file_extension": ".py",
   "mimetype": "text/x-python",
   "name": "python",
   "nbconvert_exporter": "python",
   "pygments_lexer": "ipython3",
   "version": "3.12.2"
  }
 },
 "nbformat": 4,
 "nbformat_minor": 5
}
