{
  "nbformat": 4,
  "nbformat_minor": 0,
  "metadata": {
    "colab": {
      "provenance": []
    },
    "kernelspec": {
      "name": "python3",
      "display_name": "Python 3"
    },
    "language_info": {
      "name": "python"
    }
  },
  "cells": [
    {
      "cell_type": "markdown",
      "source": [
        "# Case 1 Emotion Detection in Text"
      ],
      "metadata": {
        "id": "v7BZnUlICcnV"
      }
    },
    {
      "cell_type": "markdown",
      "source": [
        "Este código implementa un sistema de detección de emociones en mensajes de texto utilizando técnicas bayesianas.\n",
        "\n",
        "Permite al usuario ingresar un mensaje y clasificar la emoción en función de las palabras contenidas en él.\n"
      ],
      "metadata": {
        "id": "DwJBbMw8CXaE"
      }
    },
    {
      "cell_type": "code",
      "source": [
        "#Librerias\n",
        "\n",
        "import pandas as pd\n",
        "import numpy as np"
      ],
      "metadata": {
        "id": "LZR58GrACSDP"
      },
      "execution_count": 1,
      "outputs": []
    },
    {
      "cell_type": "code",
      "execution_count": 17,
      "metadata": {
        "colab": {
          "base_uri": "https://localhost:8080/"
        },
        "id": "zlrRjAg_AZgn",
        "outputId": "4d4f1afc-e98b-4ff5-cfb1-dfe4a0a34ba9"
      },
      "outputs": [
        {
          "output_type": "stream",
          "name": "stdout",
          "text": [
            "\n",
            "Sistema de detección de emociones en textos.\n",
            "\n",
            "Ingresa un mensaje de texto: I feel sad\n",
            "\n",
            "La emoción más probable en tu mensaje es: sad\n"
          ]
        }
      ],
      "source": [
        "# Definimos las probabilidades previas y condicionales\n",
        "prior_probabilities = {\n",
        "    'happy': 0.4,\n",
        "    'sad': 0.3,\n",
        "    'angry': 0.3\n",
        "}\n",
        "\n",
        "conditional_probabilities = {\n",
        "    'happy': {'happy': 0.25, 'joyful': 0.125, 'great': 0.125, 'sad': 0.05, 'down': 0.03, 'angry': 0.02, 'mad': 0.01, 'frustrated': 0.005},\n",
        "    'sad': {'happy': 0.05, 'joyful': 0.02, 'great': 0.03, 'sad': 0.20, 'down': 0.125, 'angry': 0.03, 'mad': 0.02, 'frustrated': 0.01},\n",
        "    'angry': {'happy': 0.10, 'joyful': 0.03, 'great': 0.02, 'sad': 0.05, 'down': 0.02, 'angry': 0.15, 'mad': 0.125, 'frustrated': 0.10}\n",
        "}\n",
        "\n",
        "# Función para limpiar y preprocesar el texto\n",
        "def preprocess_text(text):\n",
        "\n",
        "    text = text.lower()\n",
        "    words = text.split()\n",
        "    return words\n",
        "\n",
        "# Función para calcular las probabilidades posteriores utilizando el Teorema de Bayes\n",
        "def calculate_posteriors(message):\n",
        "\n",
        "    words = preprocess_text(message)\n",
        "    posteriors = {}\n",
        "\n",
        "    # Inicializamos las probabilidades posteriores con las probabilidades previas\n",
        "    for emotion in prior_probabilities:\n",
        "        posterior = prior_probabilities[emotion]\n",
        "\n",
        "        # Calculamos la probabilidad del mensaje dado la emoción\n",
        "        for word in words:\n",
        "            if word in conditional_probabilities[emotion]:\n",
        "                posterior *= conditional_probabilities[emotion][word]\n",
        "            else:\n",
        "                # Si la palabra no se encuentra, se considera que no contribuye a la probabilidad\n",
        "                posterior *= 1e-10  # Un valor muy pequeño para evitar que la probabilidad sea cero\n",
        "\n",
        "        posteriors[emotion] = posterior\n",
        "\n",
        "    return posteriors\n",
        "\n",
        "# Función para predecir la emoción más probable\n",
        "def predict_emotion(message):\n",
        "\n",
        "    # Manejo de entrada vacía\n",
        "    if not message.strip():\n",
        "        raise ValueError(\"\\nEl mensaje no puede estar vacío.\")\n",
        "\n",
        "    posteriors = calculate_posteriors(message)\n",
        "\n",
        "    # Si ninguna probabilidad posterior es mayor a cero (mensaje con palabras desconocidas)\n",
        "    if all(p == 0 for p in posteriors.values()):D\n",
        "        raise ValueError(\"\\nEl mensaje contiene palabras desconocidas, no se puede decifrar que emocion es.\")\n",
        "\n",
        "    # Encontramos la emoción con la mayor probabilidad posterior\n",
        "    most_probable_emotion = max(posteriors, key=posteriors.get)\n",
        "    return most_probable_emotion\n",
        "\n",
        "# Interfaz de usuario para ingresar un mensaje\n",
        "def main():\n",
        "\n",
        "    print(\"\\nSistema de detección de emociones en textos.\")\n",
        "\n",
        "    try:\n",
        "        # Permitir al usuario ingresar un mensaje\n",
        "        user_input = input(\"\\nIngresa un mensaje de texto: \")\n",
        "\n",
        "        # Predecir la emoción más probable\n",
        "        predicted_emotion = predict_emotion(user_input)\n",
        "\n",
        "        # Mostrar el resultado\n",
        "        print(f\"\\nLa emoción más probable en tu mensaje es: {predicted_emotion}\")\n",
        "\n",
        "    except ValueError as e:\n",
        "        # Manejo de errores potenciales\n",
        "        print(e)  # Mostrar mensaje de error si hay un problema\n",
        "\n",
        "# Ejecutar el programa\n",
        "if __name__ == \"__main__\":\n",
        "    main()\n",
        "\n"
      ]
    }
  ]
}