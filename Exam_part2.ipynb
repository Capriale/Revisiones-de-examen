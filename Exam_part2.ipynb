{
 "cells": [
  {
   "cell_type": "markdown",
   "id": "6d977ee5-bb74-4d90-a0fa-0adf04d36c5d",
   "metadata": {},
   "source": [
    "##### 2. Optimization problem\n",
    "##### Get the optimal solution for the expression\n",
    "$$ f(x) = x^3 - 6x^2 + 9x + 15 $$\n",
    "##### in a domain of values from 3 to infinity"
   ]
  },
  {
   "cell_type": "code",
   "execution_count": 6,
   "id": "cd59bf2f-fd61-45fa-890a-edcab0d5a5e0",
   "metadata": {},
   "outputs": [
    {
     "name": "stdout",
     "output_type": "stream",
     "text": [
      "Minimum value of x using Gradient Descent: 3.0\n"
     ]
    }
   ],
   "source": [
    "def gradient_descent(learning_rate=0.01,initial_x=3.0,tolerance=1e-6,max_iterations=1000):\n",
    "    \n",
    "    x=initial_x\n",
    "    \n",
    "    def gradient(x):\n",
    "        return 3*x**2-12*x+9\n",
    "\n",
    "    for i in range(max_iterations):\n",
    "        grad=gradient(x)\n",
    "        new_x=x-learning_rate*grad\n",
    "        if abs(new_x-x)<tolerance:\n",
    "            break\n",
    "        x=new_x\n",
    "    return x\n",
    "\n",
    "x_min_gd=gradient_descent()\n",
    "print(f\"Minimum value of x using Gradient Descent: {x_min_gd}\")"
   ]
  }
 ],
 "metadata": {
  "kernelspec": {
   "display_name": "Python 3 (ipykernel)",
   "language": "python",
   "name": "python3"
  },
  "language_info": {
   "codemirror_mode": {
    "name": "ipython",
    "version": 3
   },
   "file_extension": ".py",
   "mimetype": "text/x-python",
   "name": "python",
   "nbconvert_exporter": "python",
   "pygments_lexer": "ipython3",
   "version": "3.9.12"
  }
 },
 "nbformat": 4,
 "nbformat_minor": 5
}
