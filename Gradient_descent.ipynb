{
 "cells": [
  {
   "cell_type": "markdown",
   "id": "96482948-f419-4c29-ad0e-0263b95b1d2d",
   "metadata": {},
   "source": [
    "##### Given the function \n",
    "\n",
    "##### $f(x)=3x^2+2x+1$\n",
    "\n",
    "##### Find the value of 𝑥 that minimizes 𝑓(𝑥) using gradient descent"
   ]
  },
  {
   "cell_type": "code",
   "execution_count": 1,
   "id": "60752188-c533-45a2-b35b-61fd1e65e147",
   "metadata": {},
   "outputs": [
    {
     "name": "stdout",
     "output_type": "stream",
     "text": [
      "Minimum value of x using Gradient Descent: -0.33333243854848\n"
     ]
    }
   ],
   "source": [
    "def gradient_descent(learning_rate=0.1,initial_x=0.0,tolerance=1e-6,max_iterations=1000):\n",
    "    x=initial_x\n",
    "    for i in range(max_iterations):\n",
    "        gradient=6*x+2\n",
    "        new_x=x-learning_rate*gradient\n",
    "        if abs(new_x-x)<tolerance:\n",
    "            break\n",
    "        x=new_x\n",
    "    return x\n",
    "\n",
    "x_min_gd=gradient_descent()\n",
    "print(f\"Minimum value of x using Gradient Descent: {x_min_gd}\")"
   ]
  }
 ],
 "metadata": {
  "kernelspec": {
   "display_name": "Python 3 (ipykernel)",
   "language": "python",
   "name": "python3"
  },
  "language_info": {
   "codemirror_mode": {
    "name": "ipython",
    "version": 3
   },
   "file_extension": ".py",
   "mimetype": "text/x-python",
   "name": "python",
   "nbconvert_exporter": "python",
   "pygments_lexer": "ipython3",
   "version": "3.9.12"
  }
 },
 "nbformat": 4,
 "nbformat_minor": 5
}
