{
 "cells": [
  {
   "cell_type": "markdown",
   "id": "946a3b35-bc4d-47c3-9988-4c4bde9f7f74",
   "metadata": {},
   "source": [
    "##### Given the function \n",
    "\n",
    "##### $f(x)=3x^2+2x+1$\n",
    "\n",
    "##### Find the value of 𝑥 that minimizes 𝑓(𝑥) using Particle swarm optimization algorithm"
   ]
  },
  {
   "cell_type": "code",
   "execution_count": 3,
   "id": "47cf163e-75d3-4c65-b45c-6afc390c4522",
   "metadata": {},
   "outputs": [
    {
     "name": "stdout",
     "output_type": "stream",
     "text": [
      "Minimum value of x using Particle Swarm Optimization: -0.33333333323935505\n"
     ]
    }
   ],
   "source": [
    "import numpy as np\n",
    "\n",
    "def particle_swarm_optimization(num_particles=30,dimensions=1,iterations=100,bounds=(-10,10),w=0.5,c1=1.5,c2=1.5):\n",
    "    #Define the objective function\n",
    "    def objective_function(x):\n",
    "        return 3*x[0]**2+2*x[0]+1\n",
    "    \n",
    "    #Initialize particle positions and velocities\n",
    "    positions=np.random.uniform(bounds[0],bounds[1],(num_particles,dimensions))\n",
    "    velocities=np.random.uniform(-1,1,(num_particles,dimensions))\n",
    "    \n",
    "    #Initialize personal best positions and global best position\n",
    "    personal_best_positions=positions.copy()\n",
    "    personal_best_scores=np.array([objective_function(x) for x in personal_best_positions])\n",
    "    global_best_position=personal_best_positions[np.argmin(personal_best_scores)]\n",
    "    \n",
    "    #Main PSO loop\n",
    "    for i in range(iterations):\n",
    "        #Update velocities and positions\n",
    "        for j in range(num_particles):\n",
    "            r1,r2=np.random.rand(2)\n",
    "            velocities[j]=(w*velocities[j]+\n",
    "                             c1*r1*(personal_best_positions[j]-positions[j])+\n",
    "                             c2*r2*(global_best_position-positions[j]))\n",
    "            positions[j]+=velocities[j]\n",
    "            \n",
    "            #Enforce bounds\n",
    "            positions[j]=np.clip(positions[j],bounds[0],bounds[1])\n",
    "            \n",
    "            #Update personal best if necessary\n",
    "            score=objective_function(positions[j])\n",
    "            if score<personal_best_scores[j]:\n",
    "                personal_best_positions[j]=positions[j]\n",
    "                personal_best_scores[j]=score\n",
    "        \n",
    "        #Update global best if necessary\n",
    "        best_particle_index=np.argmin(personal_best_scores)\n",
    "        global_best_position=personal_best_positions[best_particle_index]\n",
    "    \n",
    "    return global_best_position[0]\n",
    "\n",
    "x_min_pso=particle_swarm_optimization()\n",
    "print(f\"Minimum value of x using Particle Swarm Optimization: {x_min_pso}\")"
   ]
  }
 ],
 "metadata": {
  "kernelspec": {
   "display_name": "Python 3 (ipykernel)",
   "language": "python",
   "name": "python3"
  },
  "language_info": {
   "codemirror_mode": {
    "name": "ipython",
    "version": 3
   },
   "file_extension": ".py",
   "mimetype": "text/x-python",
   "name": "python",
   "nbconvert_exporter": "python",
   "pygments_lexer": "ipython3",
   "version": "3.9.12"
  }
 },
 "nbformat": 4,
 "nbformat_minor": 5
}
