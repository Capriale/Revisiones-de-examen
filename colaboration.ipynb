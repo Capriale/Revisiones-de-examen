{
  "nbformat": 4,
  "nbformat_minor": 0,
  "metadata": {
    "colab": {
      "provenance": []
    },
    "kernelspec": {
      "name": "python3",
      "display_name": "Python 3"
    },
    "language_info": {
      "name": "python"
    }
  },
  "cells": [
    {
      "cell_type": "code",
      "source": [
        "import numpy as np\n",
        "import skfuzzy as fuzz\n",
        "from skfuzzy import control as ctrl"
      ],
      "metadata": {
        "id": "Bi9CGmZ5e-_w"
      },
      "execution_count": 4,
      "outputs": []
    },
    {
      "cell_type": "code",
      "execution_count": 7,
      "metadata": {
        "colab": {
          "base_uri": "https://localhost:8080/"
        },
        "id": "nZjbvxfldkMx",
        "outputId": "3cecb08e-9a45-4621-c84e-da37abaa001d"
      },
      "outputs": [
        {
          "output_type": "stream",
          "name": "stdout",
          "text": [
            "La probabilidad de que la temperatura sea alta es: 0.55\n",
            "La velocidad del ventilador sugerida es: 84.4\n"
          ]
        }
      ],
      "source": [
        "def calcular_probabilidad_temperatura(p_t, p_h, p_h_given_t, p_h_given_not_t):\n",
        "    \"\"\"\n",
        "    Calcula la probabilidad de que la temperatura esté en un rango específico dado el valor de la humedad.\n",
        "    \"\"\"\n",
        "    numerador = p_h_given_t * p_t\n",
        "    denominador = (p_h_given_t * p_t) + (p_h_given_not_t * p_h)\n",
        "    return numerador / denominador\n",
        "\n",
        "#probabilidades iniciales\n",
        "\n",
        "p_t = 0.3  # probabilidad de temperatura alta\n",
        "p_h = 0.5  # probabilidad de alta humedad\n",
        "p_h_given_t = 0.6  # probabilidad de alta humedad si la temperatura es alta\n",
        "p_h_given_not_t = 0.3  #probabilidad de alta humedad si la temperatura no es alta\n",
        "\n",
        "#se calcula la probabilidad de que la temperatura sea alta\n",
        "probabilidad_temperatura_alta = calcular_probabilidad_temperatura(p_t, p_h, p_h_given_t, p_h_given_not_t)\n",
        "print(f'La probabilidad de que la temperatura sea alta es: {probabilidad_temperatura_alta:.2f}')\n",
        "\n",
        "\n",
        "#variables difusas\n",
        "temperatura = ctrl.Antecedent(np.arange(0, 41, 1), 'temperatura')\n",
        "humedad = ctrl.Antecedent(np.arange(0, 101, 1), 'humedad')\n",
        "velocidad_ventilador = ctrl.Consequent(np.arange(0, 101, 1), 'velocidad_ventilador')\n",
        "\n",
        "#funciones de membresía para la temperatura\n",
        "temperatura['baja'] = fuzz.trimf(temperatura.universe, [0, 0, 20])\n",
        "temperatura['media'] = fuzz.trimf(temperatura.universe, [15, 25, 35])\n",
        "temperatura['alta'] = fuzz.trimf(temperatura.universe, [30, 40, 40])\n",
        "\n",
        "#funciones de membresía para la humedad\n",
        "humedad['baja'] = fuzz.trimf(humedad.universe, [0, 0, 50])\n",
        "humedad['media'] = fuzz.trimf(humedad.universe, [30, 50, 70])\n",
        "humedad['alta'] = fuzz.trimf(humedad.universe, [60, 100, 100])\n",
        "\n",
        "# funciones de membresía para la velocidad del ventilador\n",
        "velocidad_ventilador['baja'] = fuzz.trimf(velocidad_ventilador.universe, [0, 0, 50])\n",
        "velocidad_ventilador['media'] = fuzz.trimf(velocidad_ventilador.universe, [30, 50, 70])\n",
        "velocidad_ventilador['alta'] = fuzz.trimf(velocidad_ventilador.universe, [60, 100, 100])\n",
        "\n",
        "# se crean las reglas difusas\n",
        "regla1 = ctrl.Rule(temperatura['baja'] & humedad['baja'], velocidad_ventilador['baja'])\n",
        "regla2 = ctrl.Rule(temperatura['media'] & humedad['media'], velocidad_ventilador['media'])\n",
        "regla3 = ctrl.Rule(temperatura['alta'] & humedad['alta'], velocidad_ventilador['alta'])\n",
        "\n",
        "#sistema de control difuso\n",
        "sistema_control = ctrl.ControlSystem([regla1, regla2, regla3])\n",
        "sistema = ctrl.ControlSystemSimulation(sistema_control)\n",
        "\n",
        "# asignar valores a la temperatura y humedad\n",
        "sistema.input['temperatura'] = 35\n",
        "sistema.input['humedad'] = 80\n",
        "\n",
        "# velocidad del ventilador\n",
        "sistema.compute()\n",
        "velocidad = sistema.output['velocidad_ventilador']\n",
        "print(f'La velocidad del ventilador sugerida es: {velocidad:.1f}')\n"
      ]
    }
  ]
}