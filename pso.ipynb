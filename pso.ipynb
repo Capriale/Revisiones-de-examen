{
 "cells": [
  {
   "cell_type": "code",
   "execution_count": 1,
   "metadata": {},
   "outputs": [],
   "source": [
    "import random\n",
    "\n",
    "def particle_swarm_optimization(num_particles=30, num_iterations=100):\n",
    "    particles = [random.uniform(-10, 10) for _ in range(num_particles)]\n",
    "    velocities = [random.uniform(-1, 1) for _ in range(num_particles)]\n",
    "    \n",
    "    personal_best_positions = particles[:]\n",
    "    global_best_position = min(particles, key=lambda x: 3*x**2 + 2*x + 1)\n",
    "    \n",
    "    for _ in range(num_iterations):\n",
    "        for i in range(num_particles):\n",
    "            velocities[i] = 0.5 * velocities[i] + 0.5 * (personal_best_positions[i] - particles[i]) + 0.5 * (global_best_position - particles[i])\n",
    "            particles[i] += velocities[i]\n",
    "            \n",
    "            #Update personal best\n",
    "            if 3*particles[i]**2 + 2*particles[i] + 1 < 3*personal_best_positions[i]**2 + 2*personal_best_positions[i] + 1:\n",
    "                personal_best_positions[i] = particles[i]\n",
    "        \n",
    "        #Update global best\n",
    "        global_best_position = min(particles, key=lambda x: 3*x**2 + 2*x + 1)\n",
    "    \n",
    "    return global_best_position\n"
   ]
  },
  {
   "cell_type": "code",
   "execution_count": 2,
   "metadata": {},
   "outputs": [
    {
     "name": "stdout",
     "output_type": "stream",
     "text": [
      "Particle Swarm Optimization: x = -0.3333333327411609\n"
     ]
    }
   ],
   "source": [
    "x_pso = particle_swarm_optimization()\n",
    "print(f\"Particle Swarm Optimization: x = {x_pso}\")"
   ]
  }
 ],
 "metadata": {
  "kernelspec": {
   "display_name": "Python 3",
   "language": "python",
   "name": "python3"
  },
  "language_info": {
   "codemirror_mode": {
    "name": "ipython",
    "version": 3
   },
   "file_extension": ".py",
   "mimetype": "text/x-python",
   "name": "python",
   "nbconvert_exporter": "python",
   "pygments_lexer": "ipython3",
   "version": "3.11.9"
  }
 },
 "nbformat": 4,
 "nbformat_minor": 2
}
