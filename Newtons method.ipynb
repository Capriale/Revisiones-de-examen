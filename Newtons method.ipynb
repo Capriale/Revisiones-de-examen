{
 "cells": [
  {
   "cell_type": "code",
   "execution_count": 1,
   "metadata": {},
   "outputs": [],
   "source": [
    "def newtons_method(num_iterations=1000):\n",
    "    x = 0\n",
    "    for i in range(num_iterations):\n",
    "        gradient = 6 * x + 2\n",
    "        hessian = 6 \n",
    "        x = x - gradient / hessian\n",
    "    return x"
   ]
  },
  {
   "cell_type": "code",
   "execution_count": 2,
   "metadata": {},
   "outputs": [
    {
     "name": "stdout",
     "output_type": "stream",
     "text": [
      "Newton's Method: x = -0.3333333333333333\n"
     ]
    }
   ],
   "source": [
    "x_nm = newtons_method()\n",
    "print(f\"Newton's Method: x = {x_nm}\")"
   ]
  }
 ],
 "metadata": {
  "kernelspec": {
   "display_name": "Python 3",
   "language": "python",
   "name": "python3"
  },
  "language_info": {
   "codemirror_mode": {
    "name": "ipython",
    "version": 3
   },
   "file_extension": ".py",
   "mimetype": "text/x-python",
   "name": "python",
   "nbconvert_exporter": "python",
   "pygments_lexer": "ipython3",
   "version": "3.11.9"
  }
 },
 "nbformat": 4,
 "nbformat_minor": 2
}
