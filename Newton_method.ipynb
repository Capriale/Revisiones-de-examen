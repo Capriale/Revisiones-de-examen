{
 "cells": [
  {
   "cell_type": "markdown",
   "id": "0480949b-4221-4877-86e1-0fd4c05f78f4",
   "metadata": {},
   "source": [
    "##### Given the function \n",
    "\n",
    "##### $f(x)=3x^2+2x+1$\n",
    "\n",
    "##### Find the value of 𝑥 that minimizes 𝑓(𝑥) using Newton method"
   ]
  },
  {
   "cell_type": "code",
   "execution_count": 1,
   "id": "76eac292-eca1-442e-84f2-fdf746305800",
   "metadata": {},
   "outputs": [
    {
     "name": "stdout",
     "output_type": "stream",
     "text": [
      "Minimum value of x using Newton's Method: -0.3333333333333333\n"
     ]
    }
   ],
   "source": [
    "def newton_method(initial_x=0.0,tolerance=1e-6,max_iterations=1000):\n",
    "    x=initial_x\n",
    "    for i in range(max_iterations):\n",
    "        f_prime=6*x+2\n",
    "        f_double_prime=6\n",
    "        new_x=x-f_prime/f_double_prime\n",
    "        if abs(new_x-x)<tolerance:\n",
    "            break\n",
    "        x=new_x\n",
    "    return x\n",
    "\n",
    "x_min_newton=newton_method()\n",
    "print(f\"Minimum value of x using Newton's Method: {x_min_newton}\")"
   ]
  }
 ],
 "metadata": {
  "kernelspec": {
   "display_name": "Python 3 (ipykernel)",
   "language": "python",
   "name": "python3"
  },
  "language_info": {
   "codemirror_mode": {
    "name": "ipython",
    "version": 3
   },
   "file_extension": ".py",
   "mimetype": "text/x-python",
   "name": "python",
   "nbconvert_exporter": "python",
   "pygments_lexer": "ipython3",
   "version": "3.9.12"
  }
 },
 "nbformat": 4,
 "nbformat_minor": 5
}
