{
 "cells": [
  {
   "cell_type": "code",
   "execution_count": 1,
   "metadata": {},
   "outputs": [],
   "source": [
    "import heapq"
   ]
  },
  {
   "cell_type": "code",
   "execution_count": 2,
   "metadata": {},
   "outputs": [],
   "source": [
    "def greedy_search(graph, start, goal, heuristic):\n",
    "    #Create a priority queue for the frontier and add the starting node with heuristic cost\n",
    "    frontier = []\n",
    "    heapq.heappush(frontier, (heuristic[start], start))\n",
    "    \n",
    "    #Create a set to store explored nodes\n",
    "    explored = set()\n",
    "    \n",
    "    #While there are nodes to explore in the frontier\n",
    "    while frontier:\n",
    "        #Get the node with the lowest heuristic cost\n",
    "        current_heuristic_cost, current_node = heapq.heappop(frontier)\n",
    "        \n",
    "        #If the goal is reached, return the current node or path if needed\n",
    "        if current_node == goal:\n",
    "            return current_node\n",
    "        \n",
    "        #Add the current node to the explored set\n",
    "        explored.add(current_node)\n",
    "        \n",
    "        #Explore the neighbors of the current node\n",
    "        for neighbor, cost in graph[current_node]:\n",
    "            if neighbor not in explored:\n",
    "                heapq.heappush(frontier, (heuristic[neighbor], neighbor))\n",
    "    \n",
    "    #If the goal is not reachable, return None\n",
    "    return None"
   ]
  },
  {
   "cell_type": "code",
   "execution_count": 4,
   "metadata": {},
   "outputs": [],
   "source": [
    "#Graph and heuristic\n",
    "graph = {\n",
    "    'A': [('B', 1), ('C', 4)],\n",
    "    'B': [('D', 5), ('E', 2)],\n",
    "    'C': [('F', 3), ('G', 4)],\n",
    "    'D': [('H', 3)],\n",
    "    'E': [('H', 6)],\n",
    "    'F': [('I', 4)],\n",
    "    'G': [('J', 2)],\n",
    "    'H': [('I', 1)],\n",
    "    'I': [('J', 2)],\n",
    "    'J': []\n",
    "}\n",
    "\n",
    "heuristic = {\n",
    "    'A': 7,\n",
    "    'B': 6,\n",
    "    'C': 3,\n",
    "    'D': 5,\n",
    "    'E': 4,\n",
    "    'F': 2,\n",
    "    'G': 1,\n",
    "    'H': 3,\n",
    "    'I': 1,\n",
    "    'J': 0\n",
    "}"
   ]
  },
  {
   "cell_type": "code",
   "execution_count": 5,
   "metadata": {},
   "outputs": [
    {
     "name": "stdout",
     "output_type": "stream",
     "text": [
      "Goal J found!\n"
     ]
    }
   ],
   "source": [
    "#Greedy Search\n",
    "start = 'A'\n",
    "goal = 'J'\n",
    "result = greedy_search(graph, start, goal, heuristic)\n",
    "\n",
    "if result:\n",
    "    print(f\"Goal {goal} found!\")\n",
    "else:\n",
    "    print(f\"Goal {goal} is not reachable.\")"
   ]
  }
 ],
 "metadata": {
  "kernelspec": {
   "display_name": "Python 3",
   "language": "python",
   "name": "python3"
  },
  "language_info": {
   "codemirror_mode": {
    "name": "ipython",
    "version": 3
   },
   "file_extension": ".py",
   "mimetype": "text/x-python",
   "name": "python",
   "nbconvert_exporter": "python",
   "pygments_lexer": "ipython3",
   "version": "3.11.9"
  }
 },
 "nbformat": 4,
 "nbformat_minor": 2
}
