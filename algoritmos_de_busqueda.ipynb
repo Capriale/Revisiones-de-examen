{
  "nbformat": 4,
  "nbformat_minor": 0,
  "metadata": {
    "colab": {
      "provenance": []
    },
    "kernelspec": {
      "name": "python3",
      "display_name": "Python 3"
    },
    "language_info": {
      "name": "python"
    }
  },
  "cells": [
    {
      "cell_type": "markdown",
      "source": [
        "# Programas de búsqueda"
      ],
      "metadata": {
        "id": "K_Bd16SivCM0"
      }
    },
    {
      "cell_type": "markdown",
      "source": [
        "## DFS"
      ],
      "metadata": {
        "id": "8w36tlSNvJAz"
      }
    },
    {
      "cell_type": "code",
      "execution_count": null,
      "metadata": {
        "colab": {
          "base_uri": "https://localhost:8080/"
        },
        "id": "Ee5keYZtjir2",
        "outputId": "25e3c714-8772-49e3-b6ae-e8a4c9a7b869"
      },
      "outputs": [
        {
          "output_type": "stream",
          "name": "stdout",
          "text": [
            "[0, 0]\n",
            "[1, 0]\n",
            "[2, 0]\n",
            "[1, 0]\n",
            "[1, 1]\n",
            "[1, 2]\n",
            "Resultado: [[0, 0], [1, 0], [1, 1], [1, 2], [2, 2]]\n"
          ]
        }
      ],
      "source": [
        "def dfs(matriz):\n",
        "    for i in range(len(matriz)):\n",
        "        for j in range(len(matriz[0])):\n",
        "            if matriz[i][j] == \"E\":\n",
        "                goal = [i, j]\n",
        "            if matriz[i][j] == \"S\":\n",
        "                cur = [i, j]\n",
        "\n",
        "    visitados = []\n",
        "    camino = []\n",
        "    while cur != goal:\n",
        "        print(cur)\n",
        "        visitados.append(cur.copy())\n",
        "\n",
        "        if cur[0] + 1 < len(matriz) and matriz[cur[0] + 1][cur[1]] != 1 and [cur[0] + 1, cur[1]] not in visitados: # Derecha\n",
        "            camino.append(cur.copy())\n",
        "            cur[0] += 1\n",
        "        elif cur[0] - 1 >= 0 and matriz[cur[0] - 1][cur[1]] != 1 and [cur[0] - 1, cur[1]] not in visitados: # Izquierda\n",
        "            camino.append(cur.copy())\n",
        "            cur[0] -= 1\n",
        "        elif cur[1] + 1 < len(matriz[0]) and matriz[cur[0]][cur[1] + 1] != 1 and [cur[0], cur[1] + 1] not in visitados: # Arriba\n",
        "            camino.append(cur.copy())\n",
        "            cur[1] += 1\n",
        "        elif cur[1] - 1 >= 0 and matriz[cur[0]][cur[1] - 1] != 1 and [cur[0], cur[1] - 1] not in visitados: # Abajo\n",
        "            camino.append(cur.copy())\n",
        "            cur[1] -= 1\n",
        "        else:\n",
        "            if len(camino) > 0:\n",
        "                visitados.append(cur.copy())\n",
        "                cur = camino.pop()\n",
        "            else:\n",
        "                return \"No hay caminos posibles\"\n",
        "\n",
        "    camino.append(goal)\n",
        "    return camino\n",
        "\n",
        "\n",
        "matriz = [\n",
        "    [\"S\", 1, 0],\n",
        "    [0, 0, 0],\n",
        "    [0, 1, \"E\"]\n",
        "]\n",
        "\n",
        "resultado = dfs(matriz)\n",
        "print(\"Resultado:\", resultado)\n"
      ]
    },
    {
      "cell_type": "markdown",
      "source": [
        "## BFS"
      ],
      "metadata": {
        "id": "gRZePto7kvH6"
      }
    },
    {
      "cell_type": "code",
      "source": [
        "from collections import deque"
      ],
      "metadata": {
        "id": "5EyKnwytwBQ6"
      },
      "execution_count": null,
      "outputs": []
    },
    {
      "cell_type": "code",
      "source": [
        "def bfs(matriz):\n",
        "    for i in range(len(matriz)):\n",
        "        for j in range(len(matriz[0])):\n",
        "            if matriz[i][j] == \"E\":\n",
        "                goal = [i, j]\n",
        "            if matriz[i][j] == \"S\":\n",
        "                cur = [i, j]\n",
        "\n",
        "    visitados = []\n",
        "    camino = deque() # Cola en lugar de pila\n",
        "    while cur != goal:\n",
        "        print(cur)\n",
        "        visitados.append(cur.copy())\n",
        "\n",
        "        if cur[0] + 1 < len(matriz) and matriz[cur[0] + 1][cur[1]] != 1 and [cur[0] + 1, cur[1]] not in visitados:\n",
        "            camino.append(cur.copy())\n",
        "            cur[0] += 1\n",
        "        elif cur[0] - 1 >= 0 and matriz[cur[0] - 1][cur[1]] != 1 and [cur[0] - 1, cur[1]] not in visitados:\n",
        "            camino.append(cur.copy())\n",
        "            cur[0] -= 1\n",
        "        elif cur[1] + 1 < len(matriz[0]) and matriz[cur[0]][cur[1] + 1] != 1 and [cur[0], cur[1] + 1] not in visitados:\n",
        "            camino.append(cur.copy())\n",
        "            cur[1] += 1\n",
        "        elif cur[1] - 1 >= 0 and matriz[cur[0]][cur[1] - 1] != 1 and [cur[0], cur[1] - 1] not in visitados:\n",
        "            camino.append(cur.copy())\n",
        "            cur[1] -= 1\n",
        "        else:\n",
        "            if len(camino) > 0:\n",
        "                visitados.append(cur.copy())\n",
        "                cur = camino.popleft()\n",
        "            else:\n",
        "                return \"No hay caminos posibles\"\n",
        "\n",
        "    camino.append(goal)\n",
        "    return camino\n",
        "\n",
        "\n",
        "matriz = [\n",
        "    [\"S\", 1, 0],\n",
        "    [0, 0, 0],\n",
        "    [0, 1, \"E\"]\n",
        "]\n",
        "\n",
        "resultado = bfs(matriz)\n",
        "print(\"Resultado:\", list(resultado))"
      ],
      "metadata": {
        "colab": {
          "base_uri": "https://localhost:8080/"
        },
        "id": "TiLO742OvTwI",
        "outputId": "e66391c0-7f50-4b84-d198-920aa947a0ad"
      },
      "execution_count": null,
      "outputs": [
        {
          "output_type": "stream",
          "name": "stdout",
          "text": [
            "[0, 0]\n",
            "[1, 0]\n",
            "[2, 0]\n",
            "[0, 0]\n",
            "[1, 0]\n",
            "[1, 1]\n",
            "[1, 2]\n",
            "Resultado: [[1, 0], [1, 1], [1, 2], [2, 2]]\n"
          ]
        }
      ]
    },
    {
      "cell_type": "markdown",
      "source": [
        "## Uniform Cost Search"
      ],
      "metadata": {
        "id": "QPtnUY7LwJL9"
      }
    },
    {
      "cell_type": "code",
      "source": [
        "import heapq"
      ],
      "metadata": {
        "id": "Ss5r82DFC8Xq"
      },
      "execution_count": 2,
      "outputs": []
    },
    {
      "cell_type": "code",
      "source": [
        "def ucs(matriz):\n",
        "    for i in range(len(matriz)):\n",
        "        for j in range(len(matriz[0])):\n",
        "            if matriz[i][j] == \"E\":\n",
        "                goal = [i, j]\n",
        "            if matriz[i][j] == \"S\":\n",
        "                cur = [i, j]\n",
        "\n",
        "    visitados = {}  # Diccionario en lugar de array para guardar nodos y costos\n",
        "    camino = []\n",
        "    heapq.heappush(camino, (0, cur, []))\n",
        "\n",
        "    while camino:\n",
        "        costo, cur, path = heapq.heappop(camino)\n",
        "        print(cur)\n",
        "        if cur == goal:\n",
        "            return path + [cur], costo\n",
        "\n",
        "        if tuple(cur) in visitados and visitados[tuple(cur)] <= costo:\n",
        "            continue\n",
        "\n",
        "        visitados[tuple(cur)] = costo\n",
        "\n",
        "        path = path + [cur]\n",
        "\n",
        "        movimientos = [\n",
        "            (cur[0] + 1, cur[1]), # Abajo\n",
        "            (cur[0] - 1, cur[1]), # Arriba\n",
        "            (cur[0], cur[1] + 1), # Derecha\n",
        "            (cur[0], cur[1] - 1)  # Izquierda\n",
        "        ]\n",
        "\n",
        "        for movimiento in movimientos:\n",
        "            x, y = movimiento\n",
        "            if 0 <= x < len(matriz) and 0 <= y < len(matriz[0]) and matriz[x][y] != 1:\n",
        "                nuevo_costo = costo + 1\n",
        "                heapq.heappush(camino, (nuevo_costo, [x, y], path))\n",
        "\n",
        "    return None\n",
        "\n",
        "# Ejemplo de uso\n",
        "matriz = [\n",
        "    [\"S\", 1, 0],\n",
        "    [0, 0, 0],\n",
        "    [0, 1, \"E\"]\n",
        "]\n",
        "\n",
        "resultado = ucs(matriz)\n",
        "print(\"Resultado:\", resultado[0])"
      ],
      "metadata": {
        "colab": {
          "base_uri": "https://localhost:8080/"
        },
        "id": "GSD_2fRmwQ5e",
        "outputId": "ca2fa004-9d11-481a-ab08-81f772ff42c6"
      },
      "execution_count": 8,
      "outputs": [
        {
          "output_type": "stream",
          "name": "stdout",
          "text": [
            "[0, 0]\n",
            "[1, 0]\n",
            "[0, 0]\n",
            "[1, 1]\n",
            "[2, 0]\n",
            "[1, 0]\n",
            "[1, 0]\n",
            "[1, 2]\n",
            "[0, 2]\n",
            "[1, 1]\n",
            "[2, 2]\n",
            "Resultado: [[0, 0], [1, 0], [1, 1], [1, 2], [2, 2]]\n"
          ]
        }
      ]
    },
    {
      "cell_type": "markdown",
      "source": [
        "## Greedy Search"
      ],
      "metadata": {
        "id": "rcDzSMjpFL4N"
      }
    },
    {
      "cell_type": "code",
      "source": [
        "def manh(a, b): # Calcular la distancia manhattan\n",
        "    return abs(a[0] - b[0]) + abs(a[1] - b[1])\n",
        "\n",
        "def greedy(matriz):\n",
        "    for i in range(len(matriz)):\n",
        "        for j in range(len(matriz[0])):\n",
        "            if matriz[i][j] == \"E\":\n",
        "                goal = [i, j]\n",
        "            if matriz[i][j] == \"S\":\n",
        "                cur = [i, j]\n",
        "\n",
        "    camino = []\n",
        "    heapq.heappush(camino, (manh(cur, goal), cur, []))\n",
        "\n",
        "    while camino:\n",
        "        print(cur)\n",
        "        _, cur, path = heapq.heappop(camino)\n",
        "\n",
        "        if cur == goal:\n",
        "            return path + [goal]\n",
        "\n",
        "        path = path + [cur]\n",
        "\n",
        "        movimientos = [\n",
        "            (cur[0] + 1, cur[1]), # Abajo\n",
        "            (cur[0] - 1, cur[1]), # Arriba\n",
        "            (cur[0], cur[1] + 1), # Derecha\n",
        "            (cur[0], cur[1] - 1)  # Izquierda\n",
        "        ]\n",
        "\n",
        "        for movimiento in movimientos:\n",
        "            x, y = movimiento\n",
        "            if 0 <= x < len(matriz) and 0 <= y < len(matriz[0]) and matriz[x][y] != 1:\n",
        "                prioridad = manh([x, y], goal)\n",
        "                heapq.heappush(camino, (prioridad, [x, y], path))\n",
        "\n",
        "    return None\n",
        "\n",
        "# Ejemplo de uso\n",
        "matriz = [\n",
        "    [\"S\", 1, 0],\n",
        "    [0, 0, 0],\n",
        "    [0, 1, \"E\"]\n",
        "]\n",
        "\n",
        "resultado = greedy(matriz)\n",
        "if resultado:\n",
        "    print(\"Resultado:\", resultado)\n",
        "else:\n",
        "    print(\"No se encontró un camino.\")"
      ],
      "metadata": {
        "colab": {
          "base_uri": "https://localhost:8080/"
        },
        "id": "DCoYqOhbROhN",
        "outputId": "99ef78b9-cfd3-42d4-a747-9c81bb6d88c2"
      },
      "execution_count": 7,
      "outputs": [
        {
          "output_type": "stream",
          "name": "stdout",
          "text": [
            "[0, 0]\n",
            "[0, 0]\n",
            "[1, 0]\n",
            "[1, 1]\n",
            "[1, 2]\n",
            "Resultado: [[0, 0], [1, 0], [1, 1], [1, 2], [2, 2]]\n"
          ]
        }
      ]
    },
    {
      "cell_type": "markdown",
      "source": [
        "## A*"
      ],
      "metadata": {
        "id": "sH2-D45oRZ-P"
      }
    },
    {
      "cell_type": "code",
      "source": [
        "def manh(a, b): # Calcular la distancia manhattan\n",
        "    return abs(a[0] - b[0]) + abs(a[1] - b[1])\n",
        "\n",
        "def a_s(matriz):\n",
        "    for i in range(len(matriz)):\n",
        "        for j in range(len(matriz[0])):\n",
        "            if matriz[i][j] == \"E\":\n",
        "                goal = [i, j]\n",
        "            if matriz[i][j] == \"S\":\n",
        "                cur = [i, j]\n",
        "\n",
        "    camino = []\n",
        "    heapq.heappush(camino, (manh(cur, goal), 0, cur, []))\n",
        "\n",
        "    while camino:\n",
        "        print(cur)\n",
        "        f, g, cur, path = heapq.heappop(camino)\n",
        "\n",
        "        if cur == goal:\n",
        "            return path + [goal]\n",
        "\n",
        "        path = path + [cur]\n",
        "\n",
        "        movimientos = [\n",
        "            (cur[0] + 1, cur[1]), # Abajo\n",
        "            (cur[0] - 1, cur[1]), # Arriba\n",
        "            (cur[0], cur[1] + 1), # Derecha\n",
        "            (cur[0], cur[1] - 1)  # Izquierda\n",
        "        ]\n",
        "\n",
        "        for movimiento in movimientos:\n",
        "            x, y = movimiento\n",
        "            g_2 = g + 1 # costo para llegar a este nodo\n",
        "            f_2 = f + manh([x, y], goal) # f(n) = g(n) + h(n)\n",
        "            if 0 <= x < len(matriz) and 0 <= y < len(matriz[0]) and matriz[x][y] != 1:\n",
        "                prioridad = manh([x, y], goal)\n",
        "                heapq.heappush(camino, (f_2, g_2, [x, y], path))\n",
        "\n",
        "    return None\n",
        "\n",
        "# Ejemplo de uso\n",
        "matriz = [\n",
        "    [\"S\", 1, 0],\n",
        "    [0, 0, 0],\n",
        "    [0, 1, \"E\"]\n",
        "]\n",
        "\n",
        "resultado = a_s(matriz)\n",
        "if resultado:\n",
        "    print(\"Resultado:\", resultado)\n",
        "else:\n",
        "    print(\"No se encontró un camino.\")"
      ],
      "metadata": {
        "colab": {
          "base_uri": "https://localhost:8080/"
        },
        "id": "Hbzn4Th1Rr3x",
        "outputId": "09c7aa35-fd54-4fee-99a1-9866e9cde9be"
      },
      "execution_count": 6,
      "outputs": [
        {
          "output_type": "stream",
          "name": "stdout",
          "text": [
            "[0, 0]\n",
            "[0, 0]\n",
            "[1, 0]\n",
            "[1, 1]\n",
            "[2, 0]\n",
            "[1, 2]\n",
            "Resultado: [[0, 0], [1, 0], [1, 1], [1, 2], [2, 2]]\n"
          ]
        }
      ]
    },
    {
      "cell_type": "markdown",
      "source": [
        "## A* Graph Search"
      ],
      "metadata": {
        "id": "DBqWiwkrrKuU"
      }
    },
    {
      "cell_type": "code",
      "source": [
        "import heapq\n",
        "\n",
        "def manh(a, b): # Calcular la distancia de Manhattan\n",
        "    return abs(a[0] - b[0]) + abs(a[1] - b[1])\n",
        "\n",
        "def a_sg(matriz):\n",
        "    for i in range(len(matriz)):\n",
        "        for j in range(len(matriz[0])):\n",
        "            if matriz[i][j] == \"E\":\n",
        "                goal = [i, j]\n",
        "            if matriz[i][j] == \"S\":\n",
        "                cur = [i, j]\n",
        "\n",
        "    visitados = set() # Conjunto de visitados para solo expander cada grafo una vez\n",
        "    camino = []\n",
        "    heapq.heappush(camino, (manh(cur, goal), 0, cur, []))\n",
        "\n",
        "    while camino:\n",
        "        print(cur)\n",
        "        f, g, cur, path = heapq.heappop(camino)\n",
        "\n",
        "        if cur == goal:\n",
        "            return path + [goal]\n",
        "\n",
        "        if tuple(cur) in visitados:\n",
        "            continue\n",
        "\n",
        "        visitados.add(tuple(cur))\n",
        "\n",
        "        path = path + [cur]\n",
        "\n",
        "        movimientos = [\n",
        "            (cur[0] + 1, cur[1]), # Abajo\n",
        "            (cur[0] - 1, cur[1]), # Arriba\n",
        "            (cur[0], cur[1] + 1), # Derecha\n",
        "            (cur[0], cur[1] - 1)  # Izquierda\n",
        "        ]\n",
        "\n",
        "        for movimiento in movimientos:\n",
        "            x, y = movimiento\n",
        "            if 0 <= x < len(matriz) and 0 <= y < len(matriz[0]) and matriz[x][y] != 1:\n",
        "                g_2 = g + 1\n",
        "                f_2 = g_2 + manh([x, y], goal)\n",
        "                heapq.heappush(camino, (f_2, g_2, [x, y], path))\n",
        "                if (x, y) not in visitados: # Prioridad para grafos no visitados\n",
        "                    heapq.heappush(camino, (f_2, g_2, [x, y], path))\n",
        "\n",
        "    return None\n",
        "\n",
        "matriz = [\n",
        "    [\"S\", 1, 0],\n",
        "    [0, 0, 0],\n",
        "    [0, 1, \"E\"]\n",
        "]\n",
        "\n",
        "resultado = a_sg(matriz)\n",
        "if resultado:\n",
        "    print(\"Resultado:\", resultado)\n",
        "else:\n",
        "    print(\"No se encontró un camino.\")\n"
      ],
      "metadata": {
        "id": "ZaJQcveIrcbt",
        "colab": {
          "base_uri": "https://localhost:8080/"
        },
        "outputId": "cfd3df82-c384-4d8f-b6e0-a8a60392641c"
      },
      "execution_count": 10,
      "outputs": [
        {
          "output_type": "stream",
          "name": "stdout",
          "text": [
            "[0, 0]\n",
            "[0, 0]\n",
            "[1, 0]\n",
            "[1, 0]\n",
            "[1, 1]\n",
            "[1, 1]\n",
            "[2, 0]\n",
            "[2, 0]\n",
            "[1, 2]\n",
            "[1, 2]\n",
            "Resultado: [[0, 0], [1, 0], [1, 1], [1, 2], [2, 2]]\n"
          ]
        }
      ]
    }
  ]
}