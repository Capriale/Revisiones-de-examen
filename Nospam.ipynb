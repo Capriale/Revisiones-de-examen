{
  "nbformat": 4,
  "nbformat_minor": 0,
  "metadata": {
    "colab": {
      "provenance": []
    },
    "kernelspec": {
      "name": "python3",
      "display_name": "Python 3"
    },
    "language_info": {
      "name": "python"
    }
  },
  "cells": [
    {
      "cell_type": "code",
      "source": [
        "!pip install scikit-fuzzy"
      ],
      "metadata": {
        "colab": {
          "base_uri": "https://localhost:8080/"
        },
        "id": "4R1HLFP-1zLf",
        "outputId": "10422cf2-dab0-417b-9411-c62d770f58dc"
      },
      "execution_count": null,
      "outputs": [
        {
          "output_type": "stream",
          "name": "stdout",
          "text": [
            "Collecting scikit-fuzzy\n",
            "  Downloading scikit_fuzzy-0.5.0-py2.py3-none-any.whl.metadata (2.6 kB)\n",
            "Downloading scikit_fuzzy-0.5.0-py2.py3-none-any.whl (920 kB)\n",
            "\u001b[2K   \u001b[90m━━━━━━━━━━━━━━━━━━━━━━━━━━━━━━━━━━━━━━━━\u001b[0m \u001b[32m920.8/920.8 kB\u001b[0m \u001b[31m9.0 MB/s\u001b[0m eta \u001b[36m0:00:00\u001b[0m\n",
            "\u001b[?25hInstalling collected packages: scikit-fuzzy\n",
            "Successfully installed scikit-fuzzy-0.5.0\n"
          ]
        }
      ]
    },
    {
      "cell_type": "code",
      "execution_count": null,
      "metadata": {
        "colab": {
          "base_uri": "https://localhost:8080/"
        },
        "id": "ConImqAw1lqH",
        "outputId": "366c2c76-c74d-4e8c-88cb-8d350b08d59d"
      },
      "outputs": [
        {
          "output_type": "stream",
          "name": "stdout",
          "text": [
            "La probabilidad de que el correo sea spam es: 0.04\n",
            "Acción sugerida: 10.1 -> ignorar el correo\n",
            "\n",
            "Evaluación del Sistema:\n",
            "1. Funcionalidad del Agente Inteligente:\n",
            "   - El sistema usa el Teorema de Bayes para calcular la probabilidad de spam con precisión.\n",
            "2. Eficiencia del Sistema Basado en Lógica Difusa:\n",
            "   - El sistema toma decisiones sobre cómo manejar correos electrónicos basadas en la probabilidad de spam.\n",
            "3. Implementación del Protocolo de Comunicación:\n",
            "   - La probabilidad de spam calculada por Bayes se comunica eficazmente al sistema difuso para tomar decisiones.\n",
            "4. Documentación y Presentación:\n",
            "   - El código incluye comentarios claros y el flujo de trabajo está bien documentado para facilitar la comprensión.\n",
            "\n"
          ]
        }
      ],
      "source": [
        "import numpy as np\n",
        "import skfuzzy as fuzz\n",
        "from skfuzzy import control as ctrl\n",
        "\n",
        "# Parte 1: Implementación del Teorema de Bayes para clasificar correos electrónicos como spam o no spam\n",
        "\n",
        "def calcular_probabilidad_spam(p_s, p_no_s, p_w_given_s, p_w_given_no_s):\n",
        "    \"\"\"\n",
        "    Calcula la probabilidad de que un correo sea spam dado que contiene ciertas palabras clave.\n",
        "    \"\"\"\n",
        "    # Teorema de Bayes\n",
        "    numerador = p_w_given_s * p_s\n",
        "    denominador = (p_w_given_s * p_s) + (p_w_given_no_s * p_no_s)\n",
        "    return numerador / denominador\n",
        "\n",
        "# Probabilidades iniciales (puedes cambiarlas según el contexto)\n",
        "p_s = 0.1  # Probabilidad de que un correo sea spam\n",
        "p_no_s = 0.5  # Probabilidad de que un correo no sea spam\n",
        "p_w_given_s = 0.1  # Probabilidad de que las palabras clave aparezcan en correos spam\n",
        "p_w_given_no_s = 0.5  # Probabilidad de que las palabras clave aparezcan en correos no spam\n",
        "\n",
        "# Calcular la probabilidad de que el correo sea spam\n",
        "prob_spam = calcular_probabilidad_spam(p_s, p_no_s, p_w_given_s, p_w_given_no_s)\n",
        "print(f'La probabilidad de que el correo sea spam es: {prob_spam:.2f}')\n",
        "\n",
        "# Parte 2: Sistema basado en lógica difusa para tomar decisiones sobre cómo manejar correos electrónicos\n",
        "\n",
        "# Definir las variables difusas\n",
        "probabilidad_spam = ctrl.Antecedent(np.arange(0, 1.1, 0.1), 'probabilidad_spam')\n",
        "accion = ctrl.Consequent(np.arange(0, 101, 10), 'accion')\n",
        "\n",
        "# Definir las funciones de membresía para la probabilidad de spam\n",
        "probabilidad_spam['baja'] = fuzz.trimf(probabilidad_spam.universe, [0, 0, 0.5])\n",
        "probabilidad_spam['media'] = fuzz.trimf(probabilidad_spam.universe, [0.3, 0.5, 0.7])\n",
        "probabilidad_spam['alta'] = fuzz.trimf(probabilidad_spam.universe, [0.5, 1, 1])\n",
        "\n",
        "# Definir las funciones de membresía para la acción a tomar\n",
        "accion['ignorar'] = fuzz.trimf(accion.universe, [0, 0, 30])\n",
        "accion['revisar'] = fuzz.trimf(accion.universe, [20, 40, 60])\n",
        "accion['mover_spam'] = fuzz.trimf(accion.universe, [50, 100, 100])\n",
        "\n",
        "# Crear las reglas difusas\n",
        "regla1 = ctrl.Rule(probabilidad_spam['baja'], accion['ignorar'])\n",
        "regla2 = ctrl.Rule(probabilidad_spam['media'], accion['revisar'])\n",
        "regla3 = ctrl.Rule(probabilidad_spam['alta'], accion['mover_spam'])\n",
        "\n",
        "# Crear el sistema de control difuso\n",
        "sistema_control = ctrl.ControlSystem([regla1, regla2, regla3])\n",
        "sistema = ctrl.ControlSystemSimulation(sistema_control)\n",
        "\n",
        "# Asignar la probabilidad de spam calculada al sistema difuso\n",
        "sistema.input['probabilidad_spam'] = prob_spam\n",
        "\n",
        "# Computar la decisión del sistema difuso\n",
        "sistema.compute()\n",
        "\n",
        "# Mostrar la acción sugerida por el sistema difuso\n",
        "accion_sugerida = sistema.output['accion']\n",
        "if accion_sugerida < 30:\n",
        "    decision = \"ignorar el correo\"\n",
        "elif 30 <= accion_sugerida < 60:\n",
        "    decision = \"revisar el correo manualmente\"\n",
        "else:\n",
        "    decision = \"mover el correo a la carpeta de spam\"\n",
        "\n",
        "print(f'Acción sugerida: {accion_sugerida:.1f} -> {decision}')\n",
        "\n",
        "# Documentación del flujo de trabajo\n",
        "print(\"\"\"\n",
        "Evaluación del Sistema:\n",
        "1. Funcionalidad del Agente Inteligente:\n",
        "   - El sistema usa el Teorema de Bayes para calcular la probabilidad de spam con precisión.\n",
        "2. Eficiencia del Sistema Basado en Lógica Difusa:\n",
        "   - El sistema toma decisiones sobre cómo manejar correos electrónicos basadas en la probabilidad de spam.\n",
        "3. Implementación del Protocolo de Comunicación:\n",
        "   - La probabilidad de spam calculada por Bayes se comunica eficazmente al sistema difuso para tomar decisiones.\n",
        "4. Documentación y Presentación:\n",
        "   - El código incluye comentarios claros y el flujo de trabajo está bien documentado para facilitar la comprensión.\n",
        "\"\"\")\n"
      ]
    }
  ]
}