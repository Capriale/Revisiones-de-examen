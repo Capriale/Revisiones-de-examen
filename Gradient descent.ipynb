{
 "cells": [
  {
   "cell_type": "code",
   "execution_count": 6,
   "metadata": {},
   "outputs": [],
   "source": [
    "def gradient_descent(learning_rate=0.01, num_iterations=1000):\n",
    "    x = 0\n",
    "    for i in range(num_iterations):\n",
    "        gradient = 6 * x + 2 \n",
    "        x = x - learning_rate * gradient\n",
    "    return x\n"
   ]
  },
  {
   "cell_type": "code",
   "execution_count": 7,
   "metadata": {},
   "outputs": [
    {
     "name": "stdout",
     "output_type": "stream",
     "text": [
      "Gradient Descent: x = -0.33333333333333287\n"
     ]
    }
   ],
   "source": [
    "x_gd = gradient_descent()\n",
    "print(f\"Gradient Descent: x = {x_gd}\")"
   ]
  }
 ],
 "metadata": {
  "kernelspec": {
   "display_name": "Python 3",
   "language": "python",
   "name": "python3"
  },
  "language_info": {
   "codemirror_mode": {
    "name": "ipython",
    "version": 3
   },
   "file_extension": ".py",
   "mimetype": "text/x-python",
   "name": "python",
   "nbconvert_exporter": "python",
   "pygments_lexer": "ipython3",
   "version": "3.11.9"
  }
 },
 "nbformat": 4,
 "nbformat_minor": 2
}
