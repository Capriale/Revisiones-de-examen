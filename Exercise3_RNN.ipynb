{
  "nbformat": 4,
  "nbformat_minor": 0,
  "metadata": {
    "colab": {
      "provenance": []
    },
    "kernelspec": {
      "name": "python3",
      "display_name": "Python 3"
    },
    "language_info": {
      "name": "python"
    }
  },
  "cells": [
    {
      "cell_type": "code",
      "execution_count": 8,
      "metadata": {
        "colab": {
          "base_uri": "https://localhost:8080/"
        },
        "id": "aessTe17KxAY",
        "outputId": "a4f23473-b581-43a7-c65a-3434b44e8edf"
      },
      "outputs": [
        {
          "output_type": "stream",
          "name": "stdout",
          "text": [
            "Epoch 1/10\n",
            "\u001b[1m313/313\u001b[0m \u001b[32m━━━━━━━━━━━━━━━━━━━━\u001b[0m\u001b[37m\u001b[0m \u001b[1m99s\u001b[0m 300ms/step - accuracy: 0.6948 - loss: 0.5500 - val_accuracy: 0.8604 - val_loss: 0.3405\n",
            "Epoch 2/10\n",
            "\u001b[1m313/313\u001b[0m \u001b[32m━━━━━━━━━━━━━━━━━━━━\u001b[0m\u001b[37m\u001b[0m \u001b[1m151s\u001b[0m 328ms/step - accuracy: 0.9001 - loss: 0.2537 - val_accuracy: 0.8600 - val_loss: 0.3186\n",
            "Epoch 3/10\n",
            "\u001b[1m313/313\u001b[0m \u001b[32m━━━━━━━━━━━━━━━━━━━━\u001b[0m\u001b[37m\u001b[0m \u001b[1m141s\u001b[0m 326ms/step - accuracy: 0.9337 - loss: 0.1814 - val_accuracy: 0.8590 - val_loss: 0.3583\n",
            "Epoch 4/10\n",
            "\u001b[1m313/313\u001b[0m \u001b[32m━━━━━━━━━━━━━━━━━━━━\u001b[0m\u001b[37m\u001b[0m \u001b[1m99s\u001b[0m 317ms/step - accuracy: 0.9479 - loss: 0.1486 - val_accuracy: 0.8686 - val_loss: 0.3677\n",
            "Epoch 5/10\n",
            "\u001b[1m313/313\u001b[0m \u001b[32m━━━━━━━━━━━━━━━━━━━━\u001b[0m\u001b[37m\u001b[0m \u001b[1m141s\u001b[0m 316ms/step - accuracy: 0.9619 - loss: 0.1102 - val_accuracy: 0.8686 - val_loss: 0.4518\n",
            "Epoch 6/10\n",
            "\u001b[1m313/313\u001b[0m \u001b[32m━━━━━━━━━━━━━━━━━━━━\u001b[0m\u001b[37m\u001b[0m \u001b[1m99s\u001b[0m 315ms/step - accuracy: 0.9713 - loss: 0.0858 - val_accuracy: 0.8566 - val_loss: 0.3832\n",
            "Epoch 7/10\n",
            "\u001b[1m313/313\u001b[0m \u001b[32m━━━━━━━━━━━━━━━━━━━━\u001b[0m\u001b[37m\u001b[0m \u001b[1m140s\u001b[0m 308ms/step - accuracy: 0.9775 - loss: 0.0657 - val_accuracy: 0.8604 - val_loss: 0.5170\n",
            "Epoch 8/10\n",
            "\u001b[1m313/313\u001b[0m \u001b[32m━━━━━━━━━━━━━━━━━━━━\u001b[0m\u001b[37m\u001b[0m \u001b[1m98s\u001b[0m 314ms/step - accuracy: 0.9807 - loss: 0.0587 - val_accuracy: 0.8622 - val_loss: 0.5500\n",
            "Epoch 9/10\n",
            "\u001b[1m313/313\u001b[0m \u001b[32m━━━━━━━━━━━━━━━━━━━━\u001b[0m\u001b[37m\u001b[0m \u001b[1m98s\u001b[0m 311ms/step - accuracy: 0.9881 - loss: 0.0390 - val_accuracy: 0.8604 - val_loss: 0.6100\n",
            "Epoch 10/10\n",
            "\u001b[1m313/313\u001b[0m \u001b[32m━━━━━━━━━━━━━━━━━━━━\u001b[0m\u001b[37m\u001b[0m \u001b[1m97s\u001b[0m 311ms/step - accuracy: 0.9890 - loss: 0.0360 - val_accuracy: 0.8584 - val_loss: 0.5731\n",
            "\u001b[1m782/782\u001b[0m \u001b[32m━━━━━━━━━━━━━━━━━━━━\u001b[0m\u001b[37m\u001b[0m \u001b[1m40s\u001b[0m 51ms/step\n",
            "Classification Report:\n",
            "              precision    recall  f1-score   support\n",
            "\n",
            "           0       0.85      0.84      0.85     12500\n",
            "           1       0.84      0.86      0.85     12500\n",
            "\n",
            "    accuracy                           0.85     25000\n",
            "   macro avg       0.85      0.85      0.85     25000\n",
            "weighted avg       0.85      0.85      0.85     25000\n",
            "\n"
          ]
        }
      ],
      "source": [
        "import numpy as np\n",
        "import tensorflow as tf\n",
        "from tensorflow import keras\n",
        "from tensorflow.keras.layers import Embedding, LSTM, Dense, Bidirectional\n",
        "from sklearn.metrics import classification_report\n",
        "\n",
        "#data preprocessing (Tokenization & Padding)\n",
        "def load_imdb_data():\n",
        "    vocab_size = 10000  # Vocab size\n",
        "    maxlen = 200        # standarize length\n",
        "\n",
        "    #load and tokenize the IMDB dataset\n",
        "    (X_train, y_train), (X_test, y_test) = keras.datasets.imdb.load_data(num_words=vocab_size)\n",
        "\n",
        "    #pad sequences that ensure uniform length\n",
        "    X_train = keras.preprocessing.sequence.pad_sequences(X_train, maxlen=maxlen)\n",
        "    X_test = keras.preprocessing.sequence.pad_sequences(X_test, maxlen=maxlen)\n",
        "\n",
        "    return X_train, y_train, X_test, y_test\n",
        "\n",
        "#load  dataset\n",
        "X_train, y_train, X_test, y_test = load_imdb_data()\n",
        "\n",
        "#Model Architecture (Embedding + LSTM)\n",
        "model = keras.Sequential([\n",
        "    #Embedding layer\n",
        "    Embedding(input_dim=10000, output_dim=64),\n",
        "\n",
        "    #Bidirectional LSTM - architectural improvement*********\n",
        "    Bidirectional(LSTM(64)),\n",
        "\n",
        "    #Output layer (binary classification: positive/negative sentiment)\n",
        "    Dense(1, activation='sigmoid')\n",
        "])\n",
        "\n",
        "#compile model\n",
        "model.compile(\n",
        "    optimizer=keras.optimizers.Adam(1e-3),\n",
        "    loss='binary_crossentropy',\n",
        "    metrics=['accuracy']\n",
        ")\n",
        "\n",
        "# Train the model\n",
        "history = model.fit(\n",
        "    X_train, y_train,\n",
        "    epochs=10,\n",
        "    batch_size=64,\n",
        "    validation_split=0.2  # 20% training data for validation\n",
        ")\n",
        "\n",
        "#Model Evaluation - Predict sentiment probabilities\n",
        "y_pred_probs = model.predict(X_test)\n",
        "\n",
        "# Convert probabilities to binary predictions (0- negative or 1 - positive)\n",
        "y_pred = (y_pred_probs > 0.5).astype(\"int32\")\n",
        "\n",
        "# classification report - precision, recall, F1-score\n",
        "print(\"Classification Report:\")\n",
        "print(classification_report(y_test, y_pred))"
      ]
    }
  ]
}