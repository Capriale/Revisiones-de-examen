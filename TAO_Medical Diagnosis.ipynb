{
 "cells": [
  {
   "cell_type": "code",
   "execution_count": 1,
   "id": "b5b686a4-fd14-422d-b961-699de1168acb",
   "metadata": {},
   "outputs": [
    {
     "name": "stderr",
     "output_type": "stream",
     "text": [
      "C:\\Users\\taoiz\\AppData\\Local\\Programs\\Python\\Python312\\Lib\\site-packages\\tqdm\\auto.py:21: TqdmWarning: IProgress not found. Please update jupyter and ipywidgets. See https://ipywidgets.readthedocs.io/en/stable/user_install.html\n",
      "  from .autonotebook import tqdm as notebook_tqdm\n"
     ]
    }
   ],
   "source": [
    "from pgmpy.models import BayesianNetwork\n",
    "from pgmpy.factors.discrete import TabularCPD\n",
    "from pgmpy.inference import VariableElimination\n",
    "import json"
   ]
  },
  {
   "cell_type": "code",
   "execution_count": 2,
   "id": "954ecdc4-f1cd-4a9f-b54a-f983a8ce615d",
   "metadata": {},
   "outputs": [],
   "source": [
    "# Definir el modelo de diagnóstico\n",
    "model = BayesianNetwork([('Fever', 'Diagnosis'), ('Cough', 'Diagnosis'), ('Fatigue', 'Diagnosis'), ('ShortnessOfBreath', 'Diagnosis')])"
   ]
  },
  {
   "cell_type": "code",
   "execution_count": 3,
   "id": "f42ceb29-fae0-4f5a-a7f9-5128225a6426",
   "metadata": {},
   "outputs": [],
   "source": [
    "# Definir las probabilidades condicionales\n",
    "cpd_fever = TabularCPD(variable='Fever', variable_card=2, values=[[0.6], [0.4]])  # Sí/No\n",
    "cpd_cough = TabularCPD(variable='Cough', variable_card=2, values=[[0.5], [0.5]])\n",
    "cpd_fatigue = TabularCPD(variable='Fatigue', variable_card=2, values=[[0.7], [0.3]])\n",
    "cpd_shortness_of_breath = TabularCPD(variable='ShortnessOfBreath', variable_card=2, values=[[0.8], [0.2]])"
   ]
  },
  {
   "cell_type": "code",
   "execution_count": 4,
   "id": "a0ca50f7-2555-47c8-9b4c-d189e17b6f6d",
   "metadata": {},
   "outputs": [],
   "source": [
    "# Definir CPD para 'Diagnosis' basado en combinaciones de síntomas (ajustando probabilidades para que cada columna sume 1)\n",
    "cpd_diagnosis = TabularCPD(variable='Diagnosis', variable_card=5,\n",
    "                           values=[[0.5, 0.4, 0.4, 0.3, 0.3, 0.2, 0.4, 0.2, 0.4, 0.3, 0.2, 0.3, 0.4, 0.2, 0.3, 0.1],\n",
    "                                   [0.2, 0.3, 0.2, 0.3, 0.3, 0.4, 0.2, 0.4, 0.2, 0.3, 0.4, 0.3, 0.2, 0.3, 0.2, 0.4],\n",
    "                                   [0.1, 0.1, 0.2, 0.2, 0.2, 0.2, 0.1, 0.2, 0.1, 0.2, 0.2, 0.2, 0.1, 0.2, 0.2, 0.2],\n",
    "                                   [0.1, 0.1, 0.1, 0.1, 0.1, 0.1, 0.1, 0.1, 0.1, 0.1, 0.1, 0.1, 0.1, 0.1, 0.1, 0.1],\n",
    "                                   [0.1, 0.1, 0.1, 0.1, 0.1, 0.1, 0.2, 0.1, 0.2, 0.1, 0.1, 0.1, 0.2, 0.2, 0.2, 0.2]],\n",
    "                           evidence=['Fever', 'Cough', 'Fatigue', 'ShortnessOfBreath'],\n",
    "                           evidence_card=[2, 2, 2, 2])\n",
    "\n",
    "model.add_cpds(cpd_fever, cpd_cough, cpd_fatigue, cpd_shortness_of_breath, cpd_diagnosis)"
   ]
  },
  {
   "cell_type": "code",
   "execution_count": 5,
   "id": "9f87d7a3-fcf3-4486-913f-ca7cb429f8c0",
   "metadata": {},
   "outputs": [
    {
     "name": "stdout",
     "output_type": "stream",
     "text": [
      "El modelo es válido.\n"
     ]
    }
   ],
   "source": [
    "# Verificar el modelo\n",
    "try:\n",
    "    model.check_model()\n",
    "    print(\"El modelo es válido.\")\n",
    "except ValueError as e:\n",
    "    print(f\"Error al verificar el modelo: {e}\")"
   ]
  },
  {
   "cell_type": "code",
   "execution_count": 6,
   "id": "f0bbfaa9-1dc0-489e-8dbc-f43b9a86cc81",
   "metadata": {},
   "outputs": [],
   "source": [
    "# Inferencia\n",
    "infer = VariableElimination(model)"
   ]
  },
  {
   "cell_type": "code",
   "execution_count": 7,
   "id": "70b0aac8-14a1-4332-9485-82bb2c248f11",
   "metadata": {},
   "outputs": [],
   "source": [
    "# Función para obtener la entrada del usuario\n",
    "def obtener_entrada_usuario(opciones, tipo):\n",
    "    while True:\n",
    "        try:\n",
    "            print(f\"Selecciona el {tipo}:\")\n",
    "            for i, opcion in enumerate(opciones):\n",
    "                print(f\"{i}: {opcion}\")\n",
    "            opcion = int(input(f\"Elige un número entre 0 y {len(opciones) - 1}: \"))\n",
    "            if 0 <= opcion < len(opciones):\n",
    "                return opcion\n",
    "            else:\n",
    "                print(f\"{tipo} no válido, ingrese una opción correcta.\")\n",
    "        except ValueError:\n",
    "            print(f\"{tipo} no válido, ingrese un número.\")"
   ]
  },
  {
   "cell_type": "code",
   "execution_count": 8,
   "id": "e505f5fa-f4d4-4229-a8c8-dbfd61c81d54",
   "metadata": {},
   "outputs": [],
   "source": [
    "# Definir opciones para síntomas\n",
    "fiebre_opciones = ['No', 'Sí']\n",
    "tos_opciones = ['No', 'Sí']\n",
    "fatiga_opciones = ['No', 'Sí']\n",
    "dificultad_respirar_opciones = ['No', 'Sí']"
   ]
  },
  {
   "cell_type": "code",
   "execution_count": 9,
   "id": "62e7d585-a0fb-4cb4-832f-e51f7367bfec",
   "metadata": {},
   "outputs": [
    {
     "name": "stdout",
     "output_type": "stream",
     "text": [
      "Selecciona el fiebre:\n",
      "0: No\n",
      "1: Sí\n"
     ]
    },
    {
     "name": "stdin",
     "output_type": "stream",
     "text": [
      "Elige un número entre 0 y 1:  1\n"
     ]
    },
    {
     "name": "stdout",
     "output_type": "stream",
     "text": [
      "Selecciona el tos:\n",
      "0: No\n",
      "1: Sí\n"
     ]
    },
    {
     "name": "stdin",
     "output_type": "stream",
     "text": [
      "Elige un número entre 0 y 1:  0\n"
     ]
    },
    {
     "name": "stdout",
     "output_type": "stream",
     "text": [
      "Selecciona el fatiga:\n",
      "0: No\n",
      "1: Sí\n"
     ]
    },
    {
     "name": "stdin",
     "output_type": "stream",
     "text": [
      "Elige un número entre 0 y 1:  1\n"
     ]
    },
    {
     "name": "stdout",
     "output_type": "stream",
     "text": [
      "Selecciona el dificultad para respirar:\n",
      "0: No\n",
      "1: Sí\n"
     ]
    },
    {
     "name": "stdin",
     "output_type": "stream",
     "text": [
      "Elige un número entre 0 y 1:  1\n"
     ]
    }
   ],
   "source": [
    "# Obtener entradas del usuario\n",
    "fiebre_input = obtener_entrada_usuario(fiebre_opciones, 'fiebre')\n",
    "tos_input = obtener_entrada_usuario(tos_opciones, 'tos')\n",
    "fatiga_input = obtener_entrada_usuario(fatiga_opciones, 'fatiga')\n",
    "dificultad_respirar_input = obtener_entrada_usuario(dificultad_respirar_opciones, 'dificultad para respirar')"
   ]
  },
  {
   "cell_type": "code",
   "execution_count": 10,
   "id": "1735b994-7d80-4a34-9f41-ae7972d6a9c8",
   "metadata": {},
   "outputs": [],
   "source": [
    "# Realizar consulta en la red bayesiana (la evidencia debe ser los índices)\n",
    "resultado = infer.query(variables=['Diagnosis'], evidence={\n",
    "    'Fever': fiebre_input,\n",
    "    'Cough': tos_input,\n",
    "    'Fatigue': fatiga_input,\n",
    "    'ShortnessOfBreath': dificultad_respirar_input\n",
    "})\n",
    "\n",
    "posterior_values = resultado.values"
   ]
  },
  {
   "cell_type": "code",
   "execution_count": 11,
   "id": "fed0e177-f819-471c-bc7b-c46401e970d7",
   "metadata": {},
   "outputs": [],
   "source": [
    "# Definir los nombres de las posibles enfermedades\n",
    "enfermedades = [\"Influenza\", \"COVID-19\", \"Common Cold\", \"Bronchitis\", \"Healthy\"]"
   ]
  },
  {
   "cell_type": "code",
   "execution_count": 12,
   "id": "6a688a66-4c80-4301-9fa4-ba1d32111792",
   "metadata": {},
   "outputs": [],
   "source": [
    "# Identificar la enfermedad con la mayor probabilidad\n",
    "indice_max = posterior_values.argmax()\n",
    "enfermedad_probable = enfermedades[indice_max]\n"
   ]
  },
  {
   "cell_type": "code",
   "execution_count": 13,
   "id": "b9a3a3cd-e5df-4bfd-b8a9-2983a1b6d9ee",
   "metadata": {},
   "outputs": [],
   "source": [
    "# Asignar nombres de síntomas\n",
    "fiebre_name = fiebre_opciones[fiebre_input]\n",
    "tos_name = tos_opciones[tos_input]\n",
    "fatiga_name = fatiga_opciones[fatiga_input]\n",
    "dificultad_respirar_name = dificultad_respirar_opciones[dificultad_respirar_input]"
   ]
  },
  {
   "cell_type": "code",
   "execution_count": 14,
   "id": "128d930d-2797-48cc-8ae5-42c0786d2f1e",
   "metadata": {},
   "outputs": [],
   "source": [
    "# Datos que deseas guardar\n",
    "posterior_values_dict = {\n",
    "    \"Diagnosis\": enfermedad_probable,\n",
    "    \"Fever\": fiebre_name,\n",
    "    \"Cough\": tos_name,\n",
    "    \"Fatigue\": fatiga_name,\n",
    "    \"Shortness of Breath\": dificultad_respirar_name\n",
    "}"
   ]
  },
  {
   "cell_type": "code",
   "execution_count": 15,
   "id": "68e9149e-2843-4b61-be77-5c02a0b22c7f",
   "metadata": {},
   "outputs": [],
   "source": [
    "# Guardar en un archivo JSON\n",
    "with open('diagnosis_posterior_values.json', 'w') as json_file:\n",
    "    json.dump(posterior_values_dict, json_file)"
   ]
  },
  {
   "cell_type": "code",
   "execution_count": 16,
   "id": "dfc31279-37c0-4025-b6ed-8dcb22dc37f2",
   "metadata": {},
   "outputs": [
    {
     "name": "stdout",
     "output_type": "stream",
     "text": [
      "La enfermedad más probable es: Influenza\n"
     ]
    }
   ],
   "source": [
    "# Imprimir la enfermedad con la mayor probabilidad\n",
    "print(f\"La enfermedad más probable es: {enfermedad_probable}\")"
   ]
  }
 ],
 "metadata": {
  "kernelspec": {
   "display_name": "Python 3 (ipykernel)",
   "language": "python",
   "name": "python3"
  },
  "language_info": {
   "codemirror_mode": {
    "name": "ipython",
    "version": 3
   },
   "file_extension": ".py",
   "mimetype": "text/x-python",
   "name": "python",
   "nbconvert_exporter": "python",
   "pygments_lexer": "ipython3",
   "version": "3.12.2"
  }
 },
 "nbformat": 4,
 "nbformat_minor": 5
}
