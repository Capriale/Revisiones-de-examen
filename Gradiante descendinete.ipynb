{
 "cells": [
  {
   "cell_type": "code",
   "execution_count": 1,
   "id": "abc7b45e-dac6-48ed-a0c6-1b9cd96cfc24",
   "metadata": {},
   "outputs": [],
   "source": [
    "import numpy as np\n",
    "import sympy as sp"
   ]
  },
  {
   "cell_type": "code",
   "execution_count": 2,
   "id": "8ea7d509-66c3-4341-8f46-41a283e368eb",
   "metadata": {},
   "outputs": [],
   "source": [
    "def gradient_descent(grad_f, x0,lr, tol, max_iter):\n",
    "    x = x0\n",
    "    for i in range(max_iter):\n",
    "        grad = grad_f(x)\n",
    "        if abs(grad) < tol:\n",
    "            print(f\"Converged in {i} iterations.\")\n",
    "            return x\n",
    "        x = x - x0 * grad\n",
    "    print(\"Max iterations exceeded.\")\n",
    "    return x"
   ]
  },
  {
   "cell_type": "code",
   "execution_count": 3,
   "id": "a283f1f3-7458-4daf-a622-03cd89e723f1",
   "metadata": {},
   "outputs": [
    {
     "name": "stdout",
     "output_type": "stream",
     "text": [
      "Converged in 46 iterations.\n",
      "Descenso de gradiente: La solución es x = (-0.33333326266941554-1.0991112032888907e-07j)\n"
     ]
    }
   ],
   "source": [
    "x = sp.symbols('x')\n",
    "f_sym = 3*x**2 + 2*x + 1\n",
    "grad_f_sym = sp.diff(f_sym, x)\n",
    "grad_f = sp.lambdify(x, grad_f_sym, 'numpy')\n",
    "\n",
    "x0 =complex(0.1, 0.1)\n",
    "tol = 1e-6\n",
    "max_iter = 100\n",
    "learning_rate = 0.1\n",
    "\n",
    "min_x_gd = gradient_descent(grad_f, x0, lr=learning_rate, tol=tol, max_iter=max_iter)\n",
    "print(\"Descenso de gradiente: La solución es x =\", min_x_gd)"
   ]
  }
 ],
 "metadata": {
  "kernelspec": {
   "display_name": "Python 3 (ipykernel)",
   "language": "python",
   "name": "python3"
  },
  "language_info": {
   "codemirror_mode": {
    "name": "ipython",
    "version": 3
   },
   "file_extension": ".py",
   "mimetype": "text/x-python",
   "name": "python",
   "nbconvert_exporter": "python",
   "pygments_lexer": "ipython3",
   "version": "3.12.2"
  }
 },
 "nbformat": 4,
 "nbformat_minor": 5
}
