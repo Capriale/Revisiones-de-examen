{
  "nbformat": 4,
  "nbformat_minor": 0,
  "metadata": {
    "colab": {
      "provenance": []
    },
    "kernelspec": {
      "name": "python3",
      "display_name": "Python 3"
    },
    "language_info": {
      "name": "python"
    }
  },
  "cells": [
    {
      "cell_type": "markdown",
      "source": [
        "#Examen"
      ],
      "metadata": {
        "id": "p7vRmUueScQR"
      }
    },
    {
      "cell_type": "code",
      "execution_count": 3,
      "metadata": {
        "colab": {
          "base_uri": "https://localhost:8080/"
        },
        "id": "ZF8Hy_zBA2m3",
        "outputId": "e81fe3f5-9dc7-40fc-d6fb-9b986eb79b50"
      },
      "outputs": [
        {
          "output_type": "stream",
          "name": "stdout",
          "text": [
            "Drive already mounted at /content/drive; to attempt to forcibly remount, call drive.mount(\"/content/drive\", force_remount=True).\n"
          ]
        }
      ],
      "source": [
        "import pandas as pd\n",
        "import numpy as np\n",
        "from google.colab import drive\n",
        "import matplotlib.pyplot as plt\n",
        "from sklearn.preprocessing import StandardScaler\n",
        "\n",
        "drive.mount('/content/drive')\n",
        "\n",
        "file_path = '/content/drive/MyDrive/IA/Examen/'"
      ]
    },
    {
      "cell_type": "markdown",
      "source": [
        "##Cargar datos"
      ],
      "metadata": {
        "id": "51JR9dAXSiqH"
      }
    },
    {
      "cell_type": "code",
      "source": [
        "file_name = 'data.csv'\n",
        "Data = pd.read_csv(file_path + file_name)\n",
        "\n",
        "Data=Data.sort_index()\n",
        "print(Data.head)"
      ],
      "metadata": {
        "colab": {
          "base_uri": "https://localhost:8080/"
        },
        "collapsed": true,
        "id": "nSCLFBDDCoJl",
        "outputId": "d056b665-9510-4de0-81b9-ba75d4212c70"
      },
      "execution_count": 4,
      "outputs": [
        {
          "output_type": "stream",
          "name": "stdout",
          "text": [
            "<bound method NDFrame.head of      age  sex  cp trestbps chol fbs restecg thalach exang  oldpeak slope ca  \\\n",
            "0     28    1   2      130  132   0       2     185     0      0.0     ?  ?   \n",
            "1     29    1   2      120  243   0       0     160     0      0.0     ?  ?   \n",
            "2     29    1   2      140    ?   0       0     170     0      0.0     ?  ?   \n",
            "3     30    0   1      170  237   0       1     170     0      0.0     ?  ?   \n",
            "4     31    0   2      100  219   0       1     150     0      0.0     ?  ?   \n",
            "..   ...  ...  ..      ...  ...  ..     ...     ...   ...      ...   ... ..   \n",
            "289   52    1   4      160  331   0       0      94     1      2.5     ?  ?   \n",
            "290   54    0   3      130  294   0       1     100     1      0.0     2  ?   \n",
            "291   56    1   4      155  342   1       0     150     1      3.0     2  ?   \n",
            "292   58    0   2      180  393   0       0     110     1      1.0     2  ?   \n",
            "293   65    1   4      130  275   0       1     115     1      1.0     2  ?   \n",
            "\n",
            "    thal  num         \n",
            "0      ?           0  \n",
            "1      ?           0  \n",
            "2      ?           0  \n",
            "3      6           0  \n",
            "4      ?           0  \n",
            "..   ...         ...  \n",
            "289    ?           1  \n",
            "290    ?           1  \n",
            "291    ?           1  \n",
            "292    7           1  \n",
            "293    ?           1  \n",
            "\n",
            "[294 rows x 14 columns]>\n"
          ]
        }
      ]
    },
    {
      "cell_type": "code",
      "source": [
        "file_name = 'data1.csv'\n",
        "Data1 = pd.read_csv(file_path + file_name)\n",
        "\n",
        "Data1=Data1.sort_index()\n",
        "print(Data1.head)"
      ],
      "metadata": {
        "colab": {
          "base_uri": "https://localhost:8080/"
        },
        "collapsed": true,
        "id": "YTyIxKAjCucs",
        "outputId": "b8d1048b-6a2e-444d-9716-0d6004af0414"
      },
      "execution_count": 5,
      "outputs": [
        {
          "output_type": "stream",
          "name": "stdout",
          "text": [
            "<bound method NDFrame.head of      age  sex   cp trestbps chol fbs  restecg thalach exang  oldpeak slope ca  \\\n",
            "0     28  1.0  2.0      130  132   0      2.0     185     0      0.0     ?  ?   \n",
            "1     29  1.0  2.0      120  243   0      0.0     160     0      0.0     ?  ?   \n",
            "2     29  1.0  2.0      140    ?   0      0.0     170     0      0.0     ?  ?   \n",
            "3     30  0.0  1.0      170  237   0      1.0     170     0      0.0     ?  ?   \n",
            "4     31  0.0  2.0      100  219   0      1.0     150     0      0.0     ?  ?   \n",
            "..   ...  ...  ...      ...  ...  ..      ...     ...   ...      ...   ... ..   \n",
            "289   52  1.0  4.0      160  331   0      0.0      94     1      2.5     ?  ?   \n",
            "290   54  0.0  3.0      130  294   0      1.0     100     1      0.0     2  ?   \n",
            "291   56  1.0  4.0      155  342   1      0.0     150     1      3.0     2  ?   \n",
            "292   58  0.0  2.0      180  393   0      0.0     110     1      1.0     2  ?   \n",
            "293   65  1.0  4.0      130  275   0      1.0     115     1      1.0     2  ?   \n",
            "\n",
            "    thal  num         \n",
            "0      ?           0  \n",
            "1      ?           0  \n",
            "2      ?           0  \n",
            "3      6           0  \n",
            "4      ?           0  \n",
            "..   ...         ...  \n",
            "289    ?           1  \n",
            "290    ?           1  \n",
            "291    ?           1  \n",
            "292    7           1  \n",
            "293    ?           1  \n",
            "\n",
            "[294 rows x 14 columns]>\n"
          ]
        }
      ]
    },
    {
      "cell_type": "code",
      "source": [
        "file_name = 'data2.csv'\n",
        "Data2 = pd.read_csv(file_path + file_name)\n",
        "\n",
        "Data2=Data2.sort_index()\n",
        "print(Data2.head)"
      ],
      "metadata": {
        "colab": {
          "base_uri": "https://localhost:8080/"
        },
        "collapsed": true,
        "id": "Rywh6duxCypi",
        "outputId": "c94a6279-c061-40ce-a559-f2aea94e7504"
      },
      "execution_count": 6,
      "outputs": [
        {
          "output_type": "stream",
          "name": "stdout",
          "text": [
            "<bound method NDFrame.head of      age  sex  cp  trestbps  chol  fbs  restecg  thalach  exang  oldpeak  \\\n",
            "0     28    1   2       130   132    0        2      185      0      0.0   \n",
            "1     29    1   2       120   243    0        0      160      0      0.0   \n",
            "2     29    1   2       140   243    0        0    17000      0      0.0   \n",
            "3     30    0   1       170   237    0        1      170      0      0.0   \n",
            "4     31    0   2       100   219    0        1      150      0      0.0   \n",
            "..   ...  ...  ..       ...   ...  ...      ...      ...    ...      ...   \n",
            "289   52    1   4       160   331    0        0       94      1      2.5   \n",
            "290   54    0   3       130   294    0        1      100      1      0.0   \n",
            "291   56    1   4       155   342    1        0      150      1      3.0   \n",
            "292   58    0   2       180   393    0        0      110      1      1.0   \n",
            "293   65    1   4       130   275    0        1      115      1      1.0   \n",
            "\n",
            "     slope  ca   thal  num         \n",
            "0        0   0    6.0           0  \n",
            "1        1   0    6.0           0  \n",
            "2        2   0    3.0           0  \n",
            "3        3   0    6.0           0  \n",
            "4        4   0    3.0           0  \n",
            "..     ...  ..    ...         ...  \n",
            "289    289   0 -167.4           1  \n",
            "290    290   0 -168.0           1  \n",
            "291    291   0 -168.6           1  \n",
            "292    292   0 -169.2           1  \n",
            "293    293   0 -169.8           1  \n",
            "\n",
            "[294 rows x 14 columns]>\n"
          ]
        }
      ]
    },
    {
      "cell_type": "code",
      "source": [
        "file_name = 'data3.csv'\n",
        "Data3 = pd.read_csv(file_path + file_name)\n",
        "\n",
        "Data3=Data3.sort_index()\n",
        "print(Data3.head)"
      ],
      "metadata": {
        "colab": {
          "base_uri": "https://localhost:8080/"
        },
        "collapsed": true,
        "id": "SxCUAxkcC0Dg",
        "outputId": "f8665845-0360-4d14-fd13-d95e3672543f"
      },
      "execution_count": 7,
      "outputs": [
        {
          "output_type": "stream",
          "name": "stdout",
          "text": [
            "<bound method NDFrame.head of      age  sex  cp  trestbps  chol  fbs  restecg  thalach  exang  oldpeak  \\\n",
            "0     28    1   2       130   132    0        2      185      0      0.0   \n",
            "1     29    1   2       120   243    0        0      160      0      0.0   \n",
            "2     29    1   2       140   243    0        0      170      0      0.0   \n",
            "3     30    0   1       170   237    0        1      170      0      0.0   \n",
            "4     31    0   2       100   219    0        1      150      0      0.0   \n",
            "..   ...  ...  ..       ...   ...  ...      ...      ...    ...      ...   \n",
            "289   52    1   4       160   331    0        0       94      1      2.5   \n",
            "290   54    0   3       130   294    0        1      100      1      0.0   \n",
            "291   56    1   4       155   342    1        0      150      1      3.0   \n",
            "292   58    0   2       180   393    0        0      110      1      1.0   \n",
            "293   65    1   4       130   275    0        1      115      1      1.0   \n",
            "\n",
            "     slope  ca   thal  num         \n",
            "0        0   0    6.0           0  \n",
            "1        1   0    6.0           0  \n",
            "2        2   0    3.0           0  \n",
            "3        3   0    6.0           0  \n",
            "4        4   0    3.0           0  \n",
            "..     ...  ..    ...         ...  \n",
            "289    289   0 -167.4           1  \n",
            "290    290   0 -168.0           1  \n",
            "291    291   0 -168.6           1  \n",
            "292    292   0 -169.2           1  \n",
            "293    293   0 -169.8           1  \n",
            "\n",
            "[294 rows x 14 columns]>\n"
          ]
        }
      ]
    },
    {
      "cell_type": "code",
      "source": [
        "file_name = 'data4.csv'\n",
        "Data4 = pd.read_csv(file_path + file_name)\n",
        "\n",
        "Data4=Data4.sort_index()\n",
        "print(Data4.head)"
      ],
      "metadata": {
        "colab": {
          "base_uri": "https://localhost:8080/"
        },
        "id": "tPcqWvdISXHB",
        "outputId": "930db58a-d4d7-4cd6-9201-4092c76f9191"
      },
      "execution_count": 8,
      "outputs": [
        {
          "output_type": "stream",
          "name": "stdout",
          "text": [
            "<bound method NDFrame.head of      age  sex  cp  trestbps  chol  fbs  restecg  thalach  exang  oldpeak  \\\n",
            "0     28    1   2       130   132    0        2      185      0      0.0   \n",
            "1     29    1   2       120   243    0        0      160      0      0.0   \n",
            "2     29    1   2       140   245    0        0      170      0      0.0   \n",
            "3     30    0   1       170   237    0        1      170      0      0.0   \n",
            "4     31    0   2       100   219    0        1      150      0      0.0   \n",
            "..   ...  ...  ..       ...   ...  ...      ...      ...    ...      ...   \n",
            "289   52    1   4       160   331    0        0       94      1      2.5   \n",
            "290   54    0   3       130   294    0        1      100      1      0.0   \n",
            "291   56    1   4       155   342    1        0      150      1      3.0   \n",
            "292   58    0   2       180   393    0        0      110      1      1.0   \n",
            "293   65    1   4       130   275    0        1      115      1      1.0   \n",
            "\n",
            "     num         \n",
            "0             0  \n",
            "1             0  \n",
            "2             0  \n",
            "3             0  \n",
            "4             0  \n",
            "..          ...  \n",
            "289           1  \n",
            "290           1  \n",
            "291           1  \n",
            "292           1  \n",
            "293           1  \n",
            "\n",
            "[294 rows x 11 columns]>\n"
          ]
        }
      ]
    },
    {
      "cell_type": "markdown",
      "source": [
        "##Analizar"
      ],
      "metadata": {
        "id": "jO7Zo1c0SomP"
      }
    },
    {
      "cell_type": "code",
      "source": [
        "Data = Data.replace('?', np.nan)\n",
        "\n",
        "print(Data.isnull().sum())\n",
        "print(Data.describe())\n",
        "\n",
        "#No es optimo usar este por la gran cantidad de valores nulos en el dataset existentes dados por el caracter\n",
        "#\"?\", el cual se transformo como valor nulo para poder contabilizar de mejor manera valores nulos en el dataset\n",
        "#Esto se detecto visualizando el dataset y analizando los caracteres invalidos.\n"
      ],
      "metadata": {
        "colab": {
          "base_uri": "https://localhost:8080/"
        },
        "collapsed": true,
        "id": "PgrVXMu1Sr7c",
        "outputId": "00b45b14-dcf3-4bca-8194-f7086dcd4281"
      },
      "execution_count": 19,
      "outputs": [
        {
          "output_type": "stream",
          "name": "stdout",
          "text": [
            "age             0\n",
            "sex             0\n",
            "cp              0\n",
            "trestbps        1\n",
            "chol           23\n",
            "fbs             8\n",
            "restecg         1\n",
            "thalach         1\n",
            "exang           1\n",
            "oldpeak         0\n",
            "slope         190\n",
            "ca            291\n",
            "thal          266\n",
            "num             0\n",
            "dtype: int64\n",
            "              age         sex          cp     oldpeak  num       \n",
            "count  294.000000  294.000000  294.000000  294.000000  294.000000\n",
            "mean    47.826531    0.724490    2.982993    0.586054    0.360544\n",
            "std      7.811812    0.447533    0.965117    0.908648    0.480977\n",
            "min     28.000000    0.000000    1.000000    0.000000    0.000000\n",
            "25%     42.000000    0.000000    2.000000    0.000000    0.000000\n",
            "50%     49.000000    1.000000    3.000000    0.000000    0.000000\n",
            "75%     54.000000    1.000000    4.000000    1.000000    1.000000\n",
            "max     66.000000    1.000000    4.000000    5.000000    1.000000\n"
          ]
        }
      ]
    },
    {
      "cell_type": "code",
      "source": [
        "Data1 = Data1.replace('?', np.nan)\n",
        "\n",
        "print(Data1.isnull().sum())\n",
        "print(Data1.describe())\n",
        "#De igual manera, no es optimo por los valores nulos que se encuentran en el dataset\n",
        "#y por los caracteres invalidos que se pueden observar en el dataset 'data1'"
      ],
      "metadata": {
        "colab": {
          "base_uri": "https://localhost:8080/"
        },
        "collapsed": true,
        "id": "_Y3wUy2oU54E",
        "outputId": "bb07d911-b130-4ab0-8f23-76d825617581"
      },
      "execution_count": 17,
      "outputs": [
        {
          "output_type": "stream",
          "name": "stdout",
          "text": [
            "age             0\n",
            "sex            23\n",
            "cp             23\n",
            "trestbps       24\n",
            "chol           33\n",
            "fbs            21\n",
            "restecg        31\n",
            "thalach        32\n",
            "exang          32\n",
            "oldpeak        18\n",
            "slope         190\n",
            "ca            291\n",
            "thal          266\n",
            "num             0\n",
            "dtype: int64\n",
            "              age         sex          cp     restecg     oldpeak  num       \n",
            "count  294.000000  271.000000  271.000000  263.000000  276.000000  294.000000\n",
            "mean    47.826531    0.741697    3.014760    0.212928    0.609783    0.360544\n",
            "std      7.811812    0.438511    0.962137    0.454309    0.922967    0.480977\n",
            "min     28.000000    0.000000    1.000000    0.000000    0.000000    0.000000\n",
            "25%     42.000000    0.000000    2.000000    0.000000    0.000000    0.000000\n",
            "50%     49.000000    1.000000    3.000000    0.000000    0.000000    0.000000\n",
            "75%     54.000000    1.000000    4.000000    0.000000    1.000000    1.000000\n",
            "max     66.000000    1.000000    4.000000    2.000000    5.000000    1.000000\n"
          ]
        }
      ]
    },
    {
      "cell_type": "code",
      "source": [
        "print(Data2.isnull().sum())\n",
        "print(Data2.describe())\n",
        "\n",
        "#Aunque no tiene valores nulos ni caracteres invalidos como en los anteriores, siguen habiendo problemas, por ejemplo en sex, mientras que la media esta en 3402\n",
        "#el valor maximo es 1000000, esto hace que estos valores tan altos perjudiquen la media haciendo que afecte al modelo, lo mejor seria eliminar estos valores maximos.\n",
        "#y predecir el probable valor por medio de sus vecinos mas cercanos. Ademas de todos los problemas anteriormente dichos, se observa un desbalance en los datos."
      ],
      "metadata": {
        "colab": {
          "base_uri": "https://localhost:8080/"
        },
        "collapsed": true,
        "id": "lqfcFqSzUn-i",
        "outputId": "1f5796a8-62c5-40b0-b2fd-ed3c6864101c"
      },
      "execution_count": 15,
      "outputs": [
        {
          "output_type": "stream",
          "name": "stdout",
          "text": [
            "age           0\n",
            "sex           0\n",
            "cp            0\n",
            "trestbps      0\n",
            "chol          0\n",
            "fbs           0\n",
            "restecg       0\n",
            "thalach       0\n",
            "exang         0\n",
            "oldpeak       0\n",
            "slope         0\n",
            "ca            0\n",
            "thal          0\n",
            "num           0\n",
            "dtype: int64\n",
            "              age             sex            cp      trestbps          chol  \\\n",
            "count  294.000000      294.000000    294.000000    294.000000    294.000000   \n",
            "mean    47.826531     3402.085034     71.003401    213.425170    357.431973   \n",
            "std      7.811812    58321.141956   1166.249918    977.285035   1823.852372   \n",
            "min     28.000000        0.000000      1.000000     92.000000     85.000000   \n",
            "25%     42.000000        0.000000      2.000000    120.000000    209.000000   \n",
            "50%     49.000000        1.000000      3.000000    130.000000    241.500000   \n",
            "75%     54.000000        1.000000      4.000000    140.000000    281.000000   \n",
            "max     66.000000  1000000.000000  20000.000000  12000.000000  31500.000000   \n",
            "\n",
            "              fbs     restecg       thalach       exang     oldpeak  \\\n",
            "count  294.000000  294.000000    294.000000  294.000000  294.000000   \n",
            "mean     0.078231    0.224490    196.326531    0.302721    0.586054   \n",
            "std      0.268993    0.471667    983.635506    0.460219    0.908648   \n",
            "min      0.000000    0.000000     82.000000    0.000000    0.000000   \n",
            "25%      0.000000    0.000000    122.000000    0.000000    0.000000   \n",
            "50%      0.000000    0.000000    140.000000    0.000000    0.000000   \n",
            "75%      0.000000    0.000000    155.000000    1.000000    1.000000   \n",
            "max      1.000000    2.000000  17000.000000    1.000000    5.000000   \n",
            "\n",
            "            slope     ca        thal  num         \n",
            "count  294.000000  294.0  294.000000  294.000000  \n",
            "mean   146.500000    0.0  -81.900000    0.360544  \n",
            "std     85.014705    0.0   51.009064    0.480977  \n",
            "min      0.000000    0.0 -169.800000    0.000000  \n",
            "25%     73.250000    0.0 -125.850000    0.000000  \n",
            "50%    146.500000    0.0  -81.900000    0.000000  \n",
            "75%    219.750000    0.0  -37.950000    1.000000  \n",
            "max    293.000000    0.0    6.000000    1.000000  \n"
          ]
        }
      ]
    },
    {
      "cell_type": "code",
      "source": [
        "print(Data3.isnull().sum())\n",
        "print(Data3.describe())\n",
        "#Este dataset parece ser perfecto y estar listo sin necesidad de un preprocesamiento de datos, ya que no tiene un desbalance, valores nulos ni caracteres invalidos, por lo que\n",
        "#este dataset esta listo para ser usado."
      ],
      "metadata": {
        "colab": {
          "base_uri": "https://localhost:8080/"
        },
        "id": "QkQgCOnyYlWZ",
        "outputId": "36db34d6-00c7-4ffd-ebc0-c8461f93078d"
      },
      "execution_count": 16,
      "outputs": [
        {
          "output_type": "stream",
          "name": "stdout",
          "text": [
            "age           0\n",
            "sex           0\n",
            "cp            0\n",
            "trestbps      0\n",
            "chol          0\n",
            "fbs           0\n",
            "restecg       0\n",
            "thalach       0\n",
            "exang         0\n",
            "oldpeak       0\n",
            "slope         0\n",
            "ca            0\n",
            "thal          0\n",
            "num           0\n",
            "dtype: int64\n",
            "              age         sex          cp    trestbps        chol         fbs  \\\n",
            "count  294.000000  294.000000  294.000000  294.000000  294.000000  294.000000   \n",
            "mean    47.826531    0.727891    2.982993  132.608844  251.360544    0.078231   \n",
            "std      7.811812    0.445804    0.965117   17.601778   71.086156    0.268993   \n",
            "min     28.000000    0.000000    1.000000   92.000000   85.000000    0.000000   \n",
            "25%     42.000000    0.000000    2.000000  120.000000  209.000000    0.000000   \n",
            "50%     49.000000    1.000000    3.000000  130.000000  241.500000    0.000000   \n",
            "75%     54.000000    1.000000    4.000000  140.000000  281.000000    0.000000   \n",
            "max     66.000000    1.000000    4.000000  200.000000  603.000000    1.000000   \n",
            "\n",
            "          restecg     thalach       exang     oldpeak       slope     ca  \\\n",
            "count  294.000000  294.000000  294.000000  294.000000  294.000000  294.0   \n",
            "mean     0.224490  139.081633    0.302721    0.586054  146.500000    0.0   \n",
            "std      0.471667   23.563873    0.460219    0.908648   85.014705    0.0   \n",
            "min      0.000000   82.000000    0.000000    0.000000    0.000000    0.0   \n",
            "25%      0.000000  122.000000    0.000000    0.000000   73.250000    0.0   \n",
            "50%      0.000000  140.000000    0.000000    0.000000  146.500000    0.0   \n",
            "75%      0.000000  155.000000    1.000000    1.000000  219.750000    0.0   \n",
            "max      2.000000  190.000000    1.000000    5.000000  293.000000    0.0   \n",
            "\n",
            "             thal  num         \n",
            "count  294.000000  294.000000  \n",
            "mean   -81.900000    0.360544  \n",
            "std     51.009064    0.480977  \n",
            "min   -169.800000    0.000000  \n",
            "25%   -125.850000    0.000000  \n",
            "50%    -81.900000    0.000000  \n",
            "75%    -37.950000    1.000000  \n",
            "max      6.000000    1.000000  \n"
          ]
        }
      ]
    },
    {
      "cell_type": "code",
      "source": [
        "print(Data4.isnull().sum())\n",
        "print(Data4.describe())\n",
        "#Este dataset parece ser perfecto y estar listo sin necesidad de un preprocesamiento de datos, ya que no tiene un desbalance, valores nulos ni caracteres invalidos, por lo que\n",
        "#este dataset esta listo para ser usado"
      ],
      "metadata": {
        "colab": {
          "base_uri": "https://localhost:8080/"
        },
        "id": "7EfNDImIZMlF",
        "outputId": "de2f5f3f-d74f-4e46-b0fb-796d60a472d0"
      },
      "execution_count": 18,
      "outputs": [
        {
          "output_type": "stream",
          "name": "stdout",
          "text": [
            "age           0\n",
            "sex           0\n",
            "cp            0\n",
            "trestbps      0\n",
            "chol          0\n",
            "fbs           0\n",
            "restecg       0\n",
            "thalach       0\n",
            "exang         0\n",
            "oldpeak       0\n",
            "num           0\n",
            "dtype: int64\n",
            "              age         sex          cp    trestbps        chol         fbs  \\\n",
            "count  294.000000  294.000000  294.000000  294.000000  294.000000  294.000000   \n",
            "mean    47.826531    0.724490    2.982993  132.642857  247.476190    0.068027   \n",
            "std      7.811812    0.447533    0.965117   17.625755   66.964851    0.252222   \n",
            "min     28.000000    0.000000    1.000000   92.000000   85.000000    0.000000   \n",
            "25%     42.000000    0.000000    2.000000  120.000000  205.250000    0.000000   \n",
            "50%     49.000000    1.000000    3.000000  130.000000  238.000000    0.000000   \n",
            "75%     54.000000    1.000000    4.000000  140.000000  278.500000    0.000000   \n",
            "max     66.000000    1.000000    4.000000  200.000000  603.000000    1.000000   \n",
            "\n",
            "          restecg     thalach       exang     oldpeak  num         \n",
            "count  294.000000  294.000000  294.000000  294.000000  294.000000  \n",
            "mean     0.217687  139.081633    0.302721    0.586054    0.360544  \n",
            "std      0.460257   23.563873    0.460219    0.908648    0.480977  \n",
            "min      0.000000   82.000000    0.000000    0.000000    0.000000  \n",
            "25%      0.000000  122.000000    0.000000    0.000000    0.000000  \n",
            "50%      0.000000  140.000000    0.000000    0.000000    0.000000  \n",
            "75%      0.000000  155.000000    1.000000    1.000000    1.000000  \n",
            "max      2.000000  190.000000    1.000000    5.000000    1.000000  \n"
          ]
        }
      ]
    }
  ]
}