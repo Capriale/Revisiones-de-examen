{
 "cells": [
  {
   "cell_type": "markdown",
   "id": "dff82132-54ce-4235-810a-a6e66f0bf668",
   "metadata": {},
   "source": [
    "##### Given the function \n",
    "\n",
    "##### $f(x)=3x^2+2x+1$\n",
    "\n",
    "##### Find the value of 𝑥 that minimizes 𝑓(𝑥) using Simulated Annealing Algorithm"
   ]
  },
  {
   "cell_type": "code",
   "execution_count": 1,
   "id": "372955f3-03c6-408d-b732-54fb688d1bf9",
   "metadata": {},
   "outputs": [
    {
     "name": "stdout",
     "output_type": "stream",
     "text": [
      "Minimum value of x using Simulated Annealing: -0.33333331268256405\n"
     ]
    }
   ],
   "source": [
    "from scipy.optimize import dual_annealing\n",
    "\n",
    "def objective_function(x):\n",
    "    return 3*x**2+2*x+1\n",
    "\n",
    "def simulated_annealing():\n",
    "    bounds=[(-10,10)]\n",
    "    result=dual_annealing(objective_function, bounds)\n",
    "    return result.x[0]\n",
    "\n",
    "x_min_sa=simulated_annealing()\n",
    "print(f\"Minimum value of x using Simulated Annealing: {x_min_sa}\")"
   ]
  }
 ],
 "metadata": {
  "kernelspec": {
   "display_name": "Python 3 (ipykernel)",
   "language": "python",
   "name": "python3"
  },
  "language_info": {
   "codemirror_mode": {
    "name": "ipython",
    "version": 3
   },
   "file_extension": ".py",
   "mimetype": "text/x-python",
   "name": "python",
   "nbconvert_exporter": "python",
   "pygments_lexer": "ipython3",
   "version": "3.9.12"
  }
 },
 "nbformat": 4,
 "nbformat_minor": 5
}
