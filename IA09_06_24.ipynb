{
 "cells": [
  {
   "cell_type": "code",
   "execution_count": 1,
   "metadata": {},
   "outputs": [
    {
     "name": "stdout",
     "output_type": "stream",
     "text": [
      "Gradient Descent minimum x: -0.33333243854848\n"
     ]
    }
   ],
   "source": [
    "import numpy as np\n",
    "\n",
    "def f(x):\n",
    "    return 3*x**2 + 2*x + 1\n",
    "\n",
    "def f_prime(x):\n",
    "    return 6*x + 2\n",
    "\n",
    "def gradient_descent(lr=0.1, tol=1e-6, max_iter=1000):\n",
    "    x = 0\n",
    "    for _ in range(max_iter):\n",
    "        grad = f_prime(x)\n",
    "        x_new = x - lr * grad\n",
    "        if abs(x_new - x) < tol:\n",
    "            break\n",
    "        x = x_new\n",
    "    return x\n",
    "\n",
    "min_x = gradient_descent()\n",
    "print(\"Gradient Descent minimum x:\", min_x)"
   ]
  },
  {
   "cell_type": "code",
   "execution_count": 5,
   "metadata": {},
   "outputs": [
    {
     "name": "stdout",
     "output_type": "stream",
     "text": [
      "Newton's method minimum x: -0.3333333333333333\n"
     ]
    }
   ],
   "source": [
    "def newtons_method(iterations=10):\n",
    "    x = 0\n",
    "    for _ in range(iterations):\n",
    "        gradient = 6 * x + 2\n",
    "        hessian = 6\n",
    "        x -= gradient / hessian\n",
    "    return x\n",
    "\n",
    "x_min_newton = newtons_method()\n",
    "print(\"Newton's method minimum x:\", x_min_newton)\n"
   ]
  },
  {
   "cell_type": "code",
   "execution_count": 6,
   "metadata": {},
   "outputs": [
    {
     "name": "stdout",
     "output_type": "stream",
     "text": [
      "Evolutionary algorithm minimum x: -0.3739397395927766\n"
     ]
    }
   ],
   "source": [
    "import numpy as np\n",
    "\n",
    "def evolutionary_algorithm(pop_size=20, generations=100):\n",
    "    population = np.random.uniform(-10, 10, pop_size)\n",
    "    for _ in range(generations):\n",
    "        fitness = 3 * population ** 2 + 2 * population + 1\n",
    "        parents = population[np.argsort(fitness)[:pop_size//2]]\n",
    "        offspring = np.mean(parents) + np.random.normal(0, 0.5, pop_size//2)\n",
    "        population[:pop_size//2] = offspring\n",
    "    return population[np.argmin(3 * population ** 2 + 2 * population + 1)]\n",
    "\n",
    "x_min_evo = evolutionary_algorithm()\n",
    "print(\"Evolutionary algorithm minimum x:\", x_min_evo)"
   ]
  },
  {
   "cell_type": "code",
   "execution_count": 7,
   "metadata": {},
   "outputs": [
    {
     "name": "stdout",
     "output_type": "stream",
     "text": [
      "Particle Swarm Optimization minimum x: -0.3333333341085328\n"
     ]
    }
   ],
   "source": [
    "import numpy as np\n",
    "\n",
    "def pso(num_particles=30, iterations=100):\n",
    "    particles = np.random.uniform(-10, 10, num_particles)\n",
    "    velocities = np.random.uniform(-1, 1, num_particles)\n",
    "    pbest = particles.copy()\n",
    "    gbest = particles[np.argmin(3 * particles ** 2 + 2 * particles + 1)]\n",
    "    \n",
    "    for _ in range(iterations):\n",
    "        for i in range(num_particles):\n",
    "            r1, r2 = np.random.rand(), np.random.rand()\n",
    "            velocities[i] = 0.5 * velocities[i] + r1 * (pbest[i] - particles[i]) + r2 * (gbest - particles[i])\n",
    "            particles[i] += velocities[i]\n",
    "            if 3 * particles[i] ** 2 + 2 * particles[i] + 1 < 3 * pbest[i] ** 2 + 2 * pbest[i] + 1:\n",
    "                pbest[i] = particles[i]\n",
    "        gbest = pbest[np.argmin(3 * pbest ** 2 + 2 * pbest + 1)]\n",
    "    return gbest\n",
    "\n",
    "x_min_pso = pso()\n",
    "print(\"Particle Swarm Optimization minimum x:\", x_min_pso)"
   ]
  },
  {
   "cell_type": "code",
   "execution_count": 8,
   "metadata": {},
   "outputs": [
    {
     "name": "stdout",
     "output_type": "stream",
     "text": [
      "Simulated Annealing minimum x: -0.31058723800238\n"
     ]
    }
   ],
   "source": [
    "import numpy as np\n",
    "\n",
    "def simulated_annealing(initial_temp=1000, cooling_rate=0.01, iterations=1000):\n",
    "    x = np.random.uniform(-10, 10)\n",
    "    current_temp = initial_temp\n",
    "\n",
    "    for _ in range(iterations):\n",
    "        new_x = x + np.random.uniform(-1, 1)\n",
    "        delta_e = (3 * new_x ** 2 + 2 * new_x + 1) - (3 * x ** 2 + 2 * x + 1)\n",
    "        if delta_e < 0 or np.exp(-delta_e / current_temp) > np.random.rand():\n",
    "            x = new_x\n",
    "        current_temp *= (1 - cooling_rate)\n",
    "    return x\n",
    "\n",
    "x_min_sa = simulated_annealing()\n",
    "print(\"Simulated Annealing minimum x:\", x_min_sa)"
   ]
  },
  {
   "cell_type": "code",
   "execution_count": null,
   "metadata": {},
   "outputs": [],
   "source": []
  }
 ],
 "metadata": {
  "kernelspec": {
   "display_name": "Python 3",
   "language": "python",
   "name": "python3"
  },
  "language_info": {
   "codemirror_mode": {
    "name": "ipython",
    "version": 3
   },
   "file_extension": ".py",
   "mimetype": "text/x-python",
   "name": "python",
   "nbconvert_exporter": "python",
   "pygments_lexer": "ipython3",
   "version": "3.12.1"
  }
 },
 "nbformat": 4,
 "nbformat_minor": 2
}
