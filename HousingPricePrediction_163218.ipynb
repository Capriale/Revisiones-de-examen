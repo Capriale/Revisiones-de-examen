{
 "cells": [
  {
   "cell_type": "markdown",
   "id": "5297b75d-1e3b-43a7-b9d9-c6fc91d97a80",
   "metadata": {},
   "source": [
    "## Case 1: Housing Price Prediction"
   ]
  },
  {
   "cell_type": "markdown",
   "id": "883aebe5-52b3-4c30-902e-b93d0574c3e5",
   "metadata": {},
   "source": [
    "To predict house prices based on features like square footage, number of bedrooms, and location using linear regression, we'll follow a similar approach to the previous example. This time, the target variable is continuous (house price), making linear regression a suitable choice."
   ]
  },
  {
   "cell_type": "markdown",
   "id": "82a2ef1c-8005-4ee4-9a41-62cb5701dd8b",
   "metadata": {},
   "source": [
    "##### 1. Import Libraries\n",
    "We need libraries for data manipulation, visualization, and modeling."
   ]
  },
  {
   "cell_type": "code",
   "execution_count": 2,
   "id": "6ae7ce6a-966d-43b3-9ec7-eb27af1b1673",
   "metadata": {},
   "outputs": [],
   "source": [
    "import pandas as pd\n",
    "import numpy as np\n",
    "from sklearn.model_selection import train_test_split\n",
    "from sklearn.linear_model import LinearRegression\n",
    "from sklearn.metrics import mean_squared_error, r2_score\n",
    "import matplotlib.pyplot as plt"
   ]
  },
  {
   "cell_type": "markdown",
   "id": "1aa52914-969a-426b-8bfa-59a408841b06",
   "metadata": {},
   "source": [
    "##### 2. Load and Preprocess the Data \n",
    "We'll use a dataset of houses with their respective features and sale prices."
   ]
  },
  {
   "cell_type": "code",
   "execution_count": null,
   "id": "d26bbfb7-5d44-47fe-90c8-826ab429c8b1",
   "metadata": {},
   "outputs": [],
   "source": [
    "# Load the dataset\n",
    "df = pd.read_csv('housing_data.csv')\n",
    "\n",
    "# Display the first few rows of the dataset\n",
    "print(df.head())\n",
    "\n",
    "# Check for missing values and handle them\n",
    "df = df.dropna()  # Alternatively, you can use df.fillna() for filling missing values"
   ]
  },
  {
   "cell_type": "markdown",
   "id": "10b49340-f239-4ed1-aa08-d57df16e40a9",
   "metadata": {},
   "source": [
    "##### 3. Feature Selection and Target Variable \n",
    "We need to define the features (independent variables) and the target variable (dependent variable, which in this case is the house price)."
   ]
  },
  {
   "cell_type": "code",
   "execution_count": null,
   "id": "672ae7bf-2f3f-4441-95b0-94a177882902",
   "metadata": {},
   "outputs": [],
   "source": [
    "# Select the features for prediction\n",
    "X = df[['square_footage', 'num_bedrooms', 'num_bathrooms', 'location_score']]\n",
    "\n",
    "# Target variable: house price\n",
    "y = df['price']"
   ]
  },
  {
   "cell_type": "markdown",
   "id": "964e8ba6-a818-460b-b935-766f58b27f4a",
   "metadata": {},
   "source": [
    "##### 4. Split the Data into Training and Test Sets \n",
    "To evaluate the performance of the model, split the data into training and test sets."
   ]
  },
  {
   "cell_type": "code",
   "execution_count": null,
   "id": "a1e85011-59b4-4430-b732-0b0a9affb96e",
   "metadata": {},
   "outputs": [],
   "source": [
    "# Split the dataset into training and test sets\n",
    "X_train, X_test, y_train, y_test = train_test_split(X, y, test_size=0.3, random_state=42)"
   ]
  },
  {
   "cell_type": "markdown",
   "id": "b11c869a-54be-480b-937a-fa891f6a8e3d",
   "metadata": {},
   "source": [
    "##### 5. Train the Linear Regression Model \n",
    "Now, we'll fit the linear regression model to the training data."
   ]
  },
  {
   "cell_type": "code",
   "execution_count": null,
   "id": "5d8f7770-8c0c-49f3-b23b-af55e84bd351",
   "metadata": {},
   "outputs": [],
   "source": [
    "# Initialize the Linear Regression model\n",
    "model = LinearRegression()\n",
    "\n",
    "# Fit the model to the training data\n",
    "model.fit(X_train, y_train)"
   ]
  },
  {
   "cell_type": "markdown",
   "id": "ce5e424e-a015-4339-8f18-5f01b8545683",
   "metadata": {},
   "source": [
    "##### 6. Make Predictions on the Test Set \n",
    "After training, we can use the model to predict house prices on the test set."
   ]
  },
  {
   "cell_type": "code",
   "execution_count": null,
   "id": "ed19aa46-049a-403f-9795-0abd9cc8a16c",
   "metadata": {},
   "outputs": [],
   "source": [
    "# Predict the house prices on the test data\n",
    "y_pred = model.predict(X_test)"
   ]
  },
  {
   "cell_type": "markdown",
   "id": "18bd6972-197a-4fad-ad93-3798e868a5f7",
   "metadata": {},
   "source": [
    "##### 7. Evaluate the Model \n",
    "We can evaluate the performance of the model using metrics like Mean Squared Error (MSE) and R-squared (R²) score to see how well the model predicts house prices."
   ]
  },
  {
   "cell_type": "code",
   "execution_count": null,
   "id": "9629bbd6-e853-4c02-a29d-3785394a8eb3",
   "metadata": {},
   "outputs": [],
   "source": [
    "# Mean Squared Error (MSE)\n",
    "mse = mean_squared_error(y_test, y_pred)\n",
    "print(f'Mean Squared Error: {mse}')\n",
    "\n",
    "# R-squared score\n",
    "r2 = r2_score(y_test, y_pred)\n",
    "print(f'R-squared: {r2}')"
   ]
  },
  {
   "cell_type": "markdown",
   "id": "999f11cc-8c66-46c5-a082-87216777fe6b",
   "metadata": {},
   "source": [
    "The $R^2$ score represents the proportion of the variance in the dependent variable that is predictable from the independent variables, where a score closer to 1 indicates a better fit."
   ]
  },
  {
   "cell_type": "markdown",
   "id": "11941e75-04b3-4d9f-bf88-7f0317c951e5",
   "metadata": {},
   "source": [
    "##### 8. Visualize the Results \n",
    "We can plot the predicted house prices against the actual house prices for visual inspection."
   ]
  },
  {
   "cell_type": "code",
   "execution_count": null,
   "id": "ae2c7afa-51e6-4705-b6f3-12bfde0a3b51",
   "metadata": {},
   "outputs": [],
   "source": [
    "# Plotting the predicted vs actual house prices\n",
    "plt.scatter(y_test, y_pred)\n",
    "plt.xlabel('Actual House Prices')\n",
    "plt.ylabel('Predicted House Prices')\n",
    "plt.title('Actual vs Predicted House Prices')\n",
    "plt.show()"
   ]
  },
  {
   "cell_type": "markdown",
   "id": "4ab26c23-4054-4107-87f9-a054eaea804c",
   "metadata": {},
   "source": [
    "##### 9. Interpret the Model Coefficients \n",
    "We can also inspect the coefficients of the linear regression model to understand how each feature contributes to the predicted price."
   ]
  },
  {
   "cell_type": "code",
   "execution_count": null,
   "id": "126e474e-8ed2-4ca6-86a3-913e19a14a5f",
   "metadata": {},
   "outputs": [],
   "source": [
    "# Display the coefficients of the model\n",
    "coefficients = pd.DataFrame(model.coef_, X.columns, columns=['Coefficient'])\n",
    "print(coefficients)"
   ]
  },
  {
   "cell_type": "markdown",
   "id": "6538979c-4e58-494a-853d-fe4dc9706d8a",
   "metadata": {},
   "source": [
    "These coefficients tell us how much the predicted price will change with a one-unit increase in each feature, assuming all other features remain constant."
   ]
  },
  {
   "cell_type": "markdown",
   "id": "a4c0c1df-0463-48c9-ba9e-91dd442ca11a",
   "metadata": {},
   "source": [
    "##### 10. Conclusion:\n",
    "This linear regression model will predict house prices based on square footage, number of bedrooms, number of bathrooms, and location. It assumes that the relationship between these features and the house price is linear, which may not always be the case in real-world data. Depending on the complexity of the data, we may want to explore more advanced models such as polynomial regression or decision trees to improve predictions."
   ]
  }
 ],
 "metadata": {
  "kernelspec": {
   "display_name": "Python 3 (ipykernel)",
   "language": "python",
   "name": "python3"
  },
  "language_info": {
   "codemirror_mode": {
    "name": "ipython",
    "version": 3
   },
   "file_extension": ".py",
   "mimetype": "text/x-python",
   "name": "python",
   "nbconvert_exporter": "python",
   "pygments_lexer": "ipython3",
   "version": "3.9.12"
  }
 },
 "nbformat": 4,
 "nbformat_minor": 5
}
