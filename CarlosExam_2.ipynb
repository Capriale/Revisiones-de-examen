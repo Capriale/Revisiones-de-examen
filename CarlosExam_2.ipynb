{
  "nbformat": 4,
  "nbformat_minor": 0,
  "metadata": {
    "colab": {
      "provenance": []
    },
    "kernelspec": {
      "name": "python3",
      "display_name": "Python 3"
    },
    "language_info": {
      "name": "python"
    }
  },
  "cells": [
    {
      "cell_type": "markdown",
      "source": [
        "# Exam 2:"
      ],
      "metadata": {
        "id": "-VNqHgKIJsul"
      }
    },
    {
      "cell_type": "markdown",
      "source": [
        "## Question 1: Emotion Detection in Text"
      ],
      "metadata": {
        "id": "7l5cheLNJvVL"
      }
    },
    {
      "cell_type": "code",
      "source": [
        "!pip install pgmpy"
      ],
      "metadata": {
        "colab": {
          "base_uri": "https://localhost:8080/"
        },
        "id": "-3PoUVXr9PR9",
        "outputId": "dd38cad8-fa51-46c6-f643-41ef6e5fdc32"
      },
      "execution_count": 2,
      "outputs": [
        {
          "output_type": "stream",
          "name": "stdout",
          "text": [
            "Collecting pgmpy\n",
            "  Downloading pgmpy-0.1.26-py3-none-any.whl.metadata (9.1 kB)\n",
            "Requirement already satisfied: networkx in /usr/local/lib/python3.10/dist-packages (from pgmpy) (3.4)\n",
            "Requirement already satisfied: numpy in /usr/local/lib/python3.10/dist-packages (from pgmpy) (1.26.4)\n",
            "Requirement already satisfied: scipy in /usr/local/lib/python3.10/dist-packages (from pgmpy) (1.13.1)\n",
            "Requirement already satisfied: scikit-learn in /usr/local/lib/python3.10/dist-packages (from pgmpy) (1.5.2)\n",
            "Requirement already satisfied: pandas in /usr/local/lib/python3.10/dist-packages (from pgmpy) (2.2.2)\n",
            "Requirement already satisfied: pyparsing in /usr/local/lib/python3.10/dist-packages (from pgmpy) (3.1.4)\n",
            "Requirement already satisfied: torch in /usr/local/lib/python3.10/dist-packages (from pgmpy) (2.4.1+cu121)\n",
            "Requirement already satisfied: statsmodels in /usr/local/lib/python3.10/dist-packages (from pgmpy) (0.14.4)\n",
            "Requirement already satisfied: tqdm in /usr/local/lib/python3.10/dist-packages (from pgmpy) (4.66.5)\n",
            "Requirement already satisfied: joblib in /usr/local/lib/python3.10/dist-packages (from pgmpy) (1.4.2)\n",
            "Requirement already satisfied: opt-einsum in /usr/local/lib/python3.10/dist-packages (from pgmpy) (3.4.0)\n",
            "Requirement already satisfied: xgboost in /usr/local/lib/python3.10/dist-packages (from pgmpy) (2.1.1)\n",
            "Requirement already satisfied: google-generativeai in /usr/local/lib/python3.10/dist-packages (from pgmpy) (0.7.2)\n",
            "Requirement already satisfied: google-ai-generativelanguage==0.6.6 in /usr/local/lib/python3.10/dist-packages (from google-generativeai->pgmpy) (0.6.6)\n",
            "Requirement already satisfied: google-api-core in /usr/local/lib/python3.10/dist-packages (from google-generativeai->pgmpy) (2.19.2)\n",
            "Requirement already satisfied: google-api-python-client in /usr/local/lib/python3.10/dist-packages (from google-generativeai->pgmpy) (2.137.0)\n",
            "Requirement already satisfied: google-auth>=2.15.0 in /usr/local/lib/python3.10/dist-packages (from google-generativeai->pgmpy) (2.27.0)\n",
            "Requirement already satisfied: protobuf in /usr/local/lib/python3.10/dist-packages (from google-generativeai->pgmpy) (3.20.3)\n",
            "Requirement already satisfied: pydantic in /usr/local/lib/python3.10/dist-packages (from google-generativeai->pgmpy) (2.9.2)\n",
            "Requirement already satisfied: typing-extensions in /usr/local/lib/python3.10/dist-packages (from google-generativeai->pgmpy) (4.12.2)\n",
            "Requirement already satisfied: proto-plus<2.0.0dev,>=1.22.3 in /usr/local/lib/python3.10/dist-packages (from google-ai-generativelanguage==0.6.6->google-generativeai->pgmpy) (1.24.0)\n",
            "Requirement already satisfied: python-dateutil>=2.8.2 in /usr/local/lib/python3.10/dist-packages (from pandas->pgmpy) (2.8.2)\n",
            "Requirement already satisfied: pytz>=2020.1 in /usr/local/lib/python3.10/dist-packages (from pandas->pgmpy) (2024.2)\n",
            "Requirement already satisfied: tzdata>=2022.7 in /usr/local/lib/python3.10/dist-packages (from pandas->pgmpy) (2024.2)\n",
            "Requirement already satisfied: threadpoolctl>=3.1.0 in /usr/local/lib/python3.10/dist-packages (from scikit-learn->pgmpy) (3.5.0)\n",
            "Requirement already satisfied: patsy>=0.5.6 in /usr/local/lib/python3.10/dist-packages (from statsmodels->pgmpy) (0.5.6)\n",
            "Requirement already satisfied: packaging>=21.3 in /usr/local/lib/python3.10/dist-packages (from statsmodels->pgmpy) (24.1)\n",
            "Requirement already satisfied: filelock in /usr/local/lib/python3.10/dist-packages (from torch->pgmpy) (3.16.1)\n",
            "Requirement already satisfied: sympy in /usr/local/lib/python3.10/dist-packages (from torch->pgmpy) (1.13.3)\n",
            "Requirement already satisfied: jinja2 in /usr/local/lib/python3.10/dist-packages (from torch->pgmpy) (3.1.4)\n",
            "Requirement already satisfied: fsspec in /usr/local/lib/python3.10/dist-packages (from torch->pgmpy) (2024.6.1)\n",
            "Requirement already satisfied: nvidia-nccl-cu12 in /usr/local/lib/python3.10/dist-packages (from xgboost->pgmpy) (2.23.4)\n",
            "Requirement already satisfied: googleapis-common-protos<2.0.dev0,>=1.56.2 in /usr/local/lib/python3.10/dist-packages (from google-api-core->google-generativeai->pgmpy) (1.65.0)\n",
            "Requirement already satisfied: requests<3.0.0.dev0,>=2.18.0 in /usr/local/lib/python3.10/dist-packages (from google-api-core->google-generativeai->pgmpy) (2.32.3)\n",
            "Requirement already satisfied: cachetools<6.0,>=2.0.0 in /usr/local/lib/python3.10/dist-packages (from google-auth>=2.15.0->google-generativeai->pgmpy) (5.5.0)\n",
            "Requirement already satisfied: pyasn1-modules>=0.2.1 in /usr/local/lib/python3.10/dist-packages (from google-auth>=2.15.0->google-generativeai->pgmpy) (0.4.1)\n",
            "Requirement already satisfied: rsa<5,>=3.1.4 in /usr/local/lib/python3.10/dist-packages (from google-auth>=2.15.0->google-generativeai->pgmpy) (4.9)\n",
            "Requirement already satisfied: six in /usr/local/lib/python3.10/dist-packages (from patsy>=0.5.6->statsmodels->pgmpy) (1.16.0)\n",
            "Requirement already satisfied: httplib2<1.dev0,>=0.19.0 in /usr/local/lib/python3.10/dist-packages (from google-api-python-client->google-generativeai->pgmpy) (0.22.0)\n",
            "Requirement already satisfied: google-auth-httplib2<1.0.0,>=0.2.0 in /usr/local/lib/python3.10/dist-packages (from google-api-python-client->google-generativeai->pgmpy) (0.2.0)\n",
            "Requirement already satisfied: uritemplate<5,>=3.0.1 in /usr/local/lib/python3.10/dist-packages (from google-api-python-client->google-generativeai->pgmpy) (4.1.1)\n",
            "Requirement already satisfied: MarkupSafe>=2.0 in /usr/local/lib/python3.10/dist-packages (from jinja2->torch->pgmpy) (3.0.1)\n",
            "Requirement already satisfied: annotated-types>=0.6.0 in /usr/local/lib/python3.10/dist-packages (from pydantic->google-generativeai->pgmpy) (0.7.0)\n",
            "Requirement already satisfied: pydantic-core==2.23.4 in /usr/local/lib/python3.10/dist-packages (from pydantic->google-generativeai->pgmpy) (2.23.4)\n",
            "Requirement already satisfied: mpmath<1.4,>=1.1.0 in /usr/local/lib/python3.10/dist-packages (from sympy->torch->pgmpy) (1.3.0)\n",
            "Requirement already satisfied: grpcio<2.0dev,>=1.33.2 in /usr/local/lib/python3.10/dist-packages (from google-api-core[grpc]!=2.0.*,!=2.1.*,!=2.10.*,!=2.2.*,!=2.3.*,!=2.4.*,!=2.5.*,!=2.6.*,!=2.7.*,!=2.8.*,!=2.9.*,<3.0.0dev,>=1.34.1->google-ai-generativelanguage==0.6.6->google-generativeai->pgmpy) (1.64.1)\n",
            "Requirement already satisfied: grpcio-status<2.0.dev0,>=1.33.2 in /usr/local/lib/python3.10/dist-packages (from google-api-core[grpc]!=2.0.*,!=2.1.*,!=2.10.*,!=2.2.*,!=2.3.*,!=2.4.*,!=2.5.*,!=2.6.*,!=2.7.*,!=2.8.*,!=2.9.*,<3.0.0dev,>=1.34.1->google-ai-generativelanguage==0.6.6->google-generativeai->pgmpy) (1.48.2)\n",
            "Requirement already satisfied: pyasn1<0.7.0,>=0.4.6 in /usr/local/lib/python3.10/dist-packages (from pyasn1-modules>=0.2.1->google-auth>=2.15.0->google-generativeai->pgmpy) (0.6.1)\n",
            "Requirement already satisfied: charset-normalizer<4,>=2 in /usr/local/lib/python3.10/dist-packages (from requests<3.0.0.dev0,>=2.18.0->google-api-core->google-generativeai->pgmpy) (3.4.0)\n",
            "Requirement already satisfied: idna<4,>=2.5 in /usr/local/lib/python3.10/dist-packages (from requests<3.0.0.dev0,>=2.18.0->google-api-core->google-generativeai->pgmpy) (3.10)\n",
            "Requirement already satisfied: urllib3<3,>=1.21.1 in /usr/local/lib/python3.10/dist-packages (from requests<3.0.0.dev0,>=2.18.0->google-api-core->google-generativeai->pgmpy) (2.2.3)\n",
            "Requirement already satisfied: certifi>=2017.4.17 in /usr/local/lib/python3.10/dist-packages (from requests<3.0.0.dev0,>=2.18.0->google-api-core->google-generativeai->pgmpy) (2024.8.30)\n",
            "Downloading pgmpy-0.1.26-py3-none-any.whl (2.0 MB)\n",
            "\u001b[2K   \u001b[90m━━━━━━━━━━━━━━━━━━━━━━━━━━━━━━━━━━━━━━━━\u001b[0m \u001b[32m2.0/2.0 MB\u001b[0m \u001b[31m15.6 MB/s\u001b[0m eta \u001b[36m0:00:00\u001b[0m\n",
            "\u001b[?25hInstalling collected packages: pgmpy\n",
            "Successfully installed pgmpy-0.1.26\n"
          ]
        }
      ]
    },
    {
      "cell_type": "code",
      "execution_count": 26,
      "metadata": {
        "colab": {
          "base_uri": "https://localhost:8080/"
        },
        "id": "oenrzb0u8H6H",
        "outputId": "e1293121-05a0-4959-f91e-4eff7ec8a1b7"
      },
      "outputs": [
        {
          "output_type": "stream",
          "name": "stdout",
          "text": [
            "Enter your emotional text: g\n",
            "Error: Word not in the network\n"
          ]
        }
      ],
      "source": [
        "import pandas as pd\n",
        "import numpy as np\n",
        "from pgmpy.models import BayesianNetwork\n",
        "from pgmpy.factors.discrete import TabularCPD\n",
        "from pgmpy.inference import VariableElimination\n",
        "\n",
        "# Define the emotions\n",
        "model = BayesianNetwork([('Emotion', 'happy'), ('Emotion', 'joyful'), ('Emotion', 'great'),\n",
        "                         ('Emotion', 'sad'), ('Emotion', 'down'), ('Emotion', 'angry'),\n",
        "                         ('Emotion', 'mad'), ('Emotion', 'frustrated')])\n",
        "\n",
        "# Define Conditional Probability Distributions\n",
        "emotion = TabularCPD(variable='Emotion', variable_card=3,\n",
        "                     values=[[1/3], [1/3], [1/3]],\n",
        "                     state_names={'Emotion': ['happy', 'sad', 'angry']})\n",
        "\n",
        "happy = TabularCPD(variable='happy', variable_card=2,\n",
        "                       values=[[0.75, 0.95, 0.90],\n",
        "                               [0.25, 0.05, 0.10]],\n",
        "                       evidence=['Emotion'],\n",
        "                       evidence_card=[3],\n",
        "                       state_names={'happy': ['No', 'Yes'],\n",
        "                                    'Emotion': ['happy', 'sad', 'angry']})\n",
        "\n",
        "joyful = TabularCPD(variable='joyful', variable_card=2,\n",
        "                        values=[[0.875, 0.98, 0.97],\n",
        "                                [0.125, 0.02, 0.03]],\n",
        "                        evidence=['Emotion'],\n",
        "                        evidence_card=[3],\n",
        "                        state_names={'joyful': ['No', 'Yes'],\n",
        "                                     'Emotion': ['happy', 'sad', 'angry']})\n",
        "\n",
        "great = TabularCPD(variable='great', variable_card=2,\n",
        "                      values=[[0.875, 0.97, 0.98],\n",
        "                              [0.125, 0.03, 0.02]],\n",
        "                      evidence=['Emotion'],\n",
        "                      evidence_card=[3],\n",
        "                      state_names={'great': ['No', 'Yes'],\n",
        "                                   'Emotion': ['happy', 'sad', 'angry']})\n",
        "\n",
        "sad = TabularCPD(variable='sad', variable_card=2,\n",
        "                     values=[[0.95, 0.80, 0.95],\n",
        "                             [0.05, 0.20, 0.05]],\n",
        "                     evidence=['Emotion'],\n",
        "                     evidence_card=[3],\n",
        "                     state_names={'sad': ['No', 'Yes'],\n",
        "                                  'Emotion': ['happy', 'sad', 'angry']})\n",
        "\n",
        "down = TabularCPD(variable='down', variable_card=2,\n",
        "                      values=[[0.97, 0.875, 0.98],\n",
        "                              [0.03, 0.125, 0.02]],\n",
        "                      evidence=['Emotion'],\n",
        "                      evidence_card=[3],\n",
        "                      state_names={'down': ['No', 'Yes'],\n",
        "                                   'Emotion': ['happy', 'sad', 'angry']})\n",
        "\n",
        "angry = TabularCPD(variable='angry', variable_card=2,\n",
        "                       values=[[0.98, 0.97, 0.85],\n",
        "                               [0.02, 0.03, 0.15]],\n",
        "                       evidence=['Emotion'],\n",
        "                       evidence_card=[3],\n",
        "                       state_names={'angry': ['No', 'Yes'],\n",
        "                                    'Emotion': ['happy', 'sad', 'angry']})\n",
        "\n",
        "mad = TabularCPD(variable='mad', variable_card=2,\n",
        "                     values=[[0.99, 0.95, 0.875],\n",
        "                             [0.01, 0.05, 0.125]],\n",
        "                     evidence=['Emotion'],\n",
        "                     evidence_card=[3],\n",
        "                     state_names={'mad': ['No', 'Yes'],\n",
        "                                  'Emotion': ['happy', 'sad', 'angry']})\n",
        "\n",
        "frustrated = TabularCPD(variable='frustrated', variable_card=2,\n",
        "                            values=[[0.995, 0.99, 0.90],\n",
        "                                    [0.005, 0.01, 0.10]],\n",
        "                            evidence=['Emotion'],\n",
        "                            evidence_card=[3],\n",
        "                            state_names={'frustrated': ['No', 'Yes'],\n",
        "                                         'Emotion': ['happy', 'sad', 'angry']})\n",
        "# Add CPDs to the model\n",
        "model.add_cpds(emotion, happy, joyful, great, sad, down, angry, mad, frustrated)\n",
        "\n",
        "# Check if the model is valid\n",
        "assert model.check_model()\n",
        "\n",
        "# Create an inference object\n",
        "inference = VariableElimination(model)\n",
        "\n",
        "def classify_word(word):\n",
        "    if isinstance(word, list):\n",
        "        word = word[0]\n",
        "\n",
        "    if word not in model.nodes():\n",
        "        return \"Error: Word not in the network\"\n",
        "\n",
        "    result = inference.query(variables=['Emotion'], evidence={word: 'Yes'})\n",
        "    return result.values\n",
        "\n",
        "def classify_multiple_words(words):\n",
        "    valid_words = [word for word in words if word in model.nodes()]\n",
        "    if not valid_words:\n",
        "        return \"Error: No valid words found in the network\"\n",
        "\n",
        "    evidence = {word: 'Yes' for word in valid_words}\n",
        "    result = inference.query(variables=['Emotion'], evidence=evidence)\n",
        "    return result.values\n",
        "\n",
        "# Main\n",
        "def process_text(text):\n",
        "    # Convert to lowercase\n",
        "    text = text.lower()\n",
        "\n",
        "    # Split the text into words\n",
        "    words = text.split()\n",
        "\n",
        "    # Remove personal pronouns and punctuation\n",
        "    personal_pronouns = set([\"i\", \"me\", \"my\", \"mine\", \"i'm\", \"we\", \"us\", \"our\", \"ours\",\n",
        "                             \"you\", \"your\", \"yours\", \"he\", \"him\", \"his\",\n",
        "                             \"she\", \"her\", \"hers\", \"it\", \"its\",\n",
        "                             \"they\", \"them\", \"their\", \"theirs\"])\n",
        "    words = [word.strip(\".,!?\") for word in words if word not in personal_pronouns]\n",
        "\n",
        "    return words\n",
        "\n",
        "# Example usage\n",
        "text = input(\"Enter your emotional text: \")\n",
        "processed_words = process_text(text)\n",
        "\n",
        "if len(processed_words) > 1:\n",
        "    classification = classify_multiple_words(processed_words)\n",
        "else:\n",
        "    classification = classify_word(processed_words)\n",
        "\n",
        "if isinstance(classification[0], float):\n",
        "  print(f\"The result probability is:\\nHappy: {classification[0]}\\nSad: {classification[1]}\\nAngry: {classification[2]}\")\n",
        "else:\n",
        "  print(classification)"
      ]
    },
    {
      "cell_type": "markdown",
      "source": [
        "## Question 2: Smart home lighting system"
      ],
      "metadata": {
        "id": "l2C7EtGfDdB7"
      }
    },
    {
      "cell_type": "code",
      "source": [
        "!pip install scikit-fuzzy"
      ],
      "metadata": {
        "colab": {
          "base_uri": "https://localhost:8080/"
        },
        "id": "0VlADjWYMTIY",
        "outputId": "3d6847de-3af1-4877-e578-3eeac57e79fa"
      },
      "execution_count": 28,
      "outputs": [
        {
          "output_type": "stream",
          "name": "stdout",
          "text": [
            "Collecting scikit-fuzzy\n",
            "  Downloading scikit_fuzzy-0.5.0-py2.py3-none-any.whl.metadata (2.6 kB)\n",
            "Downloading scikit_fuzzy-0.5.0-py2.py3-none-any.whl (920 kB)\n",
            "\u001b[2K   \u001b[90m━━━━━━━━━━━━━━━━━━━━━━━━━━━━━━━━━━━━━━━━\u001b[0m \u001b[32m920.8/920.8 kB\u001b[0m \u001b[31m9.9 MB/s\u001b[0m eta \u001b[36m0:00:00\u001b[0m\n",
            "\u001b[?25hInstalling collected packages: scikit-fuzzy\n",
            "Successfully installed scikit-fuzzy-0.5.0\n"
          ]
        }
      ]
    },
    {
      "cell_type": "code",
      "source": [
        "import numpy as np\n",
        "import skfuzzy as fuzz\n",
        "from skfuzzy import control as ctrl\n",
        "\n",
        "# Define fuzzy variables\n",
        "time_of_day = ctrl.Antecedent(np.arange(0, 24, 1), 'time_of_day')\n",
        "occupancy = ctrl.Antecedent(np.arange(0, 2, 1), 'occupancy')\n",
        "lighting_intensity = ctrl.Consequent(np.arange(0, 101, 1), 'lighting_intensity')\n",
        "preference = ctrl.Antecedent(np.arange(1, 4, 1), 'preference')\n",
        "\n",
        "# Define membership functions for time of day\n",
        "time_of_day['morning'] = fuzz.trimf(time_of_day.universe, [6, 9, 12])\n",
        "time_of_day['afternoon'] = fuzz.trimf(time_of_day.universe, [12, 15, 18])\n",
        "time_of_day['evening'] = fuzz.trimf(time_of_day.universe, [18, 21, 24])\n",
        "time_of_day['night'] = fuzz.trimf(time_of_day.universe, [0, 3, 6])\n",
        "\n",
        "# Define membership functions for occupancy\n",
        "occupancy['unoccupied'] = fuzz.trimf(occupancy.universe, [0, 0, 1])\n",
        "occupancy['occupied'] = fuzz.trimf(occupancy.universe, [0, 1, 1])\n",
        "\n",
        "# Define membership functions for lighting intensity\n",
        "lighting_intensity['off'] = fuzz.trimf(lighting_intensity.universe, [0, 0, 25])\n",
        "lighting_intensity['low'] = fuzz.trimf(lighting_intensity.universe, [25, 25, 50])\n",
        "lighting_intensity['medium'] = fuzz.trimf(lighting_intensity.universe, [50, 50, 75])\n",
        "lighting_intensity['high'] = fuzz.trimf(lighting_intensity.universe, [75, 75, 100])\n",
        "\n",
        "# Define membership functions for user preference\n",
        "preference['low'] = fuzz.trimf(preference.universe, [1, 1, 2])\n",
        "preference['medium'] = fuzz.trimf(preference.universe, [1, 2, 3])\n",
        "preference['high'] = fuzz.trimf(preference.universe, [2, 3, 3])\n",
        "\n",
        "# Define fuzzy rules\n",
        "rule1 = ctrl.Rule(time_of_day['morning'] & occupancy['occupied'] & preference['high'], lighting_intensity['medium'])\n",
        "rule2 = ctrl.Rule(time_of_day['morning'] & occupancy['occupied'] & preference['medium'], lighting_intensity['low'])\n",
        "rule3 = ctrl.Rule(time_of_day['morning'] & occupancy['occupied'] & preference['low'], lighting_intensity['off'])\n",
        "\n",
        "rule4 = ctrl.Rule(time_of_day['afternoon'] & occupancy['occupied'] & preference['high'], lighting_intensity['low'])\n",
        "rule5 = ctrl.Rule(time_of_day['afternoon'] & occupancy['occupied'] & preference['medium'], lighting_intensity['off'])\n",
        "rule6 = ctrl.Rule(time_of_day['afternoon'] & occupancy['occupied'] & preference['low'], lighting_intensity['off'])\n",
        "\n",
        "rule7 = ctrl.Rule(time_of_day['evening'] & occupancy['occupied'] & preference['high'], lighting_intensity['high'])\n",
        "rule8 = ctrl.Rule(time_of_day['evening'] & occupancy['occupied'] & preference['medium'], lighting_intensity['medium'])\n",
        "rule9 = ctrl.Rule(time_of_day['evening'] & occupancy['occupied'] & preference['low'], lighting_intensity['low'])\n",
        "\n",
        "rule10 = ctrl.Rule(time_of_day['night'] & occupancy['unoccupied'], lighting_intensity['off'])\n",
        "rule11 = ctrl.Rule(time_of_day['night'] & occupancy['occupied'] & preference['high'], lighting_intensity['medium'])\n",
        "rule12 = ctrl.Rule(time_of_day['night'] & occupancy['occupied'] & preference['medium'], lighting_intensity['low'])\n",
        "rule13 = ctrl.Rule(time_of_day['night'] & occupancy['occupied'] & preference['low'], lighting_intensity['off'])\n",
        "\n",
        "\n",
        "rule14 = ctrl.Rule(occupancy['occupied'] | occupancy['unoccupied'] & preference['high'], lighting_intensity['off'])\n",
        "rule15 = ctrl.Rule(occupancy['occupied'] | occupancy['unoccupied'] & preference['medium'], lighting_intensity['off'])\n",
        "rule16 = ctrl.Rule(occupancy['occupied'] | occupancy['unoccupied'] & preference['low'], lighting_intensity['off'])\n",
        "\n",
        "# Control system creation\n",
        "lighting_control = ctrl.ControlSystem([rule1, rule2, rule3, rule4, rule5, rule6, rule7, rule8, rule9, rule10, rule11, rule12, rule13, rule14, rule15, rule16])\n",
        "lighting_simulation = ctrl.ControlSystemSimulation(lighting_control)\n",
        "\n",
        "# Inputs and computation\n",
        "example_times = [7, 13, 19, 23]\n",
        "example_occupancies = [1, 0, 1, 0]\n",
        "preference = input(\"Set your preference (high: 3, medium: 2, low:1)\")\n",
        "\n",
        "# Input error managing\n",
        "options = ['1', '2', '3']\n",
        "while preference not in options:\n",
        "  preference = input(\"Error: Wrong value \\nSet your preference (high: 3, medium: 2, low:1)\")\n",
        "\n",
        "for time, occupancy in zip(example_times, example_occupancies):\n",
        "    lighting_simulation.input['time_of_day'] = time\n",
        "    lighting_simulation.input['occupancy'] = occupancy\n",
        "    lighting_simulation.input['preference'] = int(preference)\n",
        "    lighting_simulation.compute()\n",
        "    print(f\"At {time} o'clock and occupancy {occupancy}, the lighting intensity is {lighting_simulation.output['lighting_intensity']:.2f}\")\n"
      ],
      "metadata": {
        "colab": {
          "base_uri": "https://localhost:8080/"
        },
        "id": "v4IV5N84MPhD",
        "outputId": "ef86e22f-e757-4b15-a0a8-7a14240fbde2"
      },
      "execution_count": 48,
      "outputs": [
        {
          "output_type": "stream",
          "name": "stdout",
          "text": [
            "Set your preference (high: 3, medium: 2, low:1)3\n",
            "At 7 o'clock and occupancy 1, the lighting intensity is 27.30\n",
            "At 13 o'clock and occupancy 0, the lighting intensity is 8.33\n",
            "At 19 o'clock and occupancy 1, the lighting intensity is 36.46\n",
            "At 23 o'clock and occupancy 0, the lighting intensity is 8.33\n"
          ]
        }
      ]
    }
  ]
}