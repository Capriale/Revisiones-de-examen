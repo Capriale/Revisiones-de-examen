{
  "nbformat": 4,
  "nbformat_minor": 0,
  "metadata": {
    "colab": {
      "provenance": []
    },
    "kernelspec": {
      "name": "python3",
      "display_name": "Python 3"
    },
    "language_info": {
      "name": "python"
    }
  },
  "cells": [
    {
      "cell_type": "code",
      "execution_count": 1,
      "metadata": {
        "colab": {
          "base_uri": "https://localhost:8080/"
        },
        "id": "xgYdyP0GXW-g",
        "outputId": "88191b97-9945-4a1e-8538-89cbe620726f"
      },
      "outputs": [
        {
          "output_type": "stream",
          "name": "stdout",
          "text": [
            "Archivo JSON creado: case_data.json\n"
          ]
        }
      ],
      "source": [
        "import json\n",
        "\n",
        "# Crear un diccionario en Python\n",
        "case_data = {\n",
        "    \"cases\": [\n",
        "        {\n",
        "            \"case_id\": 1,\n",
        "            \"description\": \"Theft in a Retail Store\",\n",
        "            \"initial_evidence\": {\n",
        "                \"type\": \"video\",\n",
        "                \"description\": \"A surveillance video shows an individual taking an item off the shelf and leaving the store without paying.\"\n",
        "            },\n",
        "            \"initial_conclusion\": \"The individual committed theft.\",\n",
        "            \"new_evidence\": [\n",
        "                {\n",
        "                    \"type\": \"testimony\",\n",
        "                    \"description\": \"A witness states the individual intended to pay but was called outside urgently and left the store in a rush.\"\n",
        "                },\n",
        "                {\n",
        "                    \"type\": \"action\",\n",
        "                    \"description\": \"The individual returned to the store shortly after to pay for the item.\"\n",
        "                }\n",
        "            ],\n",
        "            \"revised_conclusion\": \"The act was not theft but rather an unintentional mistake.\"\n",
        "        },\n",
        "        {\n",
        "            \"case_id\": 2,\n",
        "            \"description\": \"Breach of Contract\",\n",
        "            \"initial_evidence\": {\n",
        "                \"type\": \"legal_claim\",\n",
        "                \"description\": \"A company sues a contractor for failing to complete a project on time, as stipulated in the contract.\"\n",
        "            },\n",
        "            \"initial_conclusion\": \"The contractor breached the contract.\",\n",
        "            \"new_evidence\": [\n",
        "                {\n",
        "                    \"type\": \"documentation\",\n",
        "                    \"description\": \"The contractor provides evidence of force majeure, such as a natural disaster, that made it impossible to complete the project on time.\"\n",
        "                }\n",
        "            ],\n",
        "            \"revised_conclusion\": \"The contractor is absolved of liability due to extraordinary circumstances.\"\n",
        "        },\n",
        "        {\n",
        "            \"case_id\": 3,\n",
        "            \"description\": \"Wrongful Termination\",\n",
        "            \"initial_evidence\": {\n",
        "                \"type\": \"employee_claim\",\n",
        "                \"description\": \"An employee claims wrongful termination, asserting they were fired without cause.\"\n",
        "            },\n",
        "            \"initial_conclusion\": \"The termination appears unlawful.\",\n",
        "            \"new_evidence\": [\n",
        "                {\n",
        "                    \"type\": \"documentation\",\n",
        "                    \"description\": \"The employer presents evidence of repeated policy violations by the employee.\"\n",
        "                }\n",
        "            ],\n",
        "            \"revised_conclusion\": \"The termination was lawful based on documented violations.\"\n",
        "        },\n",
        "        {\n",
        "            \"case_id\": 4,\n",
        "            \"description\": \"Self-Defense in an Assault Case\",\n",
        "            \"initial_evidence\": {\n",
        "                \"type\": \"testimony\",\n",
        "                \"description\": \"Initial witnesses suggest the person was the aggressor in a physical altercation.\"\n",
        "            },\n",
        "            \"initial_conclusion\": \"The person appears guilty of assault.\",\n",
        "            \"new_evidence\": [\n",
        "                {\n",
        "                    \"type\": \"video\",\n",
        "                    \"description\": \"Additional footage shows the person acted in self-defense after being physically threatened.\"\n",
        "                }\n",
        "            ],\n",
        "            \"revised_conclusion\": \"The conclusion is revised to consider self-defense, potentially leading to an acquittal or lesser charge.\"\n",
        "        },\n",
        "        {\n",
        "            \"case_id\": 5,\n",
        "            \"description\": \"Inheritance Dispute\",\n",
        "            \"initial_evidence\": {\n",
        "                \"type\": \"document\",\n",
        "                \"description\": \"A will is presented that leaves the entire estate to one family member.\"\n",
        "            },\n",
        "            \"initial_conclusion\": \"The will is valid and should be executed as written.\",\n",
        "            \"new_evidence\": [\n",
        "                {\n",
        "                    \"type\": \"document\",\n",
        "                    \"description\": \"A more recent will is discovered that distributes the estate differently among family members.\"\n",
        "                }\n",
        "            ],\n",
        "            \"revised_conclusion\": \"The most recent will is executed, as it supersedes the previous one.\"\n",
        "        }\n",
        "    ]\n",
        "}\n",
        "\n",
        "\n",
        "# Guardar como archivo JSON\n",
        "with open('case_data.json', 'w') as json_file:\n",
        "    json.dump(case_data, json_file, indent=4)\n",
        "\n",
        "print(\"Archivo JSON creado: case_data.json\")\n"
      ]
    },
    {
      "cell_type": "code",
      "source": [
        "import json\n",
        "\n",
        "# Cargar el archivo JSON\n",
        "with open('/content/case_data.json', 'r') as file:\n",
        "    cases = json.load(file)\n",
        "\n",
        "# Evaluar la evidencia inicial y mostrar conclusiones iniciales\n",
        "print(\"Evaluación de la evidencia inicial:\")\n",
        "for case in cases[\"cases\"]:\n",
        "    print(f\"Case {case['case_id']}: Initial Conclusion -> {case['initial_conclusion']}\")\n"
      ],
      "metadata": {
        "colab": {
          "base_uri": "https://localhost:8080/"
        },
        "id": "8_3Sg6aka2p-",
        "outputId": "fe809653-f316-4e7f-d0e7-91c9757afa9b"
      },
      "execution_count": 2,
      "outputs": [
        {
          "output_type": "stream",
          "name": "stdout",
          "text": [
            "Evaluación de la evidencia inicial:\n",
            "Case 1: Initial Conclusion -> The individual committed theft.\n",
            "Case 2: Initial Conclusion -> The contractor breached the contract.\n",
            "Case 3: Initial Conclusion -> The termination appears unlawful.\n",
            "Case 4: Initial Conclusion -> The person appears guilty of assault.\n",
            "Case 5: Initial Conclusion -> The will is valid and should be executed as written.\n"
          ]
        }
      ]
    },
    {
      "cell_type": "code",
      "source": [
        "# Función para añadir nueva evidencia a un caso\n",
        "def add_new_evidence(case_id, new_evidence):\n",
        "    for case in cases[\"cases\"]:\n",
        "        if case[\"case_id\"] == case_id:\n",
        "            case[\"new_evidence\"].append(new_evidence)\n",
        "            print(f\"Nueva evidencia añadida al caso {case_id}: {new_evidence}\")\n",
        "            return\n",
        "    print(f\"No se encontró el caso con ID {case_id}.\")\n",
        "\n",
        "# Añadir nueva evidencia a un caso específico (ejemplo)\n",
        "new_evidence = {\n",
        "    \"type\": \"testimony\",\n",
        "    \"description\": \"Additional witness confirms the act was accidental.\"\n",
        "}\n",
        "add_new_evidence(1, new_evidence)\n",
        "\n",
        "# Guardar los cambios en el archivo JSON\n",
        "with open('output.json', 'w') as file:\n",
        "    json.dump(cases, file, indent=4)"
      ],
      "metadata": {
        "colab": {
          "base_uri": "https://localhost:8080/"
        },
        "id": "fdVDyA24a-eY",
        "outputId": "c0208b29-78e0-4f15-d97b-83e35726301c"
      },
      "execution_count": 3,
      "outputs": [
        {
          "output_type": "stream",
          "name": "stdout",
          "text": [
            "Nueva evidencia añadida al caso 1: {'type': 'testimony', 'description': 'Additional witness confirms the act was accidental.'}\n"
          ]
        }
      ]
    },
    {
      "cell_type": "code",
      "source": [
        "# Función para revisar conclusiones usando razonamiento no monótono\n",
        "def revise_conclusion(case):\n",
        "    initial_conclusion = case[\"initial_conclusion\"]\n",
        "    new_evidence = case[\"new_evidence\"]\n",
        "\n",
        "    # Ejemplo de reglas para revisar conclusiones\n",
        "    if any(\"intent to pay\" in ev[\"description\"] for ev in new_evidence):\n",
        "        revised_conclusion = \"Unintentional mistake\"\n",
        "    elif any(\"force majeure\" in ev[\"description\"] for ev in new_evidence):\n",
        "        revised_conclusion = \"No liability due to extraordinary circumstances\"\n",
        "    elif any(\"self-defense\" in ev[\"description\"] for ev in new_evidence):\n",
        "        revised_conclusion = \"Self-defense; potential acquittal\"\n",
        "    else:\n",
        "        revised_conclusion = initial_conclusion  # No change\n",
        "\n",
        "    return revised_conclusion\n",
        "\n",
        "# Aplicar revisión a cada caso\n",
        "print(\"\\nRevisando conclusiones:\")\n",
        "for case in cases[\"cases\"]:\n",
        "    revised_conclusion = revise_conclusion(case)\n",
        "    case[\"revised_conclusion\"] = revised_conclusion\n",
        "    print(f\"Case {case['case_id']}: Revised Conclusion -> {revised_conclusion}\")\n",
        "\n",
        "# Guardar los cambios en el archivo JSON\n",
        "with open('output.json', 'w') as file:\n",
        "    json.dump(cases, file, indent=4)"
      ],
      "metadata": {
        "colab": {
          "base_uri": "https://localhost:8080/"
        },
        "id": "Bf8UEgjnbDIq",
        "outputId": "a975415a-1e26-404d-961c-c6cf1da4a8b5"
      },
      "execution_count": 4,
      "outputs": [
        {
          "output_type": "stream",
          "name": "stdout",
          "text": [
            "\n",
            "Revisando conclusiones:\n",
            "Case 1: Revised Conclusion -> The individual committed theft.\n",
            "Case 2: Revised Conclusion -> No liability due to extraordinary circumstances\n",
            "Case 3: Revised Conclusion -> The termination appears unlawful.\n",
            "Case 4: Revised Conclusion -> Self-defense; potential acquittal\n",
            "Case 5: Revised Conclusion -> The will is valid and should be executed as written.\n"
          ]
        }
      ]
    },
    {
      "cell_type": "code",
      "source": [
        "print(\"\\nDecisión final para cada caso:\")\n",
        "for case in cases[\"cases\"]:\n",
        "    print(f\"Case {case['case_id']}:\")\n",
        "    print(f\"  Description: {case['description']}\")\n",
        "    print(f\"  Initial Conclusion: {case['initial_conclusion']}\")\n",
        "    print(f\"  New Evidence: {[ev['description'] for ev in case['new_evidence']]}\")\n",
        "    print(f\"  Revised Conclusion: {case['revised_conclusion']}\")\n"
      ],
      "metadata": {
        "colab": {
          "base_uri": "https://localhost:8080/"
        },
        "id": "fY86G8LjbF-I",
        "outputId": "9252b8cb-8729-4da6-b5b6-9fb4e6d234af"
      },
      "execution_count": 5,
      "outputs": [
        {
          "output_type": "stream",
          "name": "stdout",
          "text": [
            "\n",
            "Decisión final para cada caso:\n",
            "Case 1:\n",
            "  Description: Theft in a Retail Store\n",
            "  Initial Conclusion: The individual committed theft.\n",
            "  New Evidence: ['A witness states the individual intended to pay but was called outside urgently and left the store in a rush.', 'The individual returned to the store shortly after to pay for the item.', 'Additional witness confirms the act was accidental.']\n",
            "  Revised Conclusion: The individual committed theft.\n",
            "Case 2:\n",
            "  Description: Breach of Contract\n",
            "  Initial Conclusion: The contractor breached the contract.\n",
            "  New Evidence: ['The contractor provides evidence of force majeure, such as a natural disaster, that made it impossible to complete the project on time.']\n",
            "  Revised Conclusion: No liability due to extraordinary circumstances\n",
            "Case 3:\n",
            "  Description: Wrongful Termination\n",
            "  Initial Conclusion: The termination appears unlawful.\n",
            "  New Evidence: ['The employer presents evidence of repeated policy violations by the employee.']\n",
            "  Revised Conclusion: The termination appears unlawful.\n",
            "Case 4:\n",
            "  Description: Self-Defense in an Assault Case\n",
            "  Initial Conclusion: The person appears guilty of assault.\n",
            "  New Evidence: ['Additional footage shows the person acted in self-defense after being physically threatened.']\n",
            "  Revised Conclusion: Self-defense; potential acquittal\n",
            "Case 5:\n",
            "  Description: Inheritance Dispute\n",
            "  Initial Conclusion: The will is valid and should be executed as written.\n",
            "  New Evidence: ['A more recent will is discovered that distributes the estate differently among family members.']\n",
            "  Revised Conclusion: The will is valid and should be executed as written.\n"
          ]
        }
      ]
    }
  ]
}