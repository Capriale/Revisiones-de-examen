{
  "nbformat": 4,
  "nbformat_minor": 0,
  "metadata": {
    "colab": {
      "provenance": []
    },
    "kernelspec": {
      "name": "python3",
      "display_name": "Python 3"
    },
    "language_info": {
      "name": "python"
    }
  },
  "cells": [
    {
      "cell_type": "code",
      "execution_count": 1,
      "metadata": {
        "id": "dEa0ULfEqddp"
      },
      "outputs": [],
      "source": [
        "import heapq\n"
      ]
    },
    {
      "cell_type": "code",
      "source": [
        "def a_search(graph, heuristics, start, goal):\n",
        "    open_set = []  # Priority queue (min-heap)\n",
        "    heapq.heappush(open_set, (heuristics[start], 0, start, []))  # (f, g, node, path)\n",
        "\n",
        "    visited = set()\n",
        "\n",
        "    while open_set:\n",
        "        f, g, current, path = heapq.heappop(open_set)\n",
        "\n",
        "        if current in visited:\n",
        "            continue\n",
        "\n",
        "        path = path + [current]\n",
        "        visited.add(current)\n",
        "\n",
        "        if current == goal:\n",
        "            return path, g  # Return the optimal path and cost\n",
        "\n",
        "        for neighbor, cost in graph.get(current, []):\n",
        "            if neighbor not in visited:\n",
        "                new_g = g + cost\n",
        "                new_f = new_g + heuristics[neighbor]\n",
        "                heapq.heappush(open_set, (new_f, new_g, neighbor, path))\n",
        "\n",
        "    return None, float('inf')  # No path found\n"
      ],
      "metadata": {
        "id": "b-_5mhVQqhfB"
      },
      "execution_count": 3,
      "outputs": []
    },
    {
      "cell_type": "code",
      "source": [
        "graph = {\n",
        "    'A': [('B', 10), ('C', 15)],\n",
        "    'B': [('D', 12)],\n",
        "    'C': [('D', 10)],\n",
        "    'D': [('E', 5)],\n",
        "    'E': []\n",
        "}\n",
        "\n",
        "# Define heuristic values\n",
        "heuristics = {\n",
        "    'A': 20,\n",
        "    'B': 15,\n",
        "    'C': 10,\n",
        "    'D': 5,\n",
        "    'E': 0\n",
        "}\n",
        "\n",
        "# Run A* search\n",
        "start_node = 'A'\n",
        "goal_node = 'E'\n",
        "path, cost = a_search(graph, heuristics, start_node, goal_node)\n",
        "\n",
        "# Print the results\n",
        "if path:\n",
        "    print(f\"Optimal Path: {' -> '.join(path)}\")\n",
        "    print(f\"Total Cost: {cost} ms\")\n",
        "else:\n",
        "    print(\"No path found\")"
      ],
      "metadata": {
        "colab": {
          "base_uri": "https://localhost:8080/"
        },
        "id": "rtYDIfOBqlqU",
        "outputId": "0346cacd-5189-42ad-9bda-3223a9117fa9"
      },
      "execution_count": 4,
      "outputs": [
        {
          "output_type": "stream",
          "name": "stdout",
          "text": [
            "Optimal Path: A -> B -> D -> E\n",
            "Total Cost: 27 ms\n"
          ]
        }
      ]
    }
  ]
}