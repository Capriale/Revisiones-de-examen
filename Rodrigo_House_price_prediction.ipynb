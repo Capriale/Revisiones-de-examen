{
  "nbformat": 4,
  "nbformat_minor": 0,
  "metadata": {
    "colab": {
      "provenance": []
    },
    "kernelspec": {
      "name": "python3",
      "display_name": "Python 3"
    },
    "language_info": {
      "name": "python"
    }
  },
  "cells": [
    {
      "cell_type": "markdown",
      "source": [
        "#Installing dependencies"
      ],
      "metadata": {
        "id": "FsjP6YHGfZ1t"
      }
    },
    {
      "cell_type": "code",
      "execution_count": 2,
      "metadata": {
        "colab": {
          "base_uri": "https://localhost:8080/"
        },
        "id": "sFRQG_KofNrm",
        "outputId": "51dcfecf-1464-406e-8c68-2c57e320f998"
      },
      "outputs": [
        {
          "output_type": "stream",
          "name": "stdout",
          "text": [
            "Requirement already satisfied: pandas in /usr/local/lib/python3.10/dist-packages (2.2.2)\n",
            "Requirement already satisfied: scikit-learn in /usr/local/lib/python3.10/dist-packages (1.5.2)\n",
            "Requirement already satisfied: numpy>=1.22.4 in /usr/local/lib/python3.10/dist-packages (from pandas) (1.26.4)\n",
            "Requirement already satisfied: python-dateutil>=2.8.2 in /usr/local/lib/python3.10/dist-packages (from pandas) (2.8.2)\n",
            "Requirement already satisfied: pytz>=2020.1 in /usr/local/lib/python3.10/dist-packages (from pandas) (2024.2)\n",
            "Requirement already satisfied: tzdata>=2022.7 in /usr/local/lib/python3.10/dist-packages (from pandas) (2024.2)\n",
            "Requirement already satisfied: scipy>=1.6.0 in /usr/local/lib/python3.10/dist-packages (from scikit-learn) (1.13.1)\n",
            "Requirement already satisfied: joblib>=1.2.0 in /usr/local/lib/python3.10/dist-packages (from scikit-learn) (1.4.2)\n",
            "Requirement already satisfied: threadpoolctl>=3.1.0 in /usr/local/lib/python3.10/dist-packages (from scikit-learn) (3.5.0)\n",
            "Requirement already satisfied: six>=1.5 in /usr/local/lib/python3.10/dist-packages (from python-dateutil>=2.8.2->pandas) (1.16.0)\n"
          ]
        }
      ],
      "source": [
        "pip install pandas scikit-learn\n"
      ]
    },
    {
      "cell_type": "markdown",
      "source": [
        "#Creating the dataset"
      ],
      "metadata": {
        "id": "s4ksJQsZfroK"
      }
    },
    {
      "cell_type": "code",
      "source": [
        "import pandas as pd\n",
        "from sklearn.model_selection import train_test_split\n",
        "from sklearn.linear_model import LinearRegression\n",
        "from sklearn.preprocessing import OneHotEncoder\n",
        "from sklearn.metrics import mean_absolute_error\n",
        "import numpy as np\n",
        "\n",
        "# Creación del dataset para el entrenamiento\n",
        "data = pd.DataFrame({\n",
        "    'Location': ['Downtown', 'Suburb', 'Rural', 'Urban', 'Coastal'],\n",
        "    'Size': [1200, 1800, 2400, 1500, 2000],\n",
        "    'Bedrooms': [3, 4, 5, 3, 4],\n",
        "    'Age': [10, 5, 15, 7, 8],\n",
        "    'Price': [350000, 420000, 300000, 375000, 450000]\n",
        "})\n"
      ],
      "metadata": {
        "id": "GT5fd9isfnrF"
      },
      "execution_count": 23,
      "outputs": []
    },
    {
      "cell_type": "markdown",
      "source": [
        "#Preprocesing data"
      ],
      "metadata": {
        "id": "o002cQGGfzrK"
      }
    },
    {
      "cell_type": "code",
      "source": [
        "# Verificar si la columna 'Location' está en el DataFrame original\n",
        "if 'Location' in data.columns:\n",
        "    # Convertir la columna 'Location' usando one-hot encoding\n",
        "    encoder = OneHotEncoder(sparse_output=False)\n",
        "    encoded_locations = encoder.fit_transform(data[['Location']])\n",
        "    encoded_df = pd.DataFrame(encoded_locations, columns=encoder.get_feature_names_out(['Location']))\n",
        "\n",
        "    # Combinar las columnas codificadas con el resto del dataset y eliminar la columna original\n",
        "    data = pd.concat([encoded_df, data[['Size', 'Bedrooms', 'Age', 'Price']]], axis=1)\n",
        "else:\n",
        "    print(\"La columna 'Location' no se encuentra en el DataFrame.\")\n",
        "    print(\"Verifique que el DataFrame contenga la columna correcta antes de continuar.\")\n",
        "\n",
        "# Revisión de los datos\n",
        "print(data.head())"
      ],
      "metadata": {
        "colab": {
          "base_uri": "https://localhost:8080/"
        },
        "id": "1SxwY7-ef3S7",
        "outputId": "95a613fe-be9d-4cfc-9785-79f3a6a20f65"
      },
      "execution_count": 20,
      "outputs": [
        {
          "output_type": "stream",
          "name": "stdout",
          "text": [
            "   Location_Coastal  Location_Downtown  Location_Rural  Location_Suburb  \\\n",
            "0               0.0                1.0             0.0              0.0   \n",
            "1               0.0                0.0             0.0              1.0   \n",
            "2               0.0                0.0             1.0              0.0   \n",
            "3               0.0                0.0             0.0              0.0   \n",
            "4               1.0                0.0             0.0              0.0   \n",
            "\n",
            "   Location_Urban  Size  Bedrooms  Age   Price  \n",
            "0             0.0  1200         3   10  350000  \n",
            "1             0.0  1800         4    5  420000  \n",
            "2             0.0  2400         5   15  300000  \n",
            "3             1.0  1500         3    7  375000  \n",
            "4             0.0  2000         4    8  450000  \n"
          ]
        }
      ]
    },
    {
      "cell_type": "markdown",
      "source": [
        "#Dividing data for training and training the model"
      ],
      "metadata": {
        "id": "hJr1TBbnf8cK"
      }
    },
    {
      "cell_type": "code",
      "source": [
        "# Variables independientes (X) y variable dependiente (y)\n",
        "X = data.drop('Price', axis=1)\n",
        "y = data['Price']\n",
        "\n",
        "# Dividir el dataset en datos de entrenamiento y prueba\n",
        "X_train, X_test, y_train, y_test = train_test_split(X, y, test_size=0.2, random_state=42)\n",
        "\n",
        "# Crear y entrenar el modelo\n",
        "model = LinearRegression()\n",
        "model.fit(X_train, y_train)\n",
        "\n",
        "# Evaluar el modelo usando datos de prueba\n",
        "y_pred = model.predict(X_test)\n",
        "mae = mean_absolute_error(y_test, y_pred)\n",
        "print(f'Mean Absolute Error: ${mae:.2f}')\n"
      ],
      "metadata": {
        "colab": {
          "base_uri": "https://localhost:8080/"
        },
        "id": "84hDF38FgA5K",
        "outputId": "e02f1de1-d604-48f7-8835-2b263844d192"
      },
      "execution_count": 21,
      "outputs": [
        {
          "output_type": "stream",
          "name": "stdout",
          "text": [
            "Mean Absolute Error: $47960.03\n"
          ]
        }
      ]
    },
    {
      "cell_type": "markdown",
      "source": [
        "#Predicting the house price"
      ],
      "metadata": {
        "id": "r1t7qgomgZ-x"
      }
    },
    {
      "cell_type": "code",
      "source": [
        "def predict_house_price(location, size, bedrooms, age):\n",
        "    location_encoded = encoder.transform([[location]])\n",
        "    location_df = pd.DataFrame(location_encoded, columns=encoder.get_feature_names_out(['Location']))\n",
        "\n",
        "    # Crear el DataFrame de entrada\n",
        "    input_data = pd.concat([location_df, pd.DataFrame({'Size': [size], 'Bedrooms': [bedrooms], 'Age': [age]})], axis=1)\n",
        "\n",
        "    # Si faltan columnas debido a la codificación, completarlas con ceros\n",
        "    for col in X.columns:\n",
        "        if col not in input_data.columns:\n",
        "            input_data[col] = 0\n",
        "\n",
        "    # Reordenar las columnas para que coincidan con el modelo entrenado\n",
        "    input_data = input_data[X.columns]\n",
        "\n",
        "    # Hacer la predicción\n",
        "    predicted_price = model.predict(input_data)\n",
        "    return predicted_price[0]\n",
        "\n",
        "# Ejemplo de uso\n",
        "predicted_price = predict_house_price('Downtown', 1300, 3, 12)\n",
        "print(f'Estimated Price: ${predicted_price:.2f}')\n"
      ],
      "metadata": {
        "colab": {
          "base_uri": "https://localhost:8080/"
        },
        "id": "wmckTDImgfP7",
        "outputId": "b650669c-a721-4710-f9f4-2dfe360727da"
      },
      "execution_count": 24,
      "outputs": [
        {
          "output_type": "stream",
          "name": "stdout",
          "text": [
            "Estimated Price: $316443.99\n"
          ]
        },
        {
          "output_type": "stream",
          "name": "stderr",
          "text": [
            "/usr/local/lib/python3.10/dist-packages/sklearn/base.py:493: UserWarning: X does not have valid feature names, but OneHotEncoder was fitted with feature names\n",
            "  warnings.warn(\n"
          ]
        }
      ]
    }
  ]
}