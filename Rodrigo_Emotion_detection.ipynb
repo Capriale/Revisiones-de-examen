{
  "nbformat": 4,
  "nbformat_minor": 0,
  "metadata": {
    "colab": {
      "provenance": []
    },
    "kernelspec": {
      "name": "python3",
      "display_name": "Python 3"
    },
    "language_info": {
      "name": "python"
    }
  },
  "cells": [
    {
      "cell_type": "markdown",
      "source": [
        "#Installing dependencies"
      ],
      "metadata": {
        "id": "lB2_uSj9lJXc"
      }
    },
    {
      "cell_type": "code",
      "execution_count": 1,
      "metadata": {
        "colab": {
          "base_uri": "https://localhost:8080/"
        },
        "id": "RkA3TuDVlEq2",
        "outputId": "42dba47d-f18d-4d5f-b403-af74365bd657"
      },
      "outputs": [
        {
          "output_type": "stream",
          "name": "stdout",
          "text": [
            "Requirement already satisfied: pandas in /usr/local/lib/python3.10/dist-packages (2.2.2)\n",
            "Requirement already satisfied: numpy>=1.22.4 in /usr/local/lib/python3.10/dist-packages (from pandas) (1.26.4)\n",
            "Requirement already satisfied: python-dateutil>=2.8.2 in /usr/local/lib/python3.10/dist-packages (from pandas) (2.8.2)\n",
            "Requirement already satisfied: pytz>=2020.1 in /usr/local/lib/python3.10/dist-packages (from pandas) (2024.2)\n",
            "Requirement already satisfied: tzdata>=2022.7 in /usr/local/lib/python3.10/dist-packages (from pandas) (2024.2)\n",
            "Requirement already satisfied: six>=1.5 in /usr/local/lib/python3.10/dist-packages (from python-dateutil>=2.8.2->pandas) (1.16.0)\n"
          ]
        }
      ],
      "source": [
        "pip install pandas"
      ]
    },
    {
      "cell_type": "markdown",
      "source": [
        "#Creating the dataset"
      ],
      "metadata": {
        "id": "uMeahthGlPAk"
      }
    },
    {
      "cell_type": "code",
      "source": [
        "import pandas as pd\n",
        "import re\n",
        "\n",
        "# Prior Probabilities (P(E))\n",
        "priors = {\n",
        "    'Happy': 0.4,\n",
        "    'Sad': 0.3,\n",
        "    'Angry': 0.3\n",
        "}\n",
        "\n",
        "# Conditional Probabilities (P(W|E))\n",
        "conditional_probs = {\n",
        "    'happy': {'Happy': 0.25, 'Sad': 0.05, 'Angry': 0.10},\n",
        "    'joyful': {'Happy': 0.125, 'Sad': 0.02, 'Angry': 0.03},\n",
        "    'great': {'Happy': 0.125, 'Sad': 0.03, 'Angry': 0.02},\n",
        "    'sad': {'Happy': 0.05, 'Sad': 0.20, 'Angry': 0.05},\n",
        "    'down': {'Happy': 0.03, 'Sad': 0.125, 'Angry': 0.02},\n",
        "    'angry': {'Happy': 0.02, 'Sad': 0.03, 'Angry': 0.15},\n",
        "    'mad': {'Happy': 0.01, 'Sad': 0.02, 'Angry': 0.125},\n",
        "    'frustrated': {'Happy': 0.005, 'Sad': 0.01, 'Angry': 0.10}\n",
        "}\n"
      ],
      "metadata": {
        "id": "8cb4O8ctlStW"
      },
      "execution_count": 2,
      "outputs": []
    },
    {
      "cell_type": "markdown",
      "source": [
        "#Preprocesing data"
      ],
      "metadata": {
        "id": "YpncVxKXlUzQ"
      }
    },
    {
      "cell_type": "code",
      "source": [
        "# Función para limpiar y preprocesar el texto\n",
        "def preprocess_text(text):\n",
        "    # Convertir a minúsculas\n",
        "    text = text.lower()\n",
        "    # Remover puntuación\n",
        "    text = re.sub(r'[^\\w\\s]', '', text)\n",
        "    # Dividir el texto en palabras\n",
        "    words = text.split()\n",
        "    return words\n"
      ],
      "metadata": {
        "id": "Ei0HBXDHlfvz"
      },
      "execution_count": 3,
      "outputs": []
    },
    {
      "cell_type": "markdown",
      "source": [
        "#Implementing Bayes Algorithm"
      ],
      "metadata": {
        "id": "PeDPHBaaliBh"
      }
    },
    {
      "cell_type": "code",
      "source": [
        "# Función para calcular P(W) - la probabilidad total de las palabras en el mensaje\n",
        "def calculate_probability_w(words):\n",
        "    total_prob = 0.0\n",
        "    for emotion in priors:\n",
        "        prob = priors[emotion]\n",
        "        for word in words:\n",
        "            if word in conditional_probs:\n",
        "                prob *= conditional_probs[word].get(emotion, 0)\n",
        "        total_prob += prob\n",
        "    return total_prob\n",
        "\n",
        "# Función para calcular la probabilidad posterior P(E|W) para cada emoción\n",
        "def calculate_posterior_probabilities(words):\n",
        "    probabilities = {}\n",
        "    prob_w = calculate_probability_w(words)  # P(W)\n",
        "    for emotion in priors:\n",
        "        # P(E) * P(W|E)\n",
        "        prob = priors[emotion]\n",
        "        for word in words:\n",
        "            if word in conditional_probs:\n",
        "                prob *= conditional_probs[word].get(emotion, 0)\n",
        "        # P(E|W) = (P(W|E) * P(E)) / P(W)\n",
        "        if prob_w > 0:\n",
        "            posterior = prob / prob_w\n",
        "        else:\n",
        "            posterior = 0\n",
        "        probabilities[emotion] = posterior\n",
        "    return probabilities\n",
        "\n",
        "# Función para detectar la emoción más probable\n",
        "def detect_emotion(text):\n",
        "    words = preprocess_text(text)\n",
        "    probabilities = calculate_posterior_probabilities(words)\n",
        "    most_probable_emotion = max(probabilities, key=probabilities.get)\n",
        "    return most_probable_emotion, probabilities\n"
      ],
      "metadata": {
        "id": "4olcwGq8lp-Q"
      },
      "execution_count": 4,
      "outputs": []
    },
    {
      "cell_type": "markdown",
      "source": [
        "#Interface and emotion detection"
      ],
      "metadata": {
        "id": "EVnH8I7Ilt-a"
      }
    },
    {
      "cell_type": "code",
      "source": [
        "# Ejemplo de uso\n",
        "user_input = input(\"Ingrese un mensaje de texto para analizar la emoción: \")\n",
        "emotion, probabilities = detect_emotion(user_input)\n",
        "\n",
        "print(f\"Emoción más probable: {emotion}\")\n",
        "print(\"Probabilidades:\")\n",
        "for em, prob in probabilities.items():\n",
        "    print(f\"{em}: {prob:.4f}\")\n"
      ],
      "metadata": {
        "colab": {
          "base_uri": "https://localhost:8080/"
        },
        "id": "8rUk5_vJltA9",
        "outputId": "133fcfc6-a534-42ba-f608-b3d1f9a0a0cf"
      },
      "execution_count": 5,
      "outputs": [
        {
          "output_type": "stream",
          "name": "stdout",
          "text": [
            "Ingrese un mensaje de texto para analizar la emoción: joyful\n",
            "Emoción más probable: Happy\n",
            "Probabilidades:\n",
            "Happy: 0.7692\n",
            "Sad: 0.0923\n",
            "Angry: 0.1385\n"
          ]
        }
      ]
    }
  ]
}