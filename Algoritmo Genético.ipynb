{
 "cells": [
  {
   "cell_type": "code",
   "execution_count": 1,
   "id": "4634d904-30d3-47d1-a18c-cd33868fdfae",
   "metadata": {},
   "outputs": [],
   "source": [
    "from deap import base, creator, tools, algorithms\n",
    "import random\n",
    "import sympy as sp"
   ]
  },
  {
   "cell_type": "code",
   "execution_count": 2,
   "id": "4cd86057-088f-4d6e-8493-f2ac0fecc9b9",
   "metadata": {},
   "outputs": [],
   "source": [
    "def evolutionary_algorithm():\n",
    "    pop = toolbox.population(n=50)\n",
    "    algorithms.eaSimple(pop, toolbox, cxpb=0.7, mutpb=0.2, ngen=40, verbose=False)\n",
    "    best_ind = tools.selBest(pop, 1)[0]\n",
    "    return best_ind[0]"
   ]
  },
  {
   "cell_type": "code",
   "execution_count": 3,
   "id": "bc905b87-15a8-41f4-95be-d33f5f061c6e",
   "metadata": {},
   "outputs": [],
   "source": [
    "x = sp.symbols('x')\n",
    "f_sym = 3*x**2 + 2*x + 1\n",
    "f = sp.lambdify(x, f_sym, 'numpy')"
   ]
  },
  {
   "cell_type": "code",
   "execution_count": 4,
   "id": "2f208c80-daea-4c34-91e7-d3c581ccc9f5",
   "metadata": {},
   "outputs": [],
   "source": [
    "creator.create(\"FitnessMin\", base.Fitness, weights=(-1.0,))\n",
    "creator.create(\"Individual\", list, fitness=creator.FitnessMin)"
   ]
  },
  {
   "cell_type": "code",
   "execution_count": 5,
   "id": "610b1fe5-e98f-421a-be0e-f71888d61ece",
   "metadata": {},
   "outputs": [],
   "source": [
    "toolbox = base.Toolbox()\n",
    "toolbox.register(\"attr_float\", random.uniform, -10, 10)\n",
    "toolbox.register(\"individual\", tools.initRepeat, creator.Individual, toolbox.attr_float, 1)\n",
    "toolbox.register(\"population\", tools.initRepeat, list, toolbox.individual)"
   ]
  },
  {
   "cell_type": "code",
   "execution_count": 6,
   "id": "a2ffd2ae-4224-44c0-97a6-7ecda6623ef4",
   "metadata": {},
   "outputs": [],
   "source": [
    "toolbox.register(\"evaluate\", lambda ind: (f(ind[0]),))\n",
    "toolbox.register(\"mate\", tools.cxBlend, alpha=0.5)\n",
    "toolbox.register(\"mutate\", tools.mutGaussian, mu=0, sigma=1, indpb=0.2)\n",
    "toolbox.register(\"select\", tools.selTournament, tournsize=3)"
   ]
  },
  {
   "cell_type": "code",
   "execution_count": 7,
   "id": "b8beb8e1-f842-4ea7-9ebb-b3bb496c6a3d",
   "metadata": {},
   "outputs": [
    {
     "name": "stdout",
     "output_type": "stream",
     "text": [
      "Algoritmos evolutivos: La solución es x = -0.3333333342997605\n"
     ]
    }
   ],
   "source": [
    "min_x_evo = evolutionary_algorithm()\n",
    "print(\"Algoritmos evolutivos: La solución es x =\", min_x_evo)"
   ]
  }
 ],
 "metadata": {
  "kernelspec": {
   "display_name": "Python 3 (ipykernel)",
   "language": "python",
   "name": "python3"
  },
  "language_info": {
   "codemirror_mode": {
    "name": "ipython",
    "version": 3
   },
   "file_extension": ".py",
   "mimetype": "text/x-python",
   "name": "python",
   "nbconvert_exporter": "python",
   "pygments_lexer": "ipython3",
   "version": "3.12.2"
  }
 },
 "nbformat": 4,
 "nbformat_minor": 5
}
