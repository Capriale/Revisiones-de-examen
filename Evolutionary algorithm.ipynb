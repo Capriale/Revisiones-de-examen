{
 "cells": [
  {
   "cell_type": "code",
   "execution_count": 1,
   "metadata": {},
   "outputs": [],
   "source": [
    "import random\n",
    "\n",
    "def evolutionary_algorithm(population_size=10, num_generations=100):\n",
    "    population = [random.uniform(-10, 10) for _ in range(population_size)]\n",
    "    \n",
    "    def fitness(x):\n",
    "        return 3*x**2 + 2*x + 1\n",
    "    \n",
    "    for generation in range(num_generations):\n",
    "        population.sort(key=fitness)  #minimizing\n",
    "        population = population[:population_size // 2] + [x + random.uniform(-1, 1) for x in population[:population_size // 2]] #slight random change\n",
    "    \n",
    "    return min(population, key=fitness)\n"
   ]
  },
  {
   "cell_type": "code",
   "execution_count": 2,
   "metadata": {},
   "outputs": [
    {
     "name": "stdout",
     "output_type": "stream",
     "text": [
      "Evolutionary Algorithm: x = -0.3350207406504895\n"
     ]
    }
   ],
   "source": [
    "x_ea = evolutionary_algorithm()\n",
    "print(f\"Evolutionary Algorithm: x = {x_ea}\")"
   ]
  }
 ],
 "metadata": {
  "kernelspec": {
   "display_name": "Python 3",
   "language": "python",
   "name": "python3"
  },
  "language_info": {
   "codemirror_mode": {
    "name": "ipython",
    "version": 3
   },
   "file_extension": ".py",
   "mimetype": "text/x-python",
   "name": "python",
   "nbconvert_exporter": "python",
   "pygments_lexer": "ipython3",
   "version": "3.11.9"
  }
 },
 "nbformat": 4,
 "nbformat_minor": 2
}
