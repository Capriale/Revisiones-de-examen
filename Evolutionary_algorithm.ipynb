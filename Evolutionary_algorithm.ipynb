{
 "cells": [
  {
   "cell_type": "markdown",
   "id": "4d1d73e6-2952-4435-8f87-6ccc5a5acb29",
   "metadata": {},
   "source": [
    "##### Given the function \n",
    "\n",
    "##### $f(x)=3x^2+2x+1$\n",
    "\n",
    "##### Find the value of 𝑥 that minimizes 𝑓(𝑥) using Evolutionary algorithm (Using the library DEAP)"
   ]
  },
  {
   "cell_type": "code",
   "execution_count": 2,
   "id": "9d761e38-384b-4839-a37f-441e3eb75e75",
   "metadata": {},
   "outputs": [
    {
     "name": "stdout",
     "output_type": "stream",
     "text": [
      "Minimum value of x using Evolutionary Algorithm: -0.3333333334556139\n"
     ]
    }
   ],
   "source": [
    "import random\n",
    "from deap import base, creator, tools, algorithms\n",
    "\n",
    "def evolutionary_algorithm():\n",
    "    creator.create(\"FitnessMin\",base.Fitness,weights=(-1.0,))\n",
    "    creator.create(\"Individual\",list,fitness=creator.FitnessMin)\n",
    "\n",
    "    def evaluate(individual):\n",
    "        x=individual[0]\n",
    "        return (3*x**2+2*x+1,)\n",
    "\n",
    "    toolbox=base.Toolbox()\n",
    "    toolbox.register(\"attr_float\",random.uniform,-10,10)\n",
    "    toolbox.register(\"individual\",tools.initRepeat,creator.Individual,toolbox.attr_float,n=1)\n",
    "    toolbox.register(\"population\",tools.initRepeat,list,toolbox.individual)\n",
    "\n",
    "    toolbox.register(\"mate\",tools.cxBlend,alpha=0.5)\n",
    "    toolbox.register(\"mutate\",tools.mutGaussian,mu=0,sigma=1,indpb=0.2)\n",
    "    toolbox.register(\"select\",tools.selTournament,tournsize=3)\n",
    "    toolbox.register(\"evaluate\",evaluate)\n",
    "\n",
    "    population=toolbox.population(n=100)\n",
    "    algorithms.eaSimple(population,toolbox,cxpb=0.7,mutpb=0.2,ngen=40,verbose=False)\n",
    "\n",
    "    best_individual=tools.selBest(population,k=1)[0]\n",
    "    return best_individual[0]\n",
    "\n",
    "x_min_ea=evolutionary_algorithm()\n",
    "print(f\"Minimum value of x using Evolutionary Algorithm: {x_min_ea}\")"
   ]
  },
  {
   "cell_type": "markdown",
   "id": "dd458b72-b7e8-455b-a21c-b8710209f56c",
   "metadata": {},
   "source": [
    "##### Given the function \n",
    "\n",
    "##### $f(x)=3x^2+2x+1$\n",
    "\n",
    "##### Find the value of 𝑥 that minimizes 𝑓(𝑥) using Evolutionary algorithm (Without using the library DEAP)"
   ]
  },
  {
   "cell_type": "code",
   "execution_count": 3,
   "id": "baeab1d6-2af0-4890-a623-e5fd4e42ead8",
   "metadata": {},
   "outputs": [
    {
     "name": "stdout",
     "output_type": "stream",
     "text": [
      "Minimum value of x using Evolutionary Algorithm: -0.3396198280748921\n"
     ]
    }
   ],
   "source": [
    "import numpy as np\n",
    "\n",
    "def evolutionary_algorithm(pop_size=20,generations=100,mutation_rate=0.1,crossover_rate=0.7,bounds=(-10,10)):\n",
    "    #Initialize the population with random values within the given bounds\n",
    "    population=np.random.uniform(bounds[0],bounds[1],pop_size)\n",
    "    \n",
    "    def fitness(x):\n",
    "        return 3*x**2+2*x+1\n",
    "\n",
    "    def select(population, fitness_values):\n",
    "        #Tournament selection\n",
    "        selected=[]\n",
    "        for _ in range(pop_size):\n",
    "            i,j=random.sample(range(pop_size),2)\n",
    "            selected.append(population[i] if fitness_values[i]<fitness_values[j] else population[j])\n",
    "        return np.array(selected)\n",
    "    \n",
    "    def crossover(parent1,parent2):\n",
    "        if random.random()<crossover_rate:\n",
    "            return (parent1+parent2)/2\n",
    "        return parent1\n",
    "\n",
    "    def mutate(individual):\n",
    "        if random.random()<mutation_rate:\n",
    "            return individual+np.random.uniform(-1,1)\n",
    "        return individual\n",
    "\n",
    "    #Evolution loop\n",
    "    for generation in range(generations):\n",
    "        fitness_values=np.array([fitness(x) for x in population])\n",
    "        selected_population=select(population,fitness_values)\n",
    "        \n",
    "        #Create the next generation\n",
    "        next_generation=[]\n",
    "        for i in range(0,pop_size,2):\n",
    "            parent1, parent2=selected_population[i],selected_population[i+1]\n",
    "            offspring1=crossover(parent1,parent2)\n",
    "            offspring2=crossover(parent2,parent1)\n",
    "            next_generation.append(mutate(offspring1))\n",
    "            next_generation.append(mutate(offspring2))\n",
    "        \n",
    "        population=np.array(next_generation)\n",
    "    \n",
    "    #Find the best individual in the final population\n",
    "    best_individual=population[np.argmin([fitness(x) for x in population])]\n",
    "    return best_individual\n",
    "\n",
    "x_min_ea=evolutionary_algorithm()\n",
    "print(f\"Minimum value of x using Evolutionary Algorithm: {x_min_ea}\")"
   ]
  }
 ],
 "metadata": {
  "kernelspec": {
   "display_name": "Python 3 (ipykernel)",
   "language": "python",
   "name": "python3"
  },
  "language_info": {
   "codemirror_mode": {
    "name": "ipython",
    "version": 3
   },
   "file_extension": ".py",
   "mimetype": "text/x-python",
   "name": "python",
   "nbconvert_exporter": "python",
   "pygments_lexer": "ipython3",
   "version": "3.9.12"
  }
 },
 "nbformat": 4,
 "nbformat_minor": 5
}
